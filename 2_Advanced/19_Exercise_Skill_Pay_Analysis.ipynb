{
 "cells": [
  {
   "cell_type": "markdown",
   "id": "1ecfd711",
   "metadata": {},
   "source": [
    "Exercise - Investigate High Paying Skills\n"
   ]
  },
  {
   "cell_type": "markdown",
   "id": "4b1cc1cd",
   "metadata": {},
   "source": [
    "Topics Covered\n",
    "\n",
    "This exercise goes over:\n",
    "\n",
    "- Plotting\n",
    "- Customization\n",
    "\n",
    "Question\n",
    "\n",
    "In our project we want to analyze salary data. Here's what we'll be focusing on:\n",
    "\n",
    "- Visualize for highest paying skills\n",
    "- Visualize for highest demanded skills\n"
   ]
  },
  {
   "cell_type": "markdown",
   "id": "0d4f8e5e",
   "metadata": {},
   "source": [
    "Load data.\n"
   ]
  },
  {
   "cell_type": "code",
   "execution_count": 1,
   "id": "698a8b2e",
   "metadata": {},
   "outputs": [],
   "source": [
    "# Importing Libraries\n",
    "import ast\n",
    "import pandas as pd\n",
    "from datasets import load_dataset\n",
    "import matplotlib.pyplot as plt\n",
    "\n",
    "# Loading Data\n",
    "dataset = load_dataset('lukebarousse/data_jobs')\n",
    "df = dataset['train'].to_pandas()\n",
    "\n",
    "# Data Cleanup\n",
    "df['job_posted_date'] = pd.to_datetime(df['job_posted_date'])\n",
    "df['job_skills'] = df['job_skills'].apply(\n",
    "    lambda x: ast.literal_eval(x) if pd.notna(x) else x)"
   ]
  },
  {
   "cell_type": "code",
   "execution_count": 2,
   "id": "b265ebb3",
   "metadata": {},
   "outputs": [],
   "source": [
    "# Only get data analyst jobs in the US\n",
    "df_DA_US = df[(df['job_title_short'] == 'Data Analyst') &\n",
    "              (df['job_country'] == 'United States')].copy()\n",
    "\n",
    "# Drop NaN values from the 'salary_year_avg' column for accurate visualization\n",
    "df_DA_US = df_DA_US.dropna(subset=['salary_year_avg'])"
   ]
  },
  {
   "cell_type": "markdown",
   "id": "910beacf",
   "metadata": {},
   "source": [
    "Visualize for highest paying skills\n"
   ]
  },
  {
   "cell_type": "markdown",
   "id": "6bc976ee",
   "metadata": {},
   "source": [
    "1. Explode out the skills column.\n"
   ]
  },
  {
   "cell_type": "code",
   "execution_count": 3,
   "id": "63606452",
   "metadata": {},
   "outputs": [
    {
     "data": {
      "application/vnd.microsoft.datawrangler.viewer.v0+json": {
       "columns": [
        {
         "name": "index",
         "rawType": "int64",
         "type": "integer"
        },
        {
         "name": "salary_year_avg",
         "rawType": "float64",
         "type": "float"
        },
        {
         "name": "job_skills",
         "rawType": "object",
         "type": "string"
        }
       ],
       "ref": "ecc34a99-5319-4e3d-beb7-54599f7e3542",
       "rows": [
        [
         "109",
         "89000.0",
         "python"
        ],
        [
         "109",
         "89000.0",
         "r"
        ],
        [
         "109",
         "89000.0",
         "alteryx"
        ],
        [
         "109",
         "89000.0",
         "tableau"
        ],
        [
         "180",
         "90250.0",
         "excel"
        ]
       ],
       "shape": {
        "columns": 2,
        "rows": 5
       }
      },
      "text/html": [
       "<div>\n",
       "<style scoped>\n",
       "    .dataframe tbody tr th:only-of-type {\n",
       "        vertical-align: middle;\n",
       "    }\n",
       "\n",
       "    .dataframe tbody tr th {\n",
       "        vertical-align: top;\n",
       "    }\n",
       "\n",
       "    .dataframe thead th {\n",
       "        text-align: right;\n",
       "    }\n",
       "</style>\n",
       "<table border=\"1\" class=\"dataframe\">\n",
       "  <thead>\n",
       "    <tr style=\"text-align: right;\">\n",
       "      <th></th>\n",
       "      <th>salary_year_avg</th>\n",
       "      <th>job_skills</th>\n",
       "    </tr>\n",
       "  </thead>\n",
       "  <tbody>\n",
       "    <tr>\n",
       "      <th>109</th>\n",
       "      <td>89000.0</td>\n",
       "      <td>python</td>\n",
       "    </tr>\n",
       "    <tr>\n",
       "      <th>109</th>\n",
       "      <td>89000.0</td>\n",
       "      <td>r</td>\n",
       "    </tr>\n",
       "    <tr>\n",
       "      <th>109</th>\n",
       "      <td>89000.0</td>\n",
       "      <td>alteryx</td>\n",
       "    </tr>\n",
       "    <tr>\n",
       "      <th>109</th>\n",
       "      <td>89000.0</td>\n",
       "      <td>tableau</td>\n",
       "    </tr>\n",
       "    <tr>\n",
       "      <th>180</th>\n",
       "      <td>90250.0</td>\n",
       "      <td>excel</td>\n",
       "    </tr>\n",
       "  </tbody>\n",
       "</table>\n",
       "</div>"
      ],
      "text/plain": [
       "     salary_year_avg job_skills\n",
       "109          89000.0     python\n",
       "109          89000.0          r\n",
       "109          89000.0    alteryx\n",
       "109          89000.0    tableau\n",
       "180          90250.0      excel"
      ]
     },
     "execution_count": 3,
     "metadata": {},
     "output_type": "execute_result"
    }
   ],
   "source": [
    "df_DA_US = df_DA_US.explode('job_skills')\n",
    "\n",
    "df_DA_US[['salary_year_avg', 'job_skills']].head(5)"
   ]
  },
  {
   "cell_type": "markdown",
   "id": "d5d19d62",
   "metadata": {},
   "source": [
    "2. Get the highest paying skills (order by highest to lowest).\n"
   ]
  },
  {
   "cell_type": "code",
   "execution_count": 4,
   "id": "55b862ef",
   "metadata": {},
   "outputs": [
    {
     "data": {
      "application/vnd.microsoft.datawrangler.viewer.v0+json": {
       "columns": [
        {
         "name": "job_skills",
         "rawType": "object",
         "type": "string"
        },
        {
         "name": "count",
         "rawType": "int64",
         "type": "integer"
        },
        {
         "name": "median",
         "rawType": "float64",
         "type": "float"
        }
       ],
       "ref": "34ddad27-4043-464f-8f84-e5c2086deef8",
       "rows": [
        [
         "dplyr",
         "2",
         "196250.0"
        ],
        [
         "bitbucket",
         "3",
         "189000.0"
        ],
        [
         "gitlab",
         "3",
         "186000.0"
        ],
        [
         "solidity",
         "1",
         "179000.0"
        ],
        [
         "hugging face",
         "1",
         "175000.0"
        ],
        [
         "couchbase",
         "1",
         "160515.0"
        ],
        [
         "ansible",
         "1",
         "159640.0"
        ],
        [
         "mxnet",
         "2",
         "149000.0"
        ],
        [
         "cassandra",
         "6",
         "148250.0"
        ],
        [
         "vmware",
         "1",
         "147500.0"
        ]
       ],
       "shape": {
        "columns": 2,
        "rows": 10
       }
      },
      "text/html": [
       "<div>\n",
       "<style scoped>\n",
       "    .dataframe tbody tr th:only-of-type {\n",
       "        vertical-align: middle;\n",
       "    }\n",
       "\n",
       "    .dataframe tbody tr th {\n",
       "        vertical-align: top;\n",
       "    }\n",
       "\n",
       "    .dataframe thead th {\n",
       "        text-align: right;\n",
       "    }\n",
       "</style>\n",
       "<table border=\"1\" class=\"dataframe\">\n",
       "  <thead>\n",
       "    <tr style=\"text-align: right;\">\n",
       "      <th></th>\n",
       "      <th>count</th>\n",
       "      <th>median</th>\n",
       "    </tr>\n",
       "    <tr>\n",
       "      <th>job_skills</th>\n",
       "      <th></th>\n",
       "      <th></th>\n",
       "    </tr>\n",
       "  </thead>\n",
       "  <tbody>\n",
       "    <tr>\n",
       "      <th>dplyr</th>\n",
       "      <td>2</td>\n",
       "      <td>196250.0</td>\n",
       "    </tr>\n",
       "    <tr>\n",
       "      <th>bitbucket</th>\n",
       "      <td>3</td>\n",
       "      <td>189000.0</td>\n",
       "    </tr>\n",
       "    <tr>\n",
       "      <th>gitlab</th>\n",
       "      <td>3</td>\n",
       "      <td>186000.0</td>\n",
       "    </tr>\n",
       "    <tr>\n",
       "      <th>solidity</th>\n",
       "      <td>1</td>\n",
       "      <td>179000.0</td>\n",
       "    </tr>\n",
       "    <tr>\n",
       "      <th>hugging face</th>\n",
       "      <td>1</td>\n",
       "      <td>175000.0</td>\n",
       "    </tr>\n",
       "    <tr>\n",
       "      <th>couchbase</th>\n",
       "      <td>1</td>\n",
       "      <td>160515.0</td>\n",
       "    </tr>\n",
       "    <tr>\n",
       "      <th>ansible</th>\n",
       "      <td>1</td>\n",
       "      <td>159640.0</td>\n",
       "    </tr>\n",
       "    <tr>\n",
       "      <th>mxnet</th>\n",
       "      <td>2</td>\n",
       "      <td>149000.0</td>\n",
       "    </tr>\n",
       "    <tr>\n",
       "      <th>cassandra</th>\n",
       "      <td>6</td>\n",
       "      <td>148250.0</td>\n",
       "    </tr>\n",
       "    <tr>\n",
       "      <th>vmware</th>\n",
       "      <td>1</td>\n",
       "      <td>147500.0</td>\n",
       "    </tr>\n",
       "  </tbody>\n",
       "</table>\n",
       "</div>"
      ],
      "text/plain": [
       "              count    median\n",
       "job_skills                   \n",
       "dplyr             2  196250.0\n",
       "bitbucket         3  189000.0\n",
       "gitlab            3  186000.0\n",
       "solidity          1  179000.0\n",
       "hugging face      1  175000.0\n",
       "couchbase         1  160515.0\n",
       "ansible           1  159640.0\n",
       "mxnet             2  149000.0\n",
       "cassandra         6  148250.0\n",
       "vmware            1  147500.0"
      ]
     },
     "execution_count": 4,
     "metadata": {},
     "output_type": "execute_result"
    }
   ],
   "source": [
    "df_DA_top_pay = df_DA_US.groupby('job_skills')['salary_year_avg'].agg(\n",
    "    ['count', 'median']).sort_values(by='median', ascending=False)\n",
    "\n",
    "df_DA_top_pay = df_DA_top_pay.head(10)\n",
    "\n",
    "df_DA_top_pay"
   ]
  },
  {
   "cell_type": "markdown",
   "id": "c4e7649f",
   "metadata": {},
   "source": [
    "3. Match up the highest count (demand) of skills and highest median salary by skill for data analyst roles.\n"
   ]
  },
  {
   "cell_type": "code",
   "execution_count": 5,
   "id": "b818922a",
   "metadata": {},
   "outputs": [
    {
     "data": {
      "application/vnd.microsoft.datawrangler.viewer.v0+json": {
       "columns": [
        {
         "name": "job_skills",
         "rawType": "object",
         "type": "string"
        },
        {
         "name": "count",
         "rawType": "int64",
         "type": "integer"
        },
        {
         "name": "median",
         "rawType": "float64",
         "type": "float"
        }
       ],
       "ref": "deacaec2-c6ae-43cb-8e08-21fc496ed32c",
       "rows": [
        [
         "python",
         "1431",
         "97500.0"
        ],
        [
         "tableau",
         "1364",
         "92875.0"
        ],
        [
         "r",
         "893",
         "92500.0"
        ],
        [
         "sql server",
         "286",
         "92500.0"
        ],
        [
         "sql",
         "2508",
         "91000.0"
        ],
        [
         "sas",
         "926",
         "90000.0"
        ],
        [
         "power bi",
         "838",
         "90000.0"
        ],
        [
         "powerpoint",
         "462",
         "85000.0"
        ],
        [
         "excel",
         "1808",
         "84392.0"
        ],
        [
         "word",
         "461",
         "81194.75"
        ]
       ],
       "shape": {
        "columns": 2,
        "rows": 10
       }
      },
      "text/html": [
       "<div>\n",
       "<style scoped>\n",
       "    .dataframe tbody tr th:only-of-type {\n",
       "        vertical-align: middle;\n",
       "    }\n",
       "\n",
       "    .dataframe tbody tr th {\n",
       "        vertical-align: top;\n",
       "    }\n",
       "\n",
       "    .dataframe thead th {\n",
       "        text-align: right;\n",
       "    }\n",
       "</style>\n",
       "<table border=\"1\" class=\"dataframe\">\n",
       "  <thead>\n",
       "    <tr style=\"text-align: right;\">\n",
       "      <th></th>\n",
       "      <th>count</th>\n",
       "      <th>median</th>\n",
       "    </tr>\n",
       "    <tr>\n",
       "      <th>job_skills</th>\n",
       "      <th></th>\n",
       "      <th></th>\n",
       "    </tr>\n",
       "  </thead>\n",
       "  <tbody>\n",
       "    <tr>\n",
       "      <th>python</th>\n",
       "      <td>1431</td>\n",
       "      <td>97500.00</td>\n",
       "    </tr>\n",
       "    <tr>\n",
       "      <th>tableau</th>\n",
       "      <td>1364</td>\n",
       "      <td>92875.00</td>\n",
       "    </tr>\n",
       "    <tr>\n",
       "      <th>r</th>\n",
       "      <td>893</td>\n",
       "      <td>92500.00</td>\n",
       "    </tr>\n",
       "    <tr>\n",
       "      <th>sql server</th>\n",
       "      <td>286</td>\n",
       "      <td>92500.00</td>\n",
       "    </tr>\n",
       "    <tr>\n",
       "      <th>sql</th>\n",
       "      <td>2508</td>\n",
       "      <td>91000.00</td>\n",
       "    </tr>\n",
       "    <tr>\n",
       "      <th>sas</th>\n",
       "      <td>926</td>\n",
       "      <td>90000.00</td>\n",
       "    </tr>\n",
       "    <tr>\n",
       "      <th>power bi</th>\n",
       "      <td>838</td>\n",
       "      <td>90000.00</td>\n",
       "    </tr>\n",
       "    <tr>\n",
       "      <th>powerpoint</th>\n",
       "      <td>462</td>\n",
       "      <td>85000.00</td>\n",
       "    </tr>\n",
       "    <tr>\n",
       "      <th>excel</th>\n",
       "      <td>1808</td>\n",
       "      <td>84392.00</td>\n",
       "    </tr>\n",
       "    <tr>\n",
       "      <th>word</th>\n",
       "      <td>461</td>\n",
       "      <td>81194.75</td>\n",
       "    </tr>\n",
       "  </tbody>\n",
       "</table>\n",
       "</div>"
      ],
      "text/plain": [
       "            count    median\n",
       "job_skills                 \n",
       "python       1431  97500.00\n",
       "tableau      1364  92875.00\n",
       "r             893  92500.00\n",
       "sql server    286  92500.00\n",
       "sql          2508  91000.00\n",
       "sas           926  90000.00\n",
       "power bi      838  90000.00\n",
       "powerpoint    462  85000.00\n",
       "excel        1808  84392.00\n",
       "word          461  81194.75"
      ]
     },
     "execution_count": 5,
     "metadata": {},
     "output_type": "execute_result"
    }
   ],
   "source": [
    "df_DA_skills = df_DA_US.groupby('job_skills')['salary_year_avg'].agg(\n",
    "    ['count', 'median']).sort_values(by='count', ascending=False)\n",
    "\n",
    "df_DA_skills = df_DA_skills.head(10).sort_values(by='median', ascending=False)\n",
    "\n",
    "df_DA_skills"
   ]
  },
  {
   "cell_type": "markdown",
   "id": "203a43aa",
   "metadata": {},
   "source": [
    "Plot\n"
   ]
  },
  {
   "cell_type": "markdown",
   "id": "c4cfdaf7",
   "metadata": {},
   "source": [
    "Let's plot these next to each other using `subplots()`.\n"
   ]
  },
  {
   "cell_type": "code",
   "execution_count": 6,
   "id": "e5f6d73b",
   "metadata": {},
   "outputs": [
    {
     "data": {
      "image/png": "[encoded data removed]",
      "text/plain": [
       "<Figure size 640x480 with 2 Axes>"
      ]
     },
     "metadata": {},
     "output_type": "display_data"
    }
   ],
   "source": [
    "fig, ax = plt.subplots(2, 1)\n",
    "\n",
    "# Top 10 Highest Paid Skills for Data Analysts\n",
    "df_DA_top_pay[::-1].plot(kind='barh', y='median', ax=ax[0], legend=False)\n",
    "ax[0].set_title('Top 10 Highest Paid Skills for Data Analysts')\n",
    "ax[0].set_ylabel('')\n",
    "ax[0].set_xlabel('')\n",
    "ax[0].xaxis.set_major_formatter(\n",
    "    plt.FuncFormatter(lambda x, _: f'S{int(x/1000)}K'))\n",
    "\n",
    "# Top 10 Most In-Demand Skills for Data Analysts\n",
    "df_DA_skills[::-1].plot(kind='barh', y='median', ax=ax[1], legend=False)\n",
    "ax[1].set_title('Top 10 Most In-Demand Skills for Data Analysts')\n",
    "ax[1].set_ylabel('')\n",
    "ax[1].set_xlabel('Median Salary (USD)')\n",
    "ax[1].xaxis.set_major_formatter(\n",
    "    plt.FuncFormatter(lambda x, _: f'S{int(x/1000)}K'))\n",
    "\n",
    "plt.tight_layout()\n",
    "plt.show()"
   ]
  }
 ],
 "metadata": {
  "kernelspec": {
   "display_name": "Python 3",
   "language": "python",
   "name": "python3"
  },
  "language_info": {
   "codemirror_mode": {
    "name": "ipython",
    "version": 3
   },
   "file_extension": ".py",
   "mimetype": "text/x-python",
   "name": "python",
   "nbconvert_exporter": "python",
   "pygments_lexer": "ipython3",
   "version": "3.13.7"
  }
 },
 "nbformat": 4,
 "nbformat_minor": 5
}
