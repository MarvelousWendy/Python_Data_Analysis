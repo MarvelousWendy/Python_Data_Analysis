{
 "cells": [
  {
   "cell_type": "markdown",
   "metadata": {
    "id": "0nw76MUlxPs_"
   },
   "source": [
    "Pandas Accessing Data\n"
   ]
  },
  {
   "cell_type": "markdown",
   "metadata": {
    "id": "cKwE_R5ZxRou"
   },
   "source": [
    "Review Data\n",
    "\n",
    "Let's load in the data using `read_csv` and quickly review it using `head()`.\n"
   ]
  },
  {
   "cell_type": "code",
   "execution_count": 1,
   "metadata": {
    "executionInfo": {
     "elapsed": 13962,
     "status": "ok",
     "timestamp": 1758083151767,
     "user": {
      "displayName": "Wende Zhou",
      "userId": "15441026311543276223"
     },
     "user_tz": -480
    },
    "id": "2cTC1rAlxKSH"
   },
   "outputs": [],
   "source": [
    "# Importing Libraries\n",
    "import pandas as pd\n",
    "from datasets import load_dataset\n",
    "import matplotlib.pyplot as plt\n",
    "\n",
    "# Loading Data\n",
    "dataset = load_dataset('lukebarousse/data_jobs')\n",
    "df = dataset['train'].to_pandas()\n",
    "\n",
    "# Data Cleanup\n",
    "df.job_posted_date = pd.to_datetime(df.job_posted_date)"
   ]
  },
  {
   "cell_type": "code",
   "execution_count": 2,
   "metadata": {
    "colab": {
     "base_uri": "https://localhost:8080/"
    },
    "executionInfo": {
     "elapsed": 736,
     "status": "ok",
     "timestamp": 1758083152506,
     "user": {
      "displayName": "Wende Zhou",
      "userId": "15441026311543276223"
     },
     "user_tz": -480
    },
    "id": "gEiXEDF0RF9j",
    "outputId": "73c596cd-6bda-43c6-c65d-d24750f13215"
   },
   "outputs": [
    {
     "name": "stdout",
     "output_type": "stream",
     "text": [
      "<class 'pandas.core.frame.DataFrame'>\n",
      "RangeIndex: 785741 entries, 0 to 785740\n",
      "Data columns (total 17 columns):\n",
      " #   Column                 Non-Null Count   Dtype         \n",
      "---  ------                 --------------   -----         \n",
      " 0   job_title_short        785741 non-null  object        \n",
      " 1   job_title              785740 non-null  object        \n",
      " 2   job_location           784696 non-null  object        \n",
      " 3   job_via                785733 non-null  object        \n",
      " 4   job_schedule_type      773074 non-null  object        \n",
      " 5   job_work_from_home     785741 non-null  bool          \n",
      " 6   search_location        785741 non-null  object        \n",
      " 7   job_posted_date        785741 non-null  datetime64[ns]\n",
      " 8   job_no_degree_mention  785741 non-null  bool          \n",
      " 9   job_health_insurance   785741 non-null  bool          \n",
      " 10  job_country            785692 non-null  object        \n",
      " 11  salary_rate            33067 non-null   object        \n",
      " 12  salary_year_avg        22003 non-null   float64       \n",
      " 13  salary_hour_avg        10662 non-null   float64       \n",
      " 14  company_name           785723 non-null  object        \n",
      " 15  job_skills             668704 non-null  object        \n",
      " 16  job_type_skills        668704 non-null  object        \n",
      "dtypes: bool(3), datetime64[ns](1), float64(2), object(11)\n",
      "memory usage: 86.2+ MB\n"
     ]
    }
   ],
   "source": [
    "df.info()"
   ]
  },
  {
   "cell_type": "code",
   "execution_count": 3,
   "metadata": {
    "colab": {
     "base_uri": "https://localhost:8080/",
     "height": 0
    },
    "executionInfo": {
     "elapsed": 4,
     "status": "ok",
     "timestamp": 1758083152514,
     "user": {
      "displayName": "Wende Zhou",
      "userId": "15441026311543276223"
     },
     "user_tz": -480
    },
    "id": "Dsco1Zd3xkl5",
    "outputId": "8cf2b23e-8cdf-4a7f-e64d-4907ebc71629"
   },
   "outputs": [
    {
     "data": {
      "application/vnd.microsoft.datawrangler.viewer.v0+json": {
       "columns": [
        {
         "name": "index",
         "rawType": "int64",
         "type": "integer"
        },
        {
         "name": "job_title_short",
         "rawType": "object",
         "type": "string"
        },
        {
         "name": "job_title",
         "rawType": "object",
         "type": "string"
        },
        {
         "name": "job_location",
         "rawType": "object",
         "type": "string"
        },
        {
         "name": "job_via",
         "rawType": "object",
         "type": "string"
        },
        {
         "name": "job_schedule_type",
         "rawType": "object",
         "type": "string"
        },
        {
         "name": "job_work_from_home",
         "rawType": "bool",
         "type": "boolean"
        },
        {
         "name": "search_location",
         "rawType": "object",
         "type": "string"
        },
        {
         "name": "job_posted_date",
         "rawType": "datetime64[ns]",
         "type": "datetime"
        },
        {
         "name": "job_no_degree_mention",
         "rawType": "bool",
         "type": "boolean"
        },
        {
         "name": "job_health_insurance",
         "rawType": "bool",
         "type": "boolean"
        },
        {
         "name": "job_country",
         "rawType": "object",
         "type": "string"
        },
        {
         "name": "salary_rate",
         "rawType": "object",
         "type": "unknown"
        },
        {
         "name": "salary_year_avg",
         "rawType": "float64",
         "type": "float"
        },
        {
         "name": "salary_hour_avg",
         "rawType": "float64",
         "type": "float"
        },
        {
         "name": "company_name",
         "rawType": "object",
         "type": "string"
        },
        {
         "name": "job_skills",
         "rawType": "object",
         "type": "unknown"
        },
        {
         "name": "job_type_skills",
         "rawType": "object",
         "type": "unknown"
        }
       ],
       "ref": "9afe44e8-e3dc-461b-8b39-08f01bf7306b",
       "rows": [
        [
         "0",
         "Senior Data Engineer",
         "Senior Clinical Data Engineer / Principal Clinical Data Engineer ...",
         "Watertown, CT",
         "via Work Nearby",
         "Full-time",
         "False",
         "Texas, United States",
         "2023-06-16 13:44:15",
         "False",
         "False",
         "United States",
         null,
         null,
         null,
         "Boehringer Ingelheim",
         null,
         null
        ],
        [
         "1",
         "Data Analyst",
         "Data Analyst",
         "Guadalajara, Jalisco, Mexico",
         "via BeBee México",
         "Full-time",
         "False",
         "Mexico",
         "2023-01-14 13:18:07",
         "False",
         "False",
         "Mexico",
         null,
         null,
         null,
         "Hewlett Packard Enterprise",
         "['r', 'python', 'sql', 'nosql', 'power bi', 'tableau']",
         "{'analyst_tools': ['power bi', 'tableau'], 'programming': ['r', 'python', 'sql', 'nosql']}"
        ],
        [
         "2",
         "Data Engineer",
         "Data Engineer/Scientist/Analyst, Mid or Senior (m/f/x)",
         "Berlin, Germany",
         "via LinkedIn",
         "Full-time",
         "False",
         "Germany",
         "2023-10-10 13:14:55",
         "False",
         "False",
         "Germany",
         null,
         null,
         null,
         "ALPHA Augmented Services",
         "['python', 'sql', 'c#', 'azure', 'airflow', 'dax', 'docker', 'kubernetes', 'jenkins']",
         "{'analyst_tools': ['dax'], 'cloud': ['azure'], 'libraries': ['airflow'], 'other': ['docker', 'kubernetes', 'jenkins'], 'programming': ['python', 'sql', 'c#']}"
        ],
        [
         "3",
         "Data Engineer",
         "LEAD ENGINEER - PRINCIPAL ANALYST - PRINCIPAL ENGINEER -  DATA...",
         "San Antonio, TX",
         "via Diversity.com",
         "Full-time",
         "False",
         "Texas, United States",
         "2023-07-04 13:01:41",
         "True",
         "False",
         "United States",
         null,
         null,
         null,
         "Southwest Research Institute",
         "['python', 'c++', 'java', 'matlab', 'aws', 'tensorflow', 'keras', 'pytorch']",
         "{'cloud': ['aws'], 'libraries': ['tensorflow', 'keras', 'pytorch'], 'programming': ['python', 'c++', 'java', 'matlab']}"
        ],
        [
         "4",
         "Data Engineer",
         "Data Engineer- Sr Jobs",
         "Washington, DC",
         "via Clearance Jobs",
         "Full-time",
         "False",
         "Sudan",
         "2023-08-07 14:29:36",
         "False",
         "False",
         "Sudan",
         null,
         null,
         null,
         "Kristina Daniel",
         "['bash', 'python', 'oracle', 'aws', 'ansible', 'puppet', 'jenkins', 'gitlab', 'git']",
         "{'cloud': ['oracle', 'aws'], 'other': ['ansible', 'puppet', 'jenkins', 'gitlab', 'git'], 'programming': ['bash', 'python']}"
        ]
       ],
       "shape": {
        "columns": 17,
        "rows": 5
       }
      },
      "text/html": [
       "<div>\n",
       "<style scoped>\n",
       "    .dataframe tbody tr th:only-of-type {\n",
       "        vertical-align: middle;\n",
       "    }\n",
       "\n",
       "    .dataframe tbody tr th {\n",
       "        vertical-align: top;\n",
       "    }\n",
       "\n",
       "    .dataframe thead th {\n",
       "        text-align: right;\n",
       "    }\n",
       "</style>\n",
       "<table border=\"1\" class=\"dataframe\">\n",
       "  <thead>\n",
       "    <tr style=\"text-align: right;\">\n",
       "      <th></th>\n",
       "      <th>job_title_short</th>\n",
       "      <th>job_title</th>\n",
       "      <th>job_location</th>\n",
       "      <th>job_via</th>\n",
       "      <th>job_schedule_type</th>\n",
       "      <th>job_work_from_home</th>\n",
       "      <th>search_location</th>\n",
       "      <th>job_posted_date</th>\n",
       "      <th>job_no_degree_mention</th>\n",
       "      <th>job_health_insurance</th>\n",
       "      <th>job_country</th>\n",
       "      <th>salary_rate</th>\n",
       "      <th>salary_year_avg</th>\n",
       "      <th>salary_hour_avg</th>\n",
       "      <th>company_name</th>\n",
       "      <th>job_skills</th>\n",
       "      <th>job_type_skills</th>\n",
       "    </tr>\n",
       "  </thead>\n",
       "  <tbody>\n",
       "    <tr>\n",
       "      <th>0</th>\n",
       "      <td>Senior Data Engineer</td>\n",
       "      <td>Senior Clinical Data Engineer / Principal Clin...</td>\n",
       "      <td>Watertown, CT</td>\n",
       "      <td>via Work Nearby</td>\n",
       "      <td>Full-time</td>\n",
       "      <td>False</td>\n",
       "      <td>Texas, United States</td>\n",
       "      <td>2023-06-16 13:44:15</td>\n",
       "      <td>False</td>\n",
       "      <td>False</td>\n",
       "      <td>United States</td>\n",
       "      <td>None</td>\n",
       "      <td>NaN</td>\n",
       "      <td>NaN</td>\n",
       "      <td>Boehringer Ingelheim</td>\n",
       "      <td>None</td>\n",
       "      <td>None</td>\n",
       "    </tr>\n",
       "    <tr>\n",
       "      <th>1</th>\n",
       "      <td>Data Analyst</td>\n",
       "      <td>Data Analyst</td>\n",
       "      <td>Guadalajara, Jalisco, Mexico</td>\n",
       "      <td>via BeBee México</td>\n",
       "      <td>Full-time</td>\n",
       "      <td>False</td>\n",
       "      <td>Mexico</td>\n",
       "      <td>2023-01-14 13:18:07</td>\n",
       "      <td>False</td>\n",
       "      <td>False</td>\n",
       "      <td>Mexico</td>\n",
       "      <td>None</td>\n",
       "      <td>NaN</td>\n",
       "      <td>NaN</td>\n",
       "      <td>Hewlett Packard Enterprise</td>\n",
       "      <td>['r', 'python', 'sql', 'nosql', 'power bi', 't...</td>\n",
       "      <td>{'analyst_tools': ['power bi', 'tableau'], 'pr...</td>\n",
       "    </tr>\n",
       "    <tr>\n",
       "      <th>2</th>\n",
       "      <td>Data Engineer</td>\n",
       "      <td>Data Engineer/Scientist/Analyst, Mid or Senior...</td>\n",
       "      <td>Berlin, Germany</td>\n",
       "      <td>via LinkedIn</td>\n",
       "      <td>Full-time</td>\n",
       "      <td>False</td>\n",
       "      <td>Germany</td>\n",
       "      <td>2023-10-10 13:14:55</td>\n",
       "      <td>False</td>\n",
       "      <td>False</td>\n",
       "      <td>Germany</td>\n",
       "      <td>None</td>\n",
       "      <td>NaN</td>\n",
       "      <td>NaN</td>\n",
       "      <td>ALPHA Augmented Services</td>\n",
       "      <td>['python', 'sql', 'c#', 'azure', 'airflow', 'd...</td>\n",
       "      <td>{'analyst_tools': ['dax'], 'cloud': ['azure'],...</td>\n",
       "    </tr>\n",
       "    <tr>\n",
       "      <th>3</th>\n",
       "      <td>Data Engineer</td>\n",
       "      <td>LEAD ENGINEER - PRINCIPAL ANALYST - PRINCIPAL ...</td>\n",
       "      <td>San Antonio, TX</td>\n",
       "      <td>via Diversity.com</td>\n",
       "      <td>Full-time</td>\n",
       "      <td>False</td>\n",
       "      <td>Texas, United States</td>\n",
       "      <td>2023-07-04 13:01:41</td>\n",
       "      <td>True</td>\n",
       "      <td>False</td>\n",
       "      <td>United States</td>\n",
       "      <td>None</td>\n",
       "      <td>NaN</td>\n",
       "      <td>NaN</td>\n",
       "      <td>Southwest Research Institute</td>\n",
       "      <td>['python', 'c++', 'java', 'matlab', 'aws', 'te...</td>\n",
       "      <td>{'cloud': ['aws'], 'libraries': ['tensorflow',...</td>\n",
       "    </tr>\n",
       "    <tr>\n",
       "      <th>4</th>\n",
       "      <td>Data Engineer</td>\n",
       "      <td>Data Engineer- Sr Jobs</td>\n",
       "      <td>Washington, DC</td>\n",
       "      <td>via Clearance Jobs</td>\n",
       "      <td>Full-time</td>\n",
       "      <td>False</td>\n",
       "      <td>Sudan</td>\n",
       "      <td>2023-08-07 14:29:36</td>\n",
       "      <td>False</td>\n",
       "      <td>False</td>\n",
       "      <td>Sudan</td>\n",
       "      <td>None</td>\n",
       "      <td>NaN</td>\n",
       "      <td>NaN</td>\n",
       "      <td>Kristina Daniel</td>\n",
       "      <td>['bash', 'python', 'oracle', 'aws', 'ansible',...</td>\n",
       "      <td>{'cloud': ['oracle', 'aws'], 'other': ['ansibl...</td>\n",
       "    </tr>\n",
       "  </tbody>\n",
       "</table>\n",
       "</div>"
      ],
      "text/plain": [
       "        job_title_short                                          job_title  \\\n",
       "0  Senior Data Engineer  Senior Clinical Data Engineer / Principal Clin...   \n",
       "1          Data Analyst                                       Data Analyst   \n",
       "2         Data Engineer  Data Engineer/Scientist/Analyst, Mid or Senior...   \n",
       "3         Data Engineer  LEAD ENGINEER - PRINCIPAL ANALYST - PRINCIPAL ...   \n",
       "4         Data Engineer                             Data Engineer- Sr Jobs   \n",
       "\n",
       "                   job_location             job_via job_schedule_type  \\\n",
       "0                 Watertown, CT     via Work Nearby         Full-time   \n",
       "1  Guadalajara, Jalisco, Mexico    via BeBee México         Full-time   \n",
       "2               Berlin, Germany        via LinkedIn         Full-time   \n",
       "3               San Antonio, TX   via Diversity.com         Full-time   \n",
       "4                Washington, DC  via Clearance Jobs         Full-time   \n",
       "\n",
       "   job_work_from_home       search_location     job_posted_date  \\\n",
       "0               False  Texas, United States 2023-06-16 13:44:15   \n",
       "1               False                Mexico 2023-01-14 13:18:07   \n",
       "2               False               Germany 2023-10-10 13:14:55   \n",
       "3               False  Texas, United States 2023-07-04 13:01:41   \n",
       "4               False                 Sudan 2023-08-07 14:29:36   \n",
       "\n",
       "   job_no_degree_mention  job_health_insurance    job_country salary_rate  \\\n",
       "0                  False                 False  United States        None   \n",
       "1                  False                 False         Mexico        None   \n",
       "2                  False                 False        Germany        None   \n",
       "3                   True                 False  United States        None   \n",
       "4                  False                 False          Sudan        None   \n",
       "\n",
       "   salary_year_avg  salary_hour_avg                  company_name  \\\n",
       "0              NaN              NaN          Boehringer Ingelheim   \n",
       "1              NaN              NaN    Hewlett Packard Enterprise   \n",
       "2              NaN              NaN      ALPHA Augmented Services   \n",
       "3              NaN              NaN  Southwest Research Institute   \n",
       "4              NaN              NaN               Kristina Daniel   \n",
       "\n",
       "                                          job_skills  \\\n",
       "0                                               None   \n",
       "1  ['r', 'python', 'sql', 'nosql', 'power bi', 't...   \n",
       "2  ['python', 'sql', 'c#', 'azure', 'airflow', 'd...   \n",
       "3  ['python', 'c++', 'java', 'matlab', 'aws', 'te...   \n",
       "4  ['bash', 'python', 'oracle', 'aws', 'ansible',...   \n",
       "\n",
       "                                     job_type_skills  \n",
       "0                                               None  \n",
       "1  {'analyst_tools': ['power bi', 'tableau'], 'pr...  \n",
       "2  {'analyst_tools': ['dax'], 'cloud': ['azure'],...  \n",
       "3  {'cloud': ['aws'], 'libraries': ['tensorflow',...  \n",
       "4  {'cloud': ['oracle', 'aws'], 'other': ['ansibl...  "
      ]
     },
     "execution_count": 3,
     "metadata": {},
     "output_type": "execute_result"
    }
   ],
   "source": [
    "df.head()"
   ]
  },
  {
   "cell_type": "markdown",
   "metadata": {
    "id": "TEiwli3JAuJb"
   },
   "source": [
    "We learned how to get rows using `iloc[]` before. But we can do a lot more with it. We can actually get rows _and_ columns.\n"
   ]
  },
  {
   "cell_type": "markdown",
   "metadata": {},
   "source": [
    "When to Choose `loc` vs. `iloc`?\n",
    "\n",
    "Use `loc`:\n",
    "\n",
    "When your DataFrame has meaningful index labels (e.g., 'a', 'b', or dates).\n",
    "When filtering data with conditions (e.g., df['Age'] > 30).\n",
    "When selecting specific columns by name.\n",
    "\n",
    "Use `iloc`:\n",
    "\n",
    "When you need to select data by position (e.g., first 5 rows, columns 2 and 3).\n",
    "When the index labels are irrelevant or you’re working with numerical indices.\n",
    "When programmatically accessing data by position (e.g., in a loop).\n",
    "\n",
    "Notes\n",
    "\n",
    "Performance: Both are efficient, but `iloc` can be slightly faster for large DataFrames when using integer positions.\n",
    "Errors: Using `loc` with a non-existent label raises a KeyError. Using `iloc` with an out-of-bounds position raises an IndexError.\n",
    "Mixed Indexing: Avoid mixing `loc` and `iloc` in the same operation to prevent confusion.\n"
   ]
  },
  {
   "cell_type": "code",
   "execution_count": null,
   "metadata": {},
   "outputs": [],
   "source": []
  },
  {
   "cell_type": "markdown",
   "metadata": {
    "id": "l8lNJ4qPA7oP"
   },
   "source": [
    "iloc\n",
    "\n",
    "Notes\n",
    "\n",
    "- `df.iloc[]`: Select rows and columns by position.\n",
    "\n",
    "Examples\n",
    "Using `iloc` let's:\n",
    "\n",
    "1. Get the first row (index 0).\n",
    "2. Get the `job_skills` element of the 3rd (index at 2) row.\n",
    "3. Get the `job_skills` (index 15) and `job_type_skills` (index 16) for the third (index 2) and fourth (index 3) rows.\n",
    "4. Get the first 12 rows of the DataFrame.\n",
    "5. Get the first five columns of the DataFrame and all of the rows.\n",
    "\n",
    "For this we'll need to know the index numbers for our DataFrame.\n"
   ]
  },
  {
   "cell_type": "markdown",
   "metadata": {
    "id": "2GyxEMiPBSSl"
   },
   "source": [
    "1. Get the first row.\n"
   ]
  },
  {
   "cell_type": "code",
   "execution_count": 4,
   "metadata": {
    "colab": {
     "base_uri": "https://localhost:8080/",
     "height": 0
    },
    "executionInfo": {
     "elapsed": 3,
     "status": "ok",
     "timestamp": 1758083152518,
     "user": {
      "displayName": "Wende Zhou",
      "userId": "15441026311543276223"
     },
     "user_tz": -480
    },
    "id": "XXs7b5z5xma2",
    "outputId": "eddc18fc-ed60-4313-8534-fcf0d1a22b8e"
   },
   "outputs": [
    {
     "data": {
      "application/vnd.microsoft.datawrangler.viewer.v0+json": {
       "columns": [
        {
         "name": "index",
         "rawType": "object",
         "type": "string"
        },
        {
         "name": "0",
         "rawType": "object",
         "type": "unknown"
        }
       ],
       "ref": "5f02a27b-5cd3-4890-b419-3e26990e9c38",
       "rows": [
        [
         "job_title_short",
         "Senior Data Engineer"
        ],
        [
         "job_title",
         "Senior Clinical Data Engineer / Principal Clinical Data Engineer ..."
        ],
        [
         "job_location",
         "Watertown, CT"
        ],
        [
         "job_via",
         "via Work Nearby"
        ],
        [
         "job_schedule_type",
         "Full-time"
        ],
        [
         "job_work_from_home",
         "False"
        ],
        [
         "search_location",
         "Texas, United States"
        ],
        [
         "job_posted_date",
         "2023-06-16 13:44:15"
        ],
        [
         "job_no_degree_mention",
         "False"
        ],
        [
         "job_health_insurance",
         "False"
        ],
        [
         "job_country",
         "United States"
        ],
        [
         "salary_rate",
         null
        ],
        [
         "salary_year_avg",
         null
        ],
        [
         "salary_hour_avg",
         null
        ],
        [
         "company_name",
         "Boehringer Ingelheim"
        ],
        [
         "job_skills",
         null
        ],
        [
         "job_type_skills",
         null
        ]
       ],
       "shape": {
        "columns": 1,
        "rows": 17
       }
      },
      "text/plain": [
       "job_title_short                                       Senior Data Engineer\n",
       "job_title                Senior Clinical Data Engineer / Principal Clin...\n",
       "job_location                                                 Watertown, CT\n",
       "job_via                                                    via Work Nearby\n",
       "job_schedule_type                                                Full-time\n",
       "job_work_from_home                                                   False\n",
       "search_location                                       Texas, United States\n",
       "job_posted_date                                        2023-06-16 13:44:15\n",
       "job_no_degree_mention                                                False\n",
       "job_health_insurance                                                 False\n",
       "job_country                                                  United States\n",
       "salary_rate                                                           None\n",
       "salary_year_avg                                                        NaN\n",
       "salary_hour_avg                                                        NaN\n",
       "company_name                                          Boehringer Ingelheim\n",
       "job_skills                                                            None\n",
       "job_type_skills                                                       None\n",
       "Name: 0, dtype: object"
      ]
     },
     "execution_count": 4,
     "metadata": {},
     "output_type": "execute_result"
    }
   ],
   "source": [
    "df.iloc[0]"
   ]
  },
  {
   "cell_type": "markdown",
   "metadata": {
    "id": "vv0GL8meBXzx"
   },
   "source": [
    "2. Get the `job_skills` element of the 3rd (index at 2) row.\n"
   ]
  },
  {
   "cell_type": "code",
   "execution_count": 5,
   "metadata": {
    "colab": {
     "base_uri": "https://localhost:8080/"
    },
    "executionInfo": {
     "elapsed": 7,
     "status": "ok",
     "timestamp": 1758083152526,
     "user": {
      "displayName": "Wende Zhou",
      "userId": "15441026311543276223"
     },
     "user_tz": -480
    },
    "id": "NtVZD8LwBUmE",
    "outputId": "ff9b3944-9014-46d6-b2b7-2ad5f7d11a42"
   },
   "outputs": [
    {
     "name": "stderr",
     "output_type": "stream",
     "text": [
      "/var/folders/4c/d3ftmjdx6ldd8ylkqq_nd7n40000gn/T/ipykernel_49328/2485859661.py:1: FutureWarning: Series.__getitem__ treating keys as positions is deprecated. In a future version, integer keys will always be treated as labels (consistent with DataFrame behavior). To access a value by position, use `ser.iloc[pos]`\n",
      "  df.iloc[0][15]\n"
     ]
    }
   ],
   "source": [
    "df.iloc[0][15]"
   ]
  },
  {
   "cell_type": "markdown",
   "metadata": {
    "id": "4x1HsFeRC0UF"
   },
   "source": [
    "Note: Use `df.iloc[0, 15]` instead of `df.iloc[0][15]` to ensure future compatibility with pandas.\n",
    "\n",
    "The use of chained indexing like `df.iloc[0][15]` is being deprecated in pandas, as it may lead to ambiguous behavior between positional and label-based access in future versions. By using `df.iloc[0, 15]`, you directly specify the position of the data you want to access, which is clearer and avoids potential future errors when pandas changes how integer keys are interpreted in series indexing.\n",
    "\n",
    "So we should instead write:\n"
   ]
  },
  {
   "cell_type": "code",
   "execution_count": 6,
   "metadata": {
    "colab": {
     "base_uri": "https://localhost:8080/"
    },
    "executionInfo": {
     "elapsed": 4,
     "status": "ok",
     "timestamp": 1758083152527,
     "user": {
      "displayName": "Wende Zhou",
      "userId": "15441026311543276223"
     },
     "user_tz": -480
    },
    "id": "hB2FG0cYB4sT",
    "outputId": "838341e3-ca5c-4c77-e628-eb2020e78094"
   },
   "outputs": [
    {
     "name": "stdout",
     "output_type": "stream",
     "text": [
      "None\n"
     ]
    }
   ],
   "source": [
    "print(df.iloc[0,15])"
   ]
  },
  {
   "cell_type": "markdown",
   "metadata": {
    "id": "DPGAmB6QDUdJ"
   },
   "source": [
    "3. Get the `job_skills` (index 15) and `job_type_skills` (index 16) for the third (index 2) and fourth (index 3) rows.\n",
    "   - To get third (index 2) and fourth (index 3) rows: `[2,3]`\n",
    "   - To get `job_skills` and `job_type_skills` which are index 15 and index 16 retrospectively: `[15,16]`\n",
    "   - Then you put those two into a list itself to get everything between these two: `df.iloc[[2,3],[15,16]]`\n"
   ]
  },
  {
   "cell_type": "code",
   "execution_count": 7,
   "metadata": {
    "colab": {
     "base_uri": "https://localhost:8080/",
     "height": 0
    },
    "executionInfo": {
     "elapsed": 2,
     "status": "ok",
     "timestamp": 1758083152529,
     "user": {
      "displayName": "Wende Zhou",
      "userId": "15441026311543276223"
     },
     "user_tz": -480
    },
    "id": "seozHaA1C3C-",
    "outputId": "87c8ee67-e8b2-4422-c1ee-256ec0e293c7"
   },
   "outputs": [
    {
     "data": {
      "application/vnd.microsoft.datawrangler.viewer.v0+json": {
       "columns": [
        {
         "name": "index",
         "rawType": "int64",
         "type": "integer"
        },
        {
         "name": "job_skills",
         "rawType": "object",
         "type": "string"
        },
        {
         "name": "job_type_skills",
         "rawType": "object",
         "type": "string"
        }
       ],
       "ref": "c19f69ed-853c-43b8-8c30-bb19467584c4",
       "rows": [
        [
         "2",
         "['python', 'sql', 'c#', 'azure', 'airflow', 'dax', 'docker', 'kubernetes', 'jenkins']",
         "{'analyst_tools': ['dax'], 'cloud': ['azure'], 'libraries': ['airflow'], 'other': ['docker', 'kubernetes', 'jenkins'], 'programming': ['python', 'sql', 'c#']}"
        ],
        [
         "3",
         "['python', 'c++', 'java', 'matlab', 'aws', 'tensorflow', 'keras', 'pytorch']",
         "{'cloud': ['aws'], 'libraries': ['tensorflow', 'keras', 'pytorch'], 'programming': ['python', 'c++', 'java', 'matlab']}"
        ]
       ],
       "shape": {
        "columns": 2,
        "rows": 2
       }
      },
      "text/html": [
       "<div>\n",
       "<style scoped>\n",
       "    .dataframe tbody tr th:only-of-type {\n",
       "        vertical-align: middle;\n",
       "    }\n",
       "\n",
       "    .dataframe tbody tr th {\n",
       "        vertical-align: top;\n",
       "    }\n",
       "\n",
       "    .dataframe thead th {\n",
       "        text-align: right;\n",
       "    }\n",
       "</style>\n",
       "<table border=\"1\" class=\"dataframe\">\n",
       "  <thead>\n",
       "    <tr style=\"text-align: right;\">\n",
       "      <th></th>\n",
       "      <th>job_skills</th>\n",
       "      <th>job_type_skills</th>\n",
       "    </tr>\n",
       "  </thead>\n",
       "  <tbody>\n",
       "    <tr>\n",
       "      <th>2</th>\n",
       "      <td>['python', 'sql', 'c#', 'azure', 'airflow', 'd...</td>\n",
       "      <td>{'analyst_tools': ['dax'], 'cloud': ['azure'],...</td>\n",
       "    </tr>\n",
       "    <tr>\n",
       "      <th>3</th>\n",
       "      <td>['python', 'c++', 'java', 'matlab', 'aws', 'te...</td>\n",
       "      <td>{'cloud': ['aws'], 'libraries': ['tensorflow',...</td>\n",
       "    </tr>\n",
       "  </tbody>\n",
       "</table>\n",
       "</div>"
      ],
      "text/plain": [
       "                                          job_skills  \\\n",
       "2  ['python', 'sql', 'c#', 'azure', 'airflow', 'd...   \n",
       "3  ['python', 'c++', 'java', 'matlab', 'aws', 'te...   \n",
       "\n",
       "                                     job_type_skills  \n",
       "2  {'analyst_tools': ['dax'], 'cloud': ['azure'],...  \n",
       "3  {'cloud': ['aws'], 'libraries': ['tensorflow',...  "
      ]
     },
     "execution_count": 7,
     "metadata": {},
     "output_type": "execute_result"
    }
   ],
   "source": [
    "df.iloc[[2, 3], [15, 16]]"
   ]
  },
  {
   "cell_type": "markdown",
   "metadata": {
    "id": "wACqtmBMFOWA"
   },
   "source": [
    "Preview\n",
    "\n",
    "Below are a few more examples of what `iloc` can do. Pay close attention to these because we'll use them later.\n"
   ]
  },
  {
   "cell_type": "markdown",
   "metadata": {
    "id": "lVLRqQdUFRIX"
   },
   "source": [
    "4. Get the first 10 rows of the DataFrame.\n"
   ]
  },
  {
   "cell_type": "code",
   "execution_count": 8,
   "metadata": {
    "colab": {
     "base_uri": "https://localhost:8080/",
     "height": 0
    },
    "executionInfo": {
     "elapsed": 8,
     "status": "ok",
     "timestamp": 1758083152540,
     "user": {
      "displayName": "Wende Zhou",
      "userId": "15441026311543276223"
     },
     "user_tz": -480
    },
    "id": "eDvw0ABPFRpM",
    "outputId": "ed51ba4f-ab31-4601-c3f9-aad1558fdaed"
   },
   "outputs": [
    {
     "data": {
      "application/vnd.microsoft.datawrangler.viewer.v0+json": {
       "columns": [
        {
         "name": "index",
         "rawType": "int64",
         "type": "integer"
        },
        {
         "name": "job_title_short",
         "rawType": "object",
         "type": "string"
        },
        {
         "name": "job_title",
         "rawType": "object",
         "type": "string"
        },
        {
         "name": "job_location",
         "rawType": "object",
         "type": "string"
        },
        {
         "name": "job_via",
         "rawType": "object",
         "type": "string"
        },
        {
         "name": "job_schedule_type",
         "rawType": "object",
         "type": "string"
        },
        {
         "name": "job_work_from_home",
         "rawType": "bool",
         "type": "boolean"
        },
        {
         "name": "search_location",
         "rawType": "object",
         "type": "string"
        },
        {
         "name": "job_posted_date",
         "rawType": "datetime64[ns]",
         "type": "datetime"
        },
        {
         "name": "job_no_degree_mention",
         "rawType": "bool",
         "type": "boolean"
        },
        {
         "name": "job_health_insurance",
         "rawType": "bool",
         "type": "boolean"
        },
        {
         "name": "job_country",
         "rawType": "object",
         "type": "string"
        },
        {
         "name": "salary_rate",
         "rawType": "object",
         "type": "unknown"
        },
        {
         "name": "salary_year_avg",
         "rawType": "float64",
         "type": "float"
        },
        {
         "name": "salary_hour_avg",
         "rawType": "float64",
         "type": "float"
        },
        {
         "name": "company_name",
         "rawType": "object",
         "type": "string"
        },
        {
         "name": "job_skills",
         "rawType": "object",
         "type": "unknown"
        },
        {
         "name": "job_type_skills",
         "rawType": "object",
         "type": "unknown"
        }
       ],
       "ref": "78037d22-ccb5-4222-98cb-444050f506d9",
       "rows": [
        [
         "0",
         "Senior Data Engineer",
         "Senior Clinical Data Engineer / Principal Clinical Data Engineer ...",
         "Watertown, CT",
         "via Work Nearby",
         "Full-time",
         "False",
         "Texas, United States",
         "2023-06-16 13:44:15",
         "False",
         "False",
         "United States",
         null,
         null,
         null,
         "Boehringer Ingelheim",
         null,
         null
        ],
        [
         "1",
         "Data Analyst",
         "Data Analyst",
         "Guadalajara, Jalisco, Mexico",
         "via BeBee México",
         "Full-time",
         "False",
         "Mexico",
         "2023-01-14 13:18:07",
         "False",
         "False",
         "Mexico",
         null,
         null,
         null,
         "Hewlett Packard Enterprise",
         "['r', 'python', 'sql', 'nosql', 'power bi', 'tableau']",
         "{'analyst_tools': ['power bi', 'tableau'], 'programming': ['r', 'python', 'sql', 'nosql']}"
        ],
        [
         "2",
         "Data Engineer",
         "Data Engineer/Scientist/Analyst, Mid or Senior (m/f/x)",
         "Berlin, Germany",
         "via LinkedIn",
         "Full-time",
         "False",
         "Germany",
         "2023-10-10 13:14:55",
         "False",
         "False",
         "Germany",
         null,
         null,
         null,
         "ALPHA Augmented Services",
         "['python', 'sql', 'c#', 'azure', 'airflow', 'dax', 'docker', 'kubernetes', 'jenkins']",
         "{'analyst_tools': ['dax'], 'cloud': ['azure'], 'libraries': ['airflow'], 'other': ['docker', 'kubernetes', 'jenkins'], 'programming': ['python', 'sql', 'c#']}"
        ],
        [
         "3",
         "Data Engineer",
         "LEAD ENGINEER - PRINCIPAL ANALYST - PRINCIPAL ENGINEER -  DATA...",
         "San Antonio, TX",
         "via Diversity.com",
         "Full-time",
         "False",
         "Texas, United States",
         "2023-07-04 13:01:41",
         "True",
         "False",
         "United States",
         null,
         null,
         null,
         "Southwest Research Institute",
         "['python', 'c++', 'java', 'matlab', 'aws', 'tensorflow', 'keras', 'pytorch']",
         "{'cloud': ['aws'], 'libraries': ['tensorflow', 'keras', 'pytorch'], 'programming': ['python', 'c++', 'java', 'matlab']}"
        ],
        [
         "4",
         "Data Engineer",
         "Data Engineer- Sr Jobs",
         "Washington, DC",
         "via Clearance Jobs",
         "Full-time",
         "False",
         "Sudan",
         "2023-08-07 14:29:36",
         "False",
         "False",
         "Sudan",
         null,
         null,
         null,
         "Kristina Daniel",
         "['bash', 'python', 'oracle', 'aws', 'ansible', 'puppet', 'jenkins', 'gitlab', 'git']",
         "{'cloud': ['oracle', 'aws'], 'other': ['ansible', 'puppet', 'jenkins', 'gitlab', 'git'], 'programming': ['bash', 'python']}"
        ],
        [
         "5",
         "Data Engineer",
         "GCP Data Engineer",
         "Anywhere",
         "via ZipRecruiter",
         "Contractor and Temp work",
         "True",
         "Georgia",
         "2023-11-07 14:01:59",
         "False",
         "False",
         "United States",
         null,
         null,
         null,
         "smart folks inc",
         "['python', 'sql', 'gcp']",
         "{'cloud': ['gcp'], 'programming': ['python', 'sql']}"
        ],
        [
         "6",
         "Senior Data Engineer",
         "Senior Data Engineer  - GCP Cloud",
         "Dearborn, MI",
         "via LinkedIn",
         "Full-time",
         "False",
         "Florida, United States",
         "2023-03-27 13:18:18",
         "False",
         "False",
         "United States",
         null,
         null,
         null,
         "Miracle Software Systems, Inc",
         "['sql', 'python', 'java', 'sql server', 'gcp', 'bigquery', 'hadoop']",
         "{'cloud': ['gcp', 'bigquery'], 'databases': ['sql server'], 'libraries': ['hadoop'], 'programming': ['sql', 'python', 'java']}"
        ],
        [
         "7",
         "Data Engineer",
         "Data Engineer",
         "Anywhere",
         "via LinkedIn",
         "Full-time",
         "True",
         "Romania",
         "2023-12-07 13:40:49",
         "False",
         "False",
         "Romania",
         null,
         null,
         null,
         "Zitec",
         "['sql', 'nosql', 'gcp', 'azure', 'aws', 'bigquery', 'databricks', 'redshift', 'airflow', 'kafka', 'spark']",
         "{'cloud': ['gcp', 'azure', 'aws', 'bigquery', 'databricks', 'redshift'], 'libraries': ['airflow', 'kafka', 'spark'], 'programming': ['sql', 'nosql']}"
        ],
        [
         "8",
         "Business Analyst",
         "Technology & Operations Business Analyst",
         "Copenhagen, Denmark",
         "via Trabajo.org",
         "Full-time",
         "False",
         "Denmark",
         "2023-06-05 13:44:34",
         "False",
         "False",
         "Denmark",
         null,
         null,
         null,
         "Hempel",
         "['excel', 'powerpoint', 'power bi']",
         "{'analyst_tools': ['excel', 'powerpoint', 'power bi']}"
        ]
       ],
       "shape": {
        "columns": 17,
        "rows": 9
       }
      },
      "text/html": [
       "<div>\n",
       "<style scoped>\n",
       "    .dataframe tbody tr th:only-of-type {\n",
       "        vertical-align: middle;\n",
       "    }\n",
       "\n",
       "    .dataframe tbody tr th {\n",
       "        vertical-align: top;\n",
       "    }\n",
       "\n",
       "    .dataframe thead th {\n",
       "        text-align: right;\n",
       "    }\n",
       "</style>\n",
       "<table border=\"1\" class=\"dataframe\">\n",
       "  <thead>\n",
       "    <tr style=\"text-align: right;\">\n",
       "      <th></th>\n",
       "      <th>job_title_short</th>\n",
       "      <th>job_title</th>\n",
       "      <th>job_location</th>\n",
       "      <th>job_via</th>\n",
       "      <th>job_schedule_type</th>\n",
       "      <th>job_work_from_home</th>\n",
       "      <th>search_location</th>\n",
       "      <th>job_posted_date</th>\n",
       "      <th>job_no_degree_mention</th>\n",
       "      <th>job_health_insurance</th>\n",
       "      <th>job_country</th>\n",
       "      <th>salary_rate</th>\n",
       "      <th>salary_year_avg</th>\n",
       "      <th>salary_hour_avg</th>\n",
       "      <th>company_name</th>\n",
       "      <th>job_skills</th>\n",
       "      <th>job_type_skills</th>\n",
       "    </tr>\n",
       "  </thead>\n",
       "  <tbody>\n",
       "    <tr>\n",
       "      <th>0</th>\n",
       "      <td>Senior Data Engineer</td>\n",
       "      <td>Senior Clinical Data Engineer / Principal Clin...</td>\n",
       "      <td>Watertown, CT</td>\n",
       "      <td>via Work Nearby</td>\n",
       "      <td>Full-time</td>\n",
       "      <td>False</td>\n",
       "      <td>Texas, United States</td>\n",
       "      <td>2023-06-16 13:44:15</td>\n",
       "      <td>False</td>\n",
       "      <td>False</td>\n",
       "      <td>United States</td>\n",
       "      <td>None</td>\n",
       "      <td>NaN</td>\n",
       "      <td>NaN</td>\n",
       "      <td>Boehringer Ingelheim</td>\n",
       "      <td>None</td>\n",
       "      <td>None</td>\n",
       "    </tr>\n",
       "    <tr>\n",
       "      <th>1</th>\n",
       "      <td>Data Analyst</td>\n",
       "      <td>Data Analyst</td>\n",
       "      <td>Guadalajara, Jalisco, Mexico</td>\n",
       "      <td>via BeBee México</td>\n",
       "      <td>Full-time</td>\n",
       "      <td>False</td>\n",
       "      <td>Mexico</td>\n",
       "      <td>2023-01-14 13:18:07</td>\n",
       "      <td>False</td>\n",
       "      <td>False</td>\n",
       "      <td>Mexico</td>\n",
       "      <td>None</td>\n",
       "      <td>NaN</td>\n",
       "      <td>NaN</td>\n",
       "      <td>Hewlett Packard Enterprise</td>\n",
       "      <td>['r', 'python', 'sql', 'nosql', 'power bi', 't...</td>\n",
       "      <td>{'analyst_tools': ['power bi', 'tableau'], 'pr...</td>\n",
       "    </tr>\n",
       "    <tr>\n",
       "      <th>2</th>\n",
       "      <td>Data Engineer</td>\n",
       "      <td>Data Engineer/Scientist/Analyst, Mid or Senior...</td>\n",
       "      <td>Berlin, Germany</td>\n",
       "      <td>via LinkedIn</td>\n",
       "      <td>Full-time</td>\n",
       "      <td>False</td>\n",
       "      <td>Germany</td>\n",
       "      <td>2023-10-10 13:14:55</td>\n",
       "      <td>False</td>\n",
       "      <td>False</td>\n",
       "      <td>Germany</td>\n",
       "      <td>None</td>\n",
       "      <td>NaN</td>\n",
       "      <td>NaN</td>\n",
       "      <td>ALPHA Augmented Services</td>\n",
       "      <td>['python', 'sql', 'c#', 'azure', 'airflow', 'd...</td>\n",
       "      <td>{'analyst_tools': ['dax'], 'cloud': ['azure'],...</td>\n",
       "    </tr>\n",
       "    <tr>\n",
       "      <th>3</th>\n",
       "      <td>Data Engineer</td>\n",
       "      <td>LEAD ENGINEER - PRINCIPAL ANALYST - PRINCIPAL ...</td>\n",
       "      <td>San Antonio, TX</td>\n",
       "      <td>via Diversity.com</td>\n",
       "      <td>Full-time</td>\n",
       "      <td>False</td>\n",
       "      <td>Texas, United States</td>\n",
       "      <td>2023-07-04 13:01:41</td>\n",
       "      <td>True</td>\n",
       "      <td>False</td>\n",
       "      <td>United States</td>\n",
       "      <td>None</td>\n",
       "      <td>NaN</td>\n",
       "      <td>NaN</td>\n",
       "      <td>Southwest Research Institute</td>\n",
       "      <td>['python', 'c++', 'java', 'matlab', 'aws', 'te...</td>\n",
       "      <td>{'cloud': ['aws'], 'libraries': ['tensorflow',...</td>\n",
       "    </tr>\n",
       "    <tr>\n",
       "      <th>4</th>\n",
       "      <td>Data Engineer</td>\n",
       "      <td>Data Engineer- Sr Jobs</td>\n",
       "      <td>Washington, DC</td>\n",
       "      <td>via Clearance Jobs</td>\n",
       "      <td>Full-time</td>\n",
       "      <td>False</td>\n",
       "      <td>Sudan</td>\n",
       "      <td>2023-08-07 14:29:36</td>\n",
       "      <td>False</td>\n",
       "      <td>False</td>\n",
       "      <td>Sudan</td>\n",
       "      <td>None</td>\n",
       "      <td>NaN</td>\n",
       "      <td>NaN</td>\n",
       "      <td>Kristina Daniel</td>\n",
       "      <td>['bash', 'python', 'oracle', 'aws', 'ansible',...</td>\n",
       "      <td>{'cloud': ['oracle', 'aws'], 'other': ['ansibl...</td>\n",
       "    </tr>\n",
       "    <tr>\n",
       "      <th>5</th>\n",
       "      <td>Data Engineer</td>\n",
       "      <td>GCP Data Engineer</td>\n",
       "      <td>Anywhere</td>\n",
       "      <td>via ZipRecruiter</td>\n",
       "      <td>Contractor and Temp work</td>\n",
       "      <td>True</td>\n",
       "      <td>Georgia</td>\n",
       "      <td>2023-11-07 14:01:59</td>\n",
       "      <td>False</td>\n",
       "      <td>False</td>\n",
       "      <td>United States</td>\n",
       "      <td>None</td>\n",
       "      <td>NaN</td>\n",
       "      <td>NaN</td>\n",
       "      <td>smart folks inc</td>\n",
       "      <td>['python', 'sql', 'gcp']</td>\n",
       "      <td>{'cloud': ['gcp'], 'programming': ['python', '...</td>\n",
       "    </tr>\n",
       "    <tr>\n",
       "      <th>6</th>\n",
       "      <td>Senior Data Engineer</td>\n",
       "      <td>Senior Data Engineer  - GCP Cloud</td>\n",
       "      <td>Dearborn, MI</td>\n",
       "      <td>via LinkedIn</td>\n",
       "      <td>Full-time</td>\n",
       "      <td>False</td>\n",
       "      <td>Florida, United States</td>\n",
       "      <td>2023-03-27 13:18:18</td>\n",
       "      <td>False</td>\n",
       "      <td>False</td>\n",
       "      <td>United States</td>\n",
       "      <td>None</td>\n",
       "      <td>NaN</td>\n",
       "      <td>NaN</td>\n",
       "      <td>Miracle Software Systems, Inc</td>\n",
       "      <td>['sql', 'python', 'java', 'sql server', 'gcp',...</td>\n",
       "      <td>{'cloud': ['gcp', 'bigquery'], 'databases': ['...</td>\n",
       "    </tr>\n",
       "    <tr>\n",
       "      <th>7</th>\n",
       "      <td>Data Engineer</td>\n",
       "      <td>Data Engineer</td>\n",
       "      <td>Anywhere</td>\n",
       "      <td>via LinkedIn</td>\n",
       "      <td>Full-time</td>\n",
       "      <td>True</td>\n",
       "      <td>Romania</td>\n",
       "      <td>2023-12-07 13:40:49</td>\n",
       "      <td>False</td>\n",
       "      <td>False</td>\n",
       "      <td>Romania</td>\n",
       "      <td>None</td>\n",
       "      <td>NaN</td>\n",
       "      <td>NaN</td>\n",
       "      <td>Zitec</td>\n",
       "      <td>['sql', 'nosql', 'gcp', 'azure', 'aws', 'bigqu...</td>\n",
       "      <td>{'cloud': ['gcp', 'azure', 'aws', 'bigquery', ...</td>\n",
       "    </tr>\n",
       "    <tr>\n",
       "      <th>8</th>\n",
       "      <td>Business Analyst</td>\n",
       "      <td>Technology &amp; Operations Business Analyst</td>\n",
       "      <td>Copenhagen, Denmark</td>\n",
       "      <td>via Trabajo.org</td>\n",
       "      <td>Full-time</td>\n",
       "      <td>False</td>\n",
       "      <td>Denmark</td>\n",
       "      <td>2023-06-05 13:44:34</td>\n",
       "      <td>False</td>\n",
       "      <td>False</td>\n",
       "      <td>Denmark</td>\n",
       "      <td>None</td>\n",
       "      <td>NaN</td>\n",
       "      <td>NaN</td>\n",
       "      <td>Hempel</td>\n",
       "      <td>['excel', 'powerpoint', 'power bi']</td>\n",
       "      <td>{'analyst_tools': ['excel', 'powerpoint', 'pow...</td>\n",
       "    </tr>\n",
       "  </tbody>\n",
       "</table>\n",
       "</div>"
      ],
      "text/plain": [
       "        job_title_short                                          job_title  \\\n",
       "0  Senior Data Engineer  Senior Clinical Data Engineer / Principal Clin...   \n",
       "1          Data Analyst                                       Data Analyst   \n",
       "2         Data Engineer  Data Engineer/Scientist/Analyst, Mid or Senior...   \n",
       "3         Data Engineer  LEAD ENGINEER - PRINCIPAL ANALYST - PRINCIPAL ...   \n",
       "4         Data Engineer                             Data Engineer- Sr Jobs   \n",
       "5         Data Engineer                                  GCP Data Engineer   \n",
       "6  Senior Data Engineer                  Senior Data Engineer  - GCP Cloud   \n",
       "7         Data Engineer                                      Data Engineer   \n",
       "8      Business Analyst           Technology & Operations Business Analyst   \n",
       "\n",
       "                   job_location             job_via         job_schedule_type  \\\n",
       "0                 Watertown, CT     via Work Nearby                 Full-time   \n",
       "1  Guadalajara, Jalisco, Mexico    via BeBee México                 Full-time   \n",
       "2               Berlin, Germany        via LinkedIn                 Full-time   \n",
       "3               San Antonio, TX   via Diversity.com                 Full-time   \n",
       "4                Washington, DC  via Clearance Jobs                 Full-time   \n",
       "5                      Anywhere    via ZipRecruiter  Contractor and Temp work   \n",
       "6                  Dearborn, MI        via LinkedIn                 Full-time   \n",
       "7                      Anywhere        via LinkedIn                 Full-time   \n",
       "8           Copenhagen, Denmark     via Trabajo.org                 Full-time   \n",
       "\n",
       "   job_work_from_home         search_location     job_posted_date  \\\n",
       "0               False    Texas, United States 2023-06-16 13:44:15   \n",
       "1               False                  Mexico 2023-01-14 13:18:07   \n",
       "2               False                 Germany 2023-10-10 13:14:55   \n",
       "3               False    Texas, United States 2023-07-04 13:01:41   \n",
       "4               False                   Sudan 2023-08-07 14:29:36   \n",
       "5                True                 Georgia 2023-11-07 14:01:59   \n",
       "6               False  Florida, United States 2023-03-27 13:18:18   \n",
       "7                True                 Romania 2023-12-07 13:40:49   \n",
       "8               False                 Denmark 2023-06-05 13:44:34   \n",
       "\n",
       "   job_no_degree_mention  job_health_insurance    job_country salary_rate  \\\n",
       "0                  False                 False  United States        None   \n",
       "1                  False                 False         Mexico        None   \n",
       "2                  False                 False        Germany        None   \n",
       "3                   True                 False  United States        None   \n",
       "4                  False                 False          Sudan        None   \n",
       "5                  False                 False  United States        None   \n",
       "6                  False                 False  United States        None   \n",
       "7                  False                 False        Romania        None   \n",
       "8                  False                 False        Denmark        None   \n",
       "\n",
       "   salary_year_avg  salary_hour_avg                   company_name  \\\n",
       "0              NaN              NaN           Boehringer Ingelheim   \n",
       "1              NaN              NaN     Hewlett Packard Enterprise   \n",
       "2              NaN              NaN       ALPHA Augmented Services   \n",
       "3              NaN              NaN   Southwest Research Institute   \n",
       "4              NaN              NaN                Kristina Daniel   \n",
       "5              NaN              NaN                smart folks inc   \n",
       "6              NaN              NaN  Miracle Software Systems, Inc   \n",
       "7              NaN              NaN                          Zitec   \n",
       "8              NaN              NaN                         Hempel   \n",
       "\n",
       "                                          job_skills  \\\n",
       "0                                               None   \n",
       "1  ['r', 'python', 'sql', 'nosql', 'power bi', 't...   \n",
       "2  ['python', 'sql', 'c#', 'azure', 'airflow', 'd...   \n",
       "3  ['python', 'c++', 'java', 'matlab', 'aws', 'te...   \n",
       "4  ['bash', 'python', 'oracle', 'aws', 'ansible',...   \n",
       "5                           ['python', 'sql', 'gcp']   \n",
       "6  ['sql', 'python', 'java', 'sql server', 'gcp',...   \n",
       "7  ['sql', 'nosql', 'gcp', 'azure', 'aws', 'bigqu...   \n",
       "8                ['excel', 'powerpoint', 'power bi']   \n",
       "\n",
       "                                     job_type_skills  \n",
       "0                                               None  \n",
       "1  {'analyst_tools': ['power bi', 'tableau'], 'pr...  \n",
       "2  {'analyst_tools': ['dax'], 'cloud': ['azure'],...  \n",
       "3  {'cloud': ['aws'], 'libraries': ['tensorflow',...  \n",
       "4  {'cloud': ['oracle', 'aws'], 'other': ['ansibl...  \n",
       "5  {'cloud': ['gcp'], 'programming': ['python', '...  \n",
       "6  {'cloud': ['gcp', 'bigquery'], 'databases': ['...  \n",
       "7  {'cloud': ['gcp', 'azure', 'aws', 'bigquery', ...  \n",
       "8  {'analyst_tools': ['excel', 'powerpoint', 'pow...  "
      ]
     },
     "execution_count": 8,
     "metadata": {},
     "output_type": "execute_result"
    }
   ],
   "source": [
    "df.iloc[:9]"
   ]
  },
  {
   "cell_type": "markdown",
   "metadata": {
    "id": "UI5pAh54FaAZ"
   },
   "source": [
    "4. Get the first 10 rows of the DataFrame.\n"
   ]
  },
  {
   "cell_type": "code",
   "execution_count": 9,
   "metadata": {
    "colab": {
     "base_uri": "https://localhost:8080/",
     "height": 0
    },
    "executionInfo": {
     "elapsed": 68,
     "status": "ok",
     "timestamp": 1758083152607,
     "user": {
      "displayName": "Wende Zhou",
      "userId": "15441026311543276223"
     },
     "user_tz": -480
    },
    "id": "YsNjG_pgFTSW",
    "outputId": "3b3d7498-20d1-444f-d67c-30390bf9e2fe"
   },
   "outputs": [
    {
     "data": {
      "application/vnd.microsoft.datawrangler.viewer.v0+json": {
       "columns": [
        {
         "name": "index",
         "rawType": "int64",
         "type": "integer"
        },
        {
         "name": "job_title_short",
         "rawType": "object",
         "type": "string"
        },
        {
         "name": "job_title",
         "rawType": "object",
         "type": "unknown"
        },
        {
         "name": "job_location",
         "rawType": "object",
         "type": "unknown"
        },
        {
         "name": "job_via",
         "rawType": "object",
         "type": "unknown"
        },
        {
         "name": "job_schedule_type",
         "rawType": "object",
         "type": "unknown"
        }
       ],
       "ref": "1bab3b59-2679-4276-a2be-0a05c4a1d30c",
       "rows": [
        [
         "0",
         "Senior Data Engineer",
         "Senior Clinical Data Engineer / Principal Clinical Data Engineer ...",
         "Watertown, CT",
         "via Work Nearby",
         "Full-time"
        ],
        [
         "1",
         "Data Analyst",
         "Data Analyst",
         "Guadalajara, Jalisco, Mexico",
         "via BeBee México",
         "Full-time"
        ],
        [
         "2",
         "Data Engineer",
         "Data Engineer/Scientist/Analyst, Mid or Senior (m/f/x)",
         "Berlin, Germany",
         "via LinkedIn",
         "Full-time"
        ],
        [
         "3",
         "Data Engineer",
         "LEAD ENGINEER - PRINCIPAL ANALYST - PRINCIPAL ENGINEER -  DATA...",
         "San Antonio, TX",
         "via Diversity.com",
         "Full-time"
        ],
        [
         "4",
         "Data Engineer",
         "Data Engineer- Sr Jobs",
         "Washington, DC",
         "via Clearance Jobs",
         "Full-time"
        ],
        [
         "5",
         "Data Engineer",
         "GCP Data Engineer",
         "Anywhere",
         "via ZipRecruiter",
         "Contractor and Temp work"
        ],
        [
         "6",
         "Senior Data Engineer",
         "Senior Data Engineer  - GCP Cloud",
         "Dearborn, MI",
         "via LinkedIn",
         "Full-time"
        ],
        [
         "7",
         "Data Engineer",
         "Data Engineer",
         "Anywhere",
         "via LinkedIn",
         "Full-time"
        ],
        [
         "8",
         "Business Analyst",
         "Technology & Operations Business Analyst",
         "Copenhagen, Denmark",
         "via Trabajo.org",
         "Full-time"
        ],
        [
         "9",
         "Data Scientist",
         "Data Scientist II",
         "Anywhere",
         "via ZipRecruiter",
         "Full-time"
        ],
        [
         "10",
         "Data Engineer",
         "Erfahrene*r Data Engineer*in (m/w/d)",
         "Basel, Switzerland",
         "via LinkedIn",
         "Full-time"
        ],
        [
         "11",
         "Data Engineer",
         "Data Engineer",
         "Colorado Springs, CO   (+3 others)",
         "via The Muse",
         "Full-time"
        ],
        [
         "12",
         "Data Analyst",
         "Stagiaire Data Analyst (H/F) - Lyon (69006)",
         "Lyon, France",
         "via Jobijoba",
         "Full-time and Internship"
        ],
        [
         "13",
         "Senior Data Engineer",
         "Senior Data Engineer",
         "New York, NY",
         "via LinkedIn",
         "Full-time"
        ],
        [
         "14",
         "Data Engineer",
         "Data Engineer",
         "Rio de Janeiro, State of Rio de Janeiro, Brazil",
         "via BeBee",
         "Full-time"
        ],
        [
         "15",
         "Data Engineer",
         "Data Engineer",
         "Aberdeen, UK",
         "via LinkedIn",
         "Temp work"
        ],
        [
         "16",
         "Data Engineer",
         "Big Data Engineer",
         "Pune, Maharashtra, India",
         "via LinkedIn",
         "Full-time"
        ],
        [
         "17",
         "Data Scientist",
         "Data Science Team Lead",
         "Laurel, MD",
         "via APL Careers - Johns Hopkins University Applied Physics Laboratory",
         "Full-time"
        ],
        [
         "18",
         "Data Analyst",
         "Data Analyst",
         "Warsaw, Poland",
         "via Praca Trabajo.org",
         "Full-time"
        ],
        [
         "19",
         "Data Scientist",
         "Data Scientist",
         "Pune, Maharashtra, India",
         "via Indeed",
         "Full-time"
        ],
        [
         "20",
         "Data Scientist",
         "Data Scientist",
         "Zaventem, Belgium",
         "via BeBee Belgique",
         "Full-time"
        ],
        [
         "21",
         "Data Scientist",
         "Stage - data scientist – génération ia de données synthétiques H/F",
         "Asnières-sur-Seine, France",
         "via Jobijoba",
         "Full-time"
        ],
        [
         "22",
         "Data Engineer",
         "Data Engineer / Développeur·euse Big Data F/H",
         "Nantes, France",
         "via LinkedIn",
         "Full-time"
        ],
        [
         "23",
         "Machine Learning Engineer",
         "PhD position in computer science (NLP, finance)",
         "Russia",
         "via hh.ru",
         "Full-time"
        ],
        [
         "24",
         "Data Scientist",
         "Data Scientist (DataLab Team)",
         "Anywhere",
         "via LinkedIn",
         "Full-time"
        ],
        [
         "25",
         "Senior Data Analyst",
         "Senior Officer, Data Analyst, GTO",
         "Singapore",
         "via BeBee Singapore",
         "Full-time"
        ],
        [
         "26",
         "Data Engineer",
         "Data Engineer",
         "United States",
         "via LinkedIn",
         "Full-time"
        ],
        [
         "27",
         "Data Engineer",
         "Principal Data Engineer (Lead), Knowledge Graphs and Data Semantics",
         "San Francisco, CA",
         "via LinkedIn",
         "Full-time"
        ],
        [
         "28",
         "Data Scientist",
         "CRM Data Specialist",
         "San José Province, San José, Costa Rica",
         "via Ai-Jobs.net",
         "Full-time"
        ],
        [
         "29",
         "Data Scientist",
         "Data Scientist",
         "Pune, Maharashtra, India",
         "via Exusia",
         "Full-time"
        ],
        [
         "30",
         "Senior Data Engineer",
         "Senior Data Engineer (Work from home Eligible)",
         "Wilmington, DE",
         "via WDHN Jobs",
         "Full-time"
        ],
        [
         "31",
         "Data Analyst",
         "Stage - Data Analyst F/H",
         "Paris, France",
         "via LinkedIn",
         "Full-time and Internship"
        ],
        [
         "32",
         "Data Scientist",
         "Sr. Data Scientist (NLP) - Full-time / Part-time",
         "Dallas, TX",
         "via Snagajob",
         "Full-time"
        ],
        [
         "33",
         "Data Engineer",
         "Data Engineer",
         "County Westmeath, Ireland",
         "via Indeed",
         "Full-time"
        ],
        [
         "34",
         "Data Analyst",
         "Data Analyst als Marketing Manager Automation (W/D/M)",
         "Erlangen, Germany",
         "via Central Illinois Proud Jobs",
         "Full-time"
        ],
        [
         "35",
         "Data Engineer",
         "Data Engineer - Royal Canin",
         "St Charles, MO",
         "via My ArkLaMiss Jobs",
         "Full-time"
        ],
        [
         "36",
         "Data Analyst",
         "Data Analyst",
         "Des Moines, IA",
         "via Trabajo.org",
         "Full-time"
        ],
        [
         "37",
         "Data Engineer",
         "Data Engineer III - Now Hiring",
         "Boston, MA",
         "via Snagajob",
         "Full-time"
        ],
        [
         "38",
         "Data Analyst",
         "Data Quality and Governance Analyst 1",
         "India",
         "via Trabajo.org",
         "Full-time"
        ],
        [
         "39",
         "Data Engineer",
         "Data Engineer",
         "Fort Worth, TX",
         "via LinkedIn",
         "Full-time"
        ],
        [
         "40",
         "Data Scientist",
         "Data Scientist, Data Strategy and Analytics",
         "Alameda, CA",
         "via Trabajo.org",
         "Full-time"
        ],
        [
         "41",
         "Data Scientist",
         "Data Scientist I",
         "Paris, KY",
         "via Jobs By Care",
         "Full-time"
        ],
        [
         "42",
         "Senior Data Engineer",
         "Senior Data Engineer(Python)-1563,1637&1633",
         "Chennai, Tamil Nadu, India",
         "via HR Software For Growing Businesses | Freshteam",
         "Full-time"
        ],
        [
         "43",
         "Senior Data Engineer",
         "Sr SQL Database Engineer with Data Warehouse / Data Modeling",
         null,
         "via LinkedIn",
         "Contractor"
        ],
        [
         "44",
         "Data Scientist",
         "Binance Accelerator Program - Data Scientist (Risk Management)",
         "Singapore",
         "via LinkedIn",
         "Contractor"
        ],
        [
         "45",
         "Senior Data Analyst",
         "Senior Data Analyst",
         "Leeds, UK",
         "via My Stateline Jobs",
         "Full-time"
        ],
        [
         "46",
         "Data Analyst",
         "Data Analyst (Bangkok Based, relocation provided)",
         "Rome, Metropolitan City of Rome Capital, Italy",
         "via LinkedIn",
         "Full-time"
        ],
        [
         "47",
         "Senior Data Engineer",
         "Senior Data Engineering",
         "Kuala Lumpur, Federal Territory of Kuala Lumpur, Malaysia",
         "via Trabajo.org",
         "Full-time"
        ],
        [
         "48",
         "Cloud Engineer",
         "Lead Qa Engineer",
         "Ciudad Nezahualcóyotl, State of Mexico, Mexico",
         "via BeBee",
         "Full-time"
        ],
        [
         "49",
         "Senior Data Scientist",
         "Data Senior H/F",
         "Neuilly-Plaisance, France",
         "via BeBee",
         "Full-time"
        ]
       ],
       "shape": {
        "columns": 5,
        "rows": 785741
       }
      },
      "text/html": [
       "<div>\n",
       "<style scoped>\n",
       "    .dataframe tbody tr th:only-of-type {\n",
       "        vertical-align: middle;\n",
       "    }\n",
       "\n",
       "    .dataframe tbody tr th {\n",
       "        vertical-align: top;\n",
       "    }\n",
       "\n",
       "    .dataframe thead th {\n",
       "        text-align: right;\n",
       "    }\n",
       "</style>\n",
       "<table border=\"1\" class=\"dataframe\">\n",
       "  <thead>\n",
       "    <tr style=\"text-align: right;\">\n",
       "      <th></th>\n",
       "      <th>job_title_short</th>\n",
       "      <th>job_title</th>\n",
       "      <th>job_location</th>\n",
       "      <th>job_via</th>\n",
       "      <th>job_schedule_type</th>\n",
       "    </tr>\n",
       "  </thead>\n",
       "  <tbody>\n",
       "    <tr>\n",
       "      <th>0</th>\n",
       "      <td>Senior Data Engineer</td>\n",
       "      <td>Senior Clinical Data Engineer / Principal Clin...</td>\n",
       "      <td>Watertown, CT</td>\n",
       "      <td>via Work Nearby</td>\n",
       "      <td>Full-time</td>\n",
       "    </tr>\n",
       "    <tr>\n",
       "      <th>1</th>\n",
       "      <td>Data Analyst</td>\n",
       "      <td>Data Analyst</td>\n",
       "      <td>Guadalajara, Jalisco, Mexico</td>\n",
       "      <td>via BeBee México</td>\n",
       "      <td>Full-time</td>\n",
       "    </tr>\n",
       "    <tr>\n",
       "      <th>2</th>\n",
       "      <td>Data Engineer</td>\n",
       "      <td>Data Engineer/Scientist/Analyst, Mid or Senior...</td>\n",
       "      <td>Berlin, Germany</td>\n",
       "      <td>via LinkedIn</td>\n",
       "      <td>Full-time</td>\n",
       "    </tr>\n",
       "    <tr>\n",
       "      <th>3</th>\n",
       "      <td>Data Engineer</td>\n",
       "      <td>LEAD ENGINEER - PRINCIPAL ANALYST - PRINCIPAL ...</td>\n",
       "      <td>San Antonio, TX</td>\n",
       "      <td>via Diversity.com</td>\n",
       "      <td>Full-time</td>\n",
       "    </tr>\n",
       "    <tr>\n",
       "      <th>4</th>\n",
       "      <td>Data Engineer</td>\n",
       "      <td>Data Engineer- Sr Jobs</td>\n",
       "      <td>Washington, DC</td>\n",
       "      <td>via Clearance Jobs</td>\n",
       "      <td>Full-time</td>\n",
       "    </tr>\n",
       "    <tr>\n",
       "      <th>...</th>\n",
       "      <td>...</td>\n",
       "      <td>...</td>\n",
       "      <td>...</td>\n",
       "      <td>...</td>\n",
       "      <td>...</td>\n",
       "    </tr>\n",
       "    <tr>\n",
       "      <th>785736</th>\n",
       "      <td>Software Engineer</td>\n",
       "      <td>DevOps Engineer</td>\n",
       "      <td>Singapura</td>\n",
       "      <td>melalui Trabajo.org</td>\n",
       "      <td>Pekerjaan tetap</td>\n",
       "    </tr>\n",
       "    <tr>\n",
       "      <th>785737</th>\n",
       "      <td>Data Analyst</td>\n",
       "      <td>CRM Data Analyst</td>\n",
       "      <td>Bad Rodach, Jerman</td>\n",
       "      <td>melalui BeBee Deutschland</td>\n",
       "      <td>Pekerjaan tetap</td>\n",
       "    </tr>\n",
       "    <tr>\n",
       "      <th>785738</th>\n",
       "      <td>Business Analyst</td>\n",
       "      <td>Commercial Analyst - Start Now</td>\n",
       "      <td>Malaysia</td>\n",
       "      <td>melalui Ricebowl</td>\n",
       "      <td>Pekerjaan tetap</td>\n",
       "    </tr>\n",
       "    <tr>\n",
       "      <th>785739</th>\n",
       "      <td>Data Engineer</td>\n",
       "      <td>Principal Associate, Data Engineer (Remote-Eli...</td>\n",
       "      <td>Newark, New Jersey, Amerika Serikat</td>\n",
       "      <td>melalui Recruit.net</td>\n",
       "      <td>Pekerjaan tetap</td>\n",
       "    </tr>\n",
       "    <tr>\n",
       "      <th>785740</th>\n",
       "      <td>Software Engineer</td>\n",
       "      <td>AWS System Analyst</td>\n",
       "      <td>India</td>\n",
       "      <td>melalui Trigyn</td>\n",
       "      <td>Pekerjaan tetap</td>\n",
       "    </tr>\n",
       "  </tbody>\n",
       "</table>\n",
       "<p>785741 rows × 5 columns</p>\n",
       "</div>"
      ],
      "text/plain": [
       "             job_title_short  \\\n",
       "0       Senior Data Engineer   \n",
       "1               Data Analyst   \n",
       "2              Data Engineer   \n",
       "3              Data Engineer   \n",
       "4              Data Engineer   \n",
       "...                      ...   \n",
       "785736     Software Engineer   \n",
       "785737          Data Analyst   \n",
       "785738      Business Analyst   \n",
       "785739         Data Engineer   \n",
       "785740     Software Engineer   \n",
       "\n",
       "                                                job_title  \\\n",
       "0       Senior Clinical Data Engineer / Principal Clin...   \n",
       "1                                            Data Analyst   \n",
       "2       Data Engineer/Scientist/Analyst, Mid or Senior...   \n",
       "3       LEAD ENGINEER - PRINCIPAL ANALYST - PRINCIPAL ...   \n",
       "4                                  Data Engineer- Sr Jobs   \n",
       "...                                                   ...   \n",
       "785736                                    DevOps Engineer   \n",
       "785737                                   CRM Data Analyst   \n",
       "785738                     Commercial Analyst - Start Now   \n",
       "785739  Principal Associate, Data Engineer (Remote-Eli...   \n",
       "785740                                 AWS System Analyst   \n",
       "\n",
       "                               job_location                    job_via  \\\n",
       "0                             Watertown, CT            via Work Nearby   \n",
       "1              Guadalajara, Jalisco, Mexico           via BeBee México   \n",
       "2                           Berlin, Germany               via LinkedIn   \n",
       "3                           San Antonio, TX          via Diversity.com   \n",
       "4                            Washington, DC         via Clearance Jobs   \n",
       "...                                     ...                        ...   \n",
       "785736                            Singapura        melalui Trabajo.org   \n",
       "785737                   Bad Rodach, Jerman  melalui BeBee Deutschland   \n",
       "785738                             Malaysia           melalui Ricebowl   \n",
       "785739  Newark, New Jersey, Amerika Serikat        melalui Recruit.net   \n",
       "785740                                India             melalui Trigyn   \n",
       "\n",
       "       job_schedule_type  \n",
       "0              Full-time  \n",
       "1              Full-time  \n",
       "2              Full-time  \n",
       "3              Full-time  \n",
       "4              Full-time  \n",
       "...                  ...  \n",
       "785736   Pekerjaan tetap  \n",
       "785737   Pekerjaan tetap  \n",
       "785738   Pekerjaan tetap  \n",
       "785739   Pekerjaan tetap  \n",
       "785740   Pekerjaan tetap  \n",
       "\n",
       "[785741 rows x 5 columns]"
      ]
     },
     "execution_count": 9,
     "metadata": {},
     "output_type": "execute_result"
    }
   ],
   "source": [
    "df.iloc[:, : 5]"
   ]
  },
  {
   "cell_type": "markdown",
   "metadata": {
    "id": "8x_oF929FxRh"
   },
   "source": [
    "loc\n",
    "\n",
    "Notes\n",
    "\n",
    "- `df.loc[]`: Select rows and columns by position or label.\n",
    "- Similar to `df.iloc[]` except we can use labels instead.\n",
    "\n",
    "Example\n",
    "\n",
    "Let's get the same columns we did before but with `loc` instead. Which uses column and row labels. These are:\n",
    "\n",
    "1. Get the first row (index 0).\n",
    "2. Get the first 10 rows of `job_skills` and `job_type_skills`.\n",
    "3. Get the first 5 columns and rows 10-20.\n",
    "4. Get the first 12 rows of the DataFrame.\n",
    "5. Get the first 5 columns of the DataFrame and all the rows.\n"
   ]
  },
  {
   "cell_type": "markdown",
   "metadata": {
    "id": "eF05KjTIGAkJ"
   },
   "source": [
    "1. Get the first row. This remains the same because the row doesn't have a label.\n"
   ]
  },
  {
   "cell_type": "code",
   "execution_count": 10,
   "metadata": {
    "colab": {
     "base_uri": "https://localhost:8080/",
     "height": 0
    },
    "executionInfo": {
     "elapsed": 41,
     "status": "ok",
     "timestamp": 1758083152648,
     "user": {
      "displayName": "Wende Zhou",
      "userId": "15441026311543276223"
     },
     "user_tz": -480
    },
    "id": "42uiuUQnGBhD",
    "outputId": "2402b532-7de7-410a-92cf-510c6177cef3"
   },
   "outputs": [
    {
     "data": {
      "application/vnd.microsoft.datawrangler.viewer.v0+json": {
       "columns": [
        {
         "name": "index",
         "rawType": "object",
         "type": "string"
        },
        {
         "name": "0",
         "rawType": "object",
         "type": "unknown"
        }
       ],
       "ref": "f9dba054-a1e7-4eb5-84b7-5042bf23f494",
       "rows": [
        [
         "job_title_short",
         "Senior Data Engineer"
        ],
        [
         "job_title",
         "Senior Clinical Data Engineer / Principal Clinical Data Engineer ..."
        ],
        [
         "job_location",
         "Watertown, CT"
        ],
        [
         "job_via",
         "via Work Nearby"
        ],
        [
         "job_schedule_type",
         "Full-time"
        ],
        [
         "job_work_from_home",
         "False"
        ],
        [
         "search_location",
         "Texas, United States"
        ],
        [
         "job_posted_date",
         "2023-06-16 13:44:15"
        ],
        [
         "job_no_degree_mention",
         "False"
        ],
        [
         "job_health_insurance",
         "False"
        ],
        [
         "job_country",
         "United States"
        ],
        [
         "salary_rate",
         null
        ],
        [
         "salary_year_avg",
         null
        ],
        [
         "salary_hour_avg",
         null
        ],
        [
         "company_name",
         "Boehringer Ingelheim"
        ],
        [
         "job_skills",
         null
        ],
        [
         "job_type_skills",
         null
        ]
       ],
       "shape": {
        "columns": 1,
        "rows": 17
       }
      },
      "text/plain": [
       "job_title_short                                       Senior Data Engineer\n",
       "job_title                Senior Clinical Data Engineer / Principal Clin...\n",
       "job_location                                                 Watertown, CT\n",
       "job_via                                                    via Work Nearby\n",
       "job_schedule_type                                                Full-time\n",
       "job_work_from_home                                                   False\n",
       "search_location                                       Texas, United States\n",
       "job_posted_date                                        2023-06-16 13:44:15\n",
       "job_no_degree_mention                                                False\n",
       "job_health_insurance                                                 False\n",
       "job_country                                                  United States\n",
       "salary_rate                                                           None\n",
       "salary_year_avg                                                        NaN\n",
       "salary_hour_avg                                                        NaN\n",
       "company_name                                          Boehringer Ingelheim\n",
       "job_skills                                                            None\n",
       "job_type_skills                                                       None\n",
       "Name: 0, dtype: object"
      ]
     },
     "execution_count": 10,
     "metadata": {},
     "output_type": "execute_result"
    }
   ],
   "source": [
    "df.loc[0]"
   ]
  },
  {
   "cell_type": "markdown",
   "metadata": {
    "id": "yXx7tA83GGRk"
   },
   "source": [
    "2. Get the first 10 rows of `job_skills` and `job_type_skills`.\n"
   ]
  },
  {
   "cell_type": "code",
   "execution_count": 11,
   "metadata": {
    "colab": {
     "base_uri": "https://localhost:8080/",
     "height": 0
    },
    "executionInfo": {
     "elapsed": 79,
     "status": "ok",
     "timestamp": 1758083152688,
     "user": {
      "displayName": "Wende Zhou",
      "userId": "15441026311543276223"
     },
     "user_tz": -480
    },
    "id": "0gKPMN5sGELW",
    "outputId": "a5553a40-78a7-47b5-b3d4-a4724ab4fcac"
   },
   "outputs": [
    {
     "data": {
      "application/vnd.microsoft.datawrangler.viewer.v0+json": {
       "columns": [
        {
         "name": "index",
         "rawType": "int64",
         "type": "integer"
        },
        {
         "name": "job_skills",
         "rawType": "object",
         "type": "unknown"
        },
        {
         "name": "job_type_skills",
         "rawType": "object",
         "type": "unknown"
        }
       ],
       "ref": "535d28ee-3684-41d5-b0a1-1c72a370cf90",
       "rows": [
        [
         "0",
         null,
         null
        ],
        [
         "1",
         "['r', 'python', 'sql', 'nosql', 'power bi', 'tableau']",
         "{'analyst_tools': ['power bi', 'tableau'], 'programming': ['r', 'python', 'sql', 'nosql']}"
        ],
        [
         "2",
         "['python', 'sql', 'c#', 'azure', 'airflow', 'dax', 'docker', 'kubernetes', 'jenkins']",
         "{'analyst_tools': ['dax'], 'cloud': ['azure'], 'libraries': ['airflow'], 'other': ['docker', 'kubernetes', 'jenkins'], 'programming': ['python', 'sql', 'c#']}"
        ],
        [
         "3",
         "['python', 'c++', 'java', 'matlab', 'aws', 'tensorflow', 'keras', 'pytorch']",
         "{'cloud': ['aws'], 'libraries': ['tensorflow', 'keras', 'pytorch'], 'programming': ['python', 'c++', 'java', 'matlab']}"
        ],
        [
         "4",
         "['bash', 'python', 'oracle', 'aws', 'ansible', 'puppet', 'jenkins', 'gitlab', 'git']",
         "{'cloud': ['oracle', 'aws'], 'other': ['ansible', 'puppet', 'jenkins', 'gitlab', 'git'], 'programming': ['bash', 'python']}"
        ],
        [
         "5",
         "['python', 'sql', 'gcp']",
         "{'cloud': ['gcp'], 'programming': ['python', 'sql']}"
        ],
        [
         "6",
         "['sql', 'python', 'java', 'sql server', 'gcp', 'bigquery', 'hadoop']",
         "{'cloud': ['gcp', 'bigquery'], 'databases': ['sql server'], 'libraries': ['hadoop'], 'programming': ['sql', 'python', 'java']}"
        ],
        [
         "7",
         "['sql', 'nosql', 'gcp', 'azure', 'aws', 'bigquery', 'databricks', 'redshift', 'airflow', 'kafka', 'spark']",
         "{'cloud': ['gcp', 'azure', 'aws', 'bigquery', 'databricks', 'redshift'], 'libraries': ['airflow', 'kafka', 'spark'], 'programming': ['sql', 'nosql']}"
        ],
        [
         "8",
         "['excel', 'powerpoint', 'power bi']",
         "{'analyst_tools': ['excel', 'powerpoint', 'power bi']}"
        ],
        [
         "9",
         "['sql', 'python', 'r', 'mongodb', 'mongodb', 'sql server', 'azure', 'pandas', 'spark', 'windows', 'excel']",
         "{'analyst_tools': ['excel'], 'cloud': ['azure'], 'databases': ['mongodb', 'sql server'], 'libraries': ['pandas', 'spark'], 'os': ['windows'], 'programming': ['sql', 'python', 'r', 'mongodb']}"
        ]
       ],
       "shape": {
        "columns": 2,
        "rows": 10
       }
      },
      "text/html": [
       "<div>\n",
       "<style scoped>\n",
       "    .dataframe tbody tr th:only-of-type {\n",
       "        vertical-align: middle;\n",
       "    }\n",
       "\n",
       "    .dataframe tbody tr th {\n",
       "        vertical-align: top;\n",
       "    }\n",
       "\n",
       "    .dataframe thead th {\n",
       "        text-align: right;\n",
       "    }\n",
       "</style>\n",
       "<table border=\"1\" class=\"dataframe\">\n",
       "  <thead>\n",
       "    <tr style=\"text-align: right;\">\n",
       "      <th></th>\n",
       "      <th>job_skills</th>\n",
       "      <th>job_type_skills</th>\n",
       "    </tr>\n",
       "  </thead>\n",
       "  <tbody>\n",
       "    <tr>\n",
       "      <th>0</th>\n",
       "      <td>None</td>\n",
       "      <td>None</td>\n",
       "    </tr>\n",
       "    <tr>\n",
       "      <th>1</th>\n",
       "      <td>['r', 'python', 'sql', 'nosql', 'power bi', 't...</td>\n",
       "      <td>{'analyst_tools': ['power bi', 'tableau'], 'pr...</td>\n",
       "    </tr>\n",
       "    <tr>\n",
       "      <th>2</th>\n",
       "      <td>['python', 'sql', 'c#', 'azure', 'airflow', 'd...</td>\n",
       "      <td>{'analyst_tools': ['dax'], 'cloud': ['azure'],...</td>\n",
       "    </tr>\n",
       "    <tr>\n",
       "      <th>3</th>\n",
       "      <td>['python', 'c++', 'java', 'matlab', 'aws', 'te...</td>\n",
       "      <td>{'cloud': ['aws'], 'libraries': ['tensorflow',...</td>\n",
       "    </tr>\n",
       "    <tr>\n",
       "      <th>4</th>\n",
       "      <td>['bash', 'python', 'oracle', 'aws', 'ansible',...</td>\n",
       "      <td>{'cloud': ['oracle', 'aws'], 'other': ['ansibl...</td>\n",
       "    </tr>\n",
       "    <tr>\n",
       "      <th>5</th>\n",
       "      <td>['python', 'sql', 'gcp']</td>\n",
       "      <td>{'cloud': ['gcp'], 'programming': ['python', '...</td>\n",
       "    </tr>\n",
       "    <tr>\n",
       "      <th>6</th>\n",
       "      <td>['sql', 'python', 'java', 'sql server', 'gcp',...</td>\n",
       "      <td>{'cloud': ['gcp', 'bigquery'], 'databases': ['...</td>\n",
       "    </tr>\n",
       "    <tr>\n",
       "      <th>7</th>\n",
       "      <td>['sql', 'nosql', 'gcp', 'azure', 'aws', 'bigqu...</td>\n",
       "      <td>{'cloud': ['gcp', 'azure', 'aws', 'bigquery', ...</td>\n",
       "    </tr>\n",
       "    <tr>\n",
       "      <th>8</th>\n",
       "      <td>['excel', 'powerpoint', 'power bi']</td>\n",
       "      <td>{'analyst_tools': ['excel', 'powerpoint', 'pow...</td>\n",
       "    </tr>\n",
       "    <tr>\n",
       "      <th>9</th>\n",
       "      <td>['sql', 'python', 'r', 'mongodb', 'mongodb', '...</td>\n",
       "      <td>{'analyst_tools': ['excel'], 'cloud': ['azure'...</td>\n",
       "    </tr>\n",
       "  </tbody>\n",
       "</table>\n",
       "</div>"
      ],
      "text/plain": [
       "                                          job_skills  \\\n",
       "0                                               None   \n",
       "1  ['r', 'python', 'sql', 'nosql', 'power bi', 't...   \n",
       "2  ['python', 'sql', 'c#', 'azure', 'airflow', 'd...   \n",
       "3  ['python', 'c++', 'java', 'matlab', 'aws', 'te...   \n",
       "4  ['bash', 'python', 'oracle', 'aws', 'ansible',...   \n",
       "5                           ['python', 'sql', 'gcp']   \n",
       "6  ['sql', 'python', 'java', 'sql server', 'gcp',...   \n",
       "7  ['sql', 'nosql', 'gcp', 'azure', 'aws', 'bigqu...   \n",
       "8                ['excel', 'powerpoint', 'power bi']   \n",
       "9  ['sql', 'python', 'r', 'mongodb', 'mongodb', '...   \n",
       "\n",
       "                                     job_type_skills  \n",
       "0                                               None  \n",
       "1  {'analyst_tools': ['power bi', 'tableau'], 'pr...  \n",
       "2  {'analyst_tools': ['dax'], 'cloud': ['azure'],...  \n",
       "3  {'cloud': ['aws'], 'libraries': ['tensorflow',...  \n",
       "4  {'cloud': ['oracle', 'aws'], 'other': ['ansibl...  \n",
       "5  {'cloud': ['gcp'], 'programming': ['python', '...  \n",
       "6  {'cloud': ['gcp', 'bigquery'], 'databases': ['...  \n",
       "7  {'cloud': ['gcp', 'azure', 'aws', 'bigquery', ...  \n",
       "8  {'analyst_tools': ['excel', 'powerpoint', 'pow...  \n",
       "9  {'analyst_tools': ['excel'], 'cloud': ['azure'...  "
      ]
     },
     "execution_count": 11,
     "metadata": {},
     "output_type": "execute_result"
    }
   ],
   "source": [
    "df.loc[: 9, ['job_skills', 'job_type_skills']]"
   ]
  },
  {
   "cell_type": "code",
   "execution_count": 12,
   "metadata": {
    "colab": {
     "base_uri": "https://localhost:8080/",
     "height": 0
    },
    "executionInfo": {
     "elapsed": 34,
     "status": "ok",
     "timestamp": 1758083152722,
     "user": {
      "displayName": "Wende Zhou",
      "userId": "15441026311543276223"
     },
     "user_tz": -480
    },
    "id": "wYTPTIrWGOmX",
    "outputId": "883e06cb-229e-45d3-9fcd-ddfdcf5f916d"
   },
   "outputs": [
    {
     "data": {
      "application/vnd.microsoft.datawrangler.viewer.v0+json": {
       "columns": [
        {
         "name": "index",
         "rawType": "object",
         "type": "string"
        },
        {
         "name": "9",
         "rawType": "object",
         "type": "string"
        }
       ],
       "ref": "c6e14e2f-4d4e-4ed9-8f8d-1403e3d8b777",
       "rows": [
        [
         "job_skills",
         "['sql', 'python', 'r', 'mongodb', 'mongodb', 'sql server', 'azure', 'pandas', 'spark', 'windows', 'excel']"
        ],
        [
         "job_type_skills",
         "{'analyst_tools': ['excel'], 'cloud': ['azure'], 'databases': ['mongodb', 'sql server'], 'libraries': ['pandas', 'spark'], 'os': ['windows'], 'programming': ['sql', 'python', 'r', 'mongodb']}"
        ]
       ],
       "shape": {
        "columns": 1,
        "rows": 2
       }
      },
      "text/plain": [
       "job_skills         ['sql', 'python', 'r', 'mongodb', 'mongodb', '...\n",
       "job_type_skills    {'analyst_tools': ['excel'], 'cloud': ['azure'...\n",
       "Name: 9, dtype: object"
      ]
     },
     "execution_count": 12,
     "metadata": {},
     "output_type": "execute_result"
    }
   ],
   "source": [
    "df.loc[9][[\"job_skills\", \"job_type_skills\"]]"
   ]
  },
  {
   "cell_type": "markdown",
   "metadata": {
    "id": "-07Ybnt4G6pR"
   },
   "source": [
    "3. Get the first 5 columns and rows 10-20.\n"
   ]
  },
  {
   "cell_type": "code",
   "execution_count": 13,
   "metadata": {
    "colab": {
     "base_uri": "https://localhost:8080/",
     "height": 0
    },
    "executionInfo": {
     "elapsed": 111,
     "status": "ok",
     "timestamp": 1758083152832,
     "user": {
      "displayName": "Wende Zhou",
      "userId": "15441026311543276223"
     },
     "user_tz": -480
    },
    "id": "0dg5-kYeGmrK",
    "outputId": "3c7f9847-8bbd-4dd8-c632-bf1fae4fcdb3"
   },
   "outputs": [
    {
     "data": {
      "application/vnd.microsoft.datawrangler.viewer.v0+json": {
       "columns": [
        {
         "name": "index",
         "rawType": "int64",
         "type": "integer"
        },
        {
         "name": "job_title_short",
         "rawType": "object",
         "type": "string"
        },
        {
         "name": "job_title",
         "rawType": "object",
         "type": "string"
        },
        {
         "name": "job_location",
         "rawType": "object",
         "type": "string"
        },
        {
         "name": "job_via",
         "rawType": "object",
         "type": "string"
        },
        {
         "name": "job_schedule_type",
         "rawType": "object",
         "type": "string"
        },
        {
         "name": "job_work_from_home",
         "rawType": "bool",
         "type": "boolean"
        }
       ],
       "ref": "72c54a10-127c-4a25-97b5-467c4da3d3dc",
       "rows": [
        [
         "10",
         "Data Engineer",
         "Erfahrene*r Data Engineer*in (m/w/d)",
         "Basel, Switzerland",
         "via LinkedIn",
         "Full-time",
         "False"
        ],
        [
         "11",
         "Data Engineer",
         "Data Engineer",
         "Colorado Springs, CO   (+3 others)",
         "via The Muse",
         "Full-time",
         "False"
        ],
        [
         "12",
         "Data Analyst",
         "Stagiaire Data Analyst (H/F) - Lyon (69006)",
         "Lyon, France",
         "via Jobijoba",
         "Full-time and Internship",
         "False"
        ],
        [
         "13",
         "Senior Data Engineer",
         "Senior Data Engineer",
         "New York, NY",
         "via LinkedIn",
         "Full-time",
         "False"
        ],
        [
         "14",
         "Data Engineer",
         "Data Engineer",
         "Rio de Janeiro, State of Rio de Janeiro, Brazil",
         "via BeBee",
         "Full-time",
         "False"
        ],
        [
         "15",
         "Data Engineer",
         "Data Engineer",
         "Aberdeen, UK",
         "via LinkedIn",
         "Temp work",
         "False"
        ],
        [
         "16",
         "Data Engineer",
         "Big Data Engineer",
         "Pune, Maharashtra, India",
         "via LinkedIn",
         "Full-time",
         "False"
        ],
        [
         "17",
         "Data Scientist",
         "Data Science Team Lead",
         "Laurel, MD",
         "via APL Careers - Johns Hopkins University Applied Physics Laboratory",
         "Full-time",
         "False"
        ],
        [
         "18",
         "Data Analyst",
         "Data Analyst",
         "Warsaw, Poland",
         "via Praca Trabajo.org",
         "Full-time",
         "False"
        ],
        [
         "19",
         "Data Scientist",
         "Data Scientist",
         "Pune, Maharashtra, India",
         "via Indeed",
         "Full-time",
         "False"
        ],
        [
         "20",
         "Data Scientist",
         "Data Scientist",
         "Zaventem, Belgium",
         "via BeBee Belgique",
         "Full-time",
         "False"
        ]
       ],
       "shape": {
        "columns": 6,
        "rows": 11
       }
      },
      "text/html": [
       "<div>\n",
       "<style scoped>\n",
       "    .dataframe tbody tr th:only-of-type {\n",
       "        vertical-align: middle;\n",
       "    }\n",
       "\n",
       "    .dataframe tbody tr th {\n",
       "        vertical-align: top;\n",
       "    }\n",
       "\n",
       "    .dataframe thead th {\n",
       "        text-align: right;\n",
       "    }\n",
       "</style>\n",
       "<table border=\"1\" class=\"dataframe\">\n",
       "  <thead>\n",
       "    <tr style=\"text-align: right;\">\n",
       "      <th></th>\n",
       "      <th>job_title_short</th>\n",
       "      <th>job_title</th>\n",
       "      <th>job_location</th>\n",
       "      <th>job_via</th>\n",
       "      <th>job_schedule_type</th>\n",
       "      <th>job_work_from_home</th>\n",
       "    </tr>\n",
       "  </thead>\n",
       "  <tbody>\n",
       "    <tr>\n",
       "      <th>10</th>\n",
       "      <td>Data Engineer</td>\n",
       "      <td>Erfahrene*r Data Engineer*in (m/w/d)</td>\n",
       "      <td>Basel, Switzerland</td>\n",
       "      <td>via LinkedIn</td>\n",
       "      <td>Full-time</td>\n",
       "      <td>False</td>\n",
       "    </tr>\n",
       "    <tr>\n",
       "      <th>11</th>\n",
       "      <td>Data Engineer</td>\n",
       "      <td>Data Engineer</td>\n",
       "      <td>Colorado Springs, CO   (+3 others)</td>\n",
       "      <td>via The Muse</td>\n",
       "      <td>Full-time</td>\n",
       "      <td>False</td>\n",
       "    </tr>\n",
       "    <tr>\n",
       "      <th>12</th>\n",
       "      <td>Data Analyst</td>\n",
       "      <td>Stagiaire Data Analyst (H/F) - Lyon (69006)</td>\n",
       "      <td>Lyon, France</td>\n",
       "      <td>via Jobijoba</td>\n",
       "      <td>Full-time and Internship</td>\n",
       "      <td>False</td>\n",
       "    </tr>\n",
       "    <tr>\n",
       "      <th>13</th>\n",
       "      <td>Senior Data Engineer</td>\n",
       "      <td>Senior Data Engineer</td>\n",
       "      <td>New York, NY</td>\n",
       "      <td>via LinkedIn</td>\n",
       "      <td>Full-time</td>\n",
       "      <td>False</td>\n",
       "    </tr>\n",
       "    <tr>\n",
       "      <th>14</th>\n",
       "      <td>Data Engineer</td>\n",
       "      <td>Data Engineer</td>\n",
       "      <td>Rio de Janeiro, State of Rio de Janeiro, Brazil</td>\n",
       "      <td>via BeBee</td>\n",
       "      <td>Full-time</td>\n",
       "      <td>False</td>\n",
       "    </tr>\n",
       "    <tr>\n",
       "      <th>15</th>\n",
       "      <td>Data Engineer</td>\n",
       "      <td>Data Engineer</td>\n",
       "      <td>Aberdeen, UK</td>\n",
       "      <td>via LinkedIn</td>\n",
       "      <td>Temp work</td>\n",
       "      <td>False</td>\n",
       "    </tr>\n",
       "    <tr>\n",
       "      <th>16</th>\n",
       "      <td>Data Engineer</td>\n",
       "      <td>Big Data Engineer</td>\n",
       "      <td>Pune, Maharashtra, India</td>\n",
       "      <td>via LinkedIn</td>\n",
       "      <td>Full-time</td>\n",
       "      <td>False</td>\n",
       "    </tr>\n",
       "    <tr>\n",
       "      <th>17</th>\n",
       "      <td>Data Scientist</td>\n",
       "      <td>Data Science Team Lead</td>\n",
       "      <td>Laurel, MD</td>\n",
       "      <td>via APL Careers - Johns Hopkins University App...</td>\n",
       "      <td>Full-time</td>\n",
       "      <td>False</td>\n",
       "    </tr>\n",
       "    <tr>\n",
       "      <th>18</th>\n",
       "      <td>Data Analyst</td>\n",
       "      <td>Data Analyst</td>\n",
       "      <td>Warsaw, Poland</td>\n",
       "      <td>via Praca Trabajo.org</td>\n",
       "      <td>Full-time</td>\n",
       "      <td>False</td>\n",
       "    </tr>\n",
       "    <tr>\n",
       "      <th>19</th>\n",
       "      <td>Data Scientist</td>\n",
       "      <td>Data Scientist</td>\n",
       "      <td>Pune, Maharashtra, India</td>\n",
       "      <td>via Indeed</td>\n",
       "      <td>Full-time</td>\n",
       "      <td>False</td>\n",
       "    </tr>\n",
       "    <tr>\n",
       "      <th>20</th>\n",
       "      <td>Data Scientist</td>\n",
       "      <td>Data Scientist</td>\n",
       "      <td>Zaventem, Belgium</td>\n",
       "      <td>via BeBee Belgique</td>\n",
       "      <td>Full-time</td>\n",
       "      <td>False</td>\n",
       "    </tr>\n",
       "  </tbody>\n",
       "</table>\n",
       "</div>"
      ],
      "text/plain": [
       "         job_title_short                                    job_title  \\\n",
       "10         Data Engineer         Erfahrene*r Data Engineer*in (m/w/d)   \n",
       "11         Data Engineer                                Data Engineer   \n",
       "12          Data Analyst  Stagiaire Data Analyst (H/F) - Lyon (69006)   \n",
       "13  Senior Data Engineer                         Senior Data Engineer   \n",
       "14         Data Engineer                                Data Engineer   \n",
       "15         Data Engineer                                Data Engineer   \n",
       "16         Data Engineer                            Big Data Engineer   \n",
       "17        Data Scientist                       Data Science Team Lead   \n",
       "18          Data Analyst                                 Data Analyst   \n",
       "19        Data Scientist                               Data Scientist   \n",
       "20        Data Scientist                               Data Scientist   \n",
       "\n",
       "                                       job_location  \\\n",
       "10                               Basel, Switzerland   \n",
       "11               Colorado Springs, CO   (+3 others)   \n",
       "12                                     Lyon, France   \n",
       "13                                     New York, NY   \n",
       "14  Rio de Janeiro, State of Rio de Janeiro, Brazil   \n",
       "15                                     Aberdeen, UK   \n",
       "16                         Pune, Maharashtra, India   \n",
       "17                                       Laurel, MD   \n",
       "18                                   Warsaw, Poland   \n",
       "19                         Pune, Maharashtra, India   \n",
       "20                                Zaventem, Belgium   \n",
       "\n",
       "                                              job_via  \\\n",
       "10                                       via LinkedIn   \n",
       "11                                       via The Muse   \n",
       "12                                       via Jobijoba   \n",
       "13                                       via LinkedIn   \n",
       "14                                          via BeBee   \n",
       "15                                       via LinkedIn   \n",
       "16                                       via LinkedIn   \n",
       "17  via APL Careers - Johns Hopkins University App...   \n",
       "18                              via Praca Trabajo.org   \n",
       "19                                         via Indeed   \n",
       "20                                 via BeBee Belgique   \n",
       "\n",
       "           job_schedule_type  job_work_from_home  \n",
       "10                 Full-time               False  \n",
       "11                 Full-time               False  \n",
       "12  Full-time and Internship               False  \n",
       "13                 Full-time               False  \n",
       "14                 Full-time               False  \n",
       "15                 Temp work               False  \n",
       "16                 Full-time               False  \n",
       "17                 Full-time               False  \n",
       "18                 Full-time               False  \n",
       "19                 Full-time               False  \n",
       "20                 Full-time               False  "
      ]
     },
     "execution_count": 13,
     "metadata": {},
     "output_type": "execute_result"
    }
   ],
   "source": [
    "df.loc[10:20,'job_title_short':'job_work_from_home']"
   ]
  },
  {
   "cell_type": "markdown",
   "metadata": {
    "id": "UkQRGyr9JhOp"
   },
   "source": [
    "Pandas Data Cleaning\n"
   ]
  },
  {
   "cell_type": "markdown",
   "metadata": {
    "id": "7kfMdat2Jlp8"
   },
   "source": [
    "Handling Missing Data\n"
   ]
  },
  {
   "cell_type": "markdown",
   "metadata": {
    "id": "TX_Ps1_FJm2f"
   },
   "source": [
    "Review\n",
    "\n",
    "This is what we learned in the basics section, this is just a refresher of how we've handled null values before. Feel free to skip this.\n",
    "\n",
    "Notes\n",
    "\n",
    "- `df.dropna()`: Drop missing values.\n",
    "\n",
    "Examples\n",
    "\n",
    "Here we are only drop values if all of their values are missing.\n"
   ]
  },
  {
   "cell_type": "code",
   "execution_count": 14,
   "metadata": {
    "colab": {
     "base_uri": "https://localhost:8080/"
    },
    "executionInfo": {
     "elapsed": 1834,
     "status": "ok",
     "timestamp": 1758083154665,
     "user": {
      "displayName": "Wende Zhou",
      "userId": "15441026311543276223"
     },
     "user_tz": -480
    },
    "id": "WL84AY0oJil1",
    "outputId": "b6294be9-6e9e-43f0-c184-aba1185436af"
   },
   "outputs": [
    {
     "name": "stdout",
     "output_type": "stream",
     "text": [
      "<class 'pandas.core.frame.DataFrame'>\n",
      "RangeIndex: 785741 entries, 0 to 785740\n",
      "Data columns (total 17 columns):\n",
      " #   Column                 Non-Null Count   Dtype         \n",
      "---  ------                 --------------   -----         \n",
      " 0   job_title_short        785741 non-null  object        \n",
      " 1   job_title              785740 non-null  object        \n",
      " 2   job_location           784696 non-null  object        \n",
      " 3   job_via                785733 non-null  object        \n",
      " 4   job_schedule_type      773074 non-null  object        \n",
      " 5   job_work_from_home     785741 non-null  bool          \n",
      " 6   search_location        785741 non-null  object        \n",
      " 7   job_posted_date        785741 non-null  datetime64[ns]\n",
      " 8   job_no_degree_mention  785741 non-null  bool          \n",
      " 9   job_health_insurance   785741 non-null  bool          \n",
      " 10  job_country            785692 non-null  object        \n",
      " 11  salary_rate            33067 non-null   object        \n",
      " 12  salary_year_avg        22003 non-null   float64       \n",
      " 13  salary_hour_avg        10662 non-null   float64       \n",
      " 14  company_name           785723 non-null  object        \n",
      " 15  job_skills             668704 non-null  object        \n",
      " 16  job_type_skills        668704 non-null  object        \n",
      "dtypes: bool(3), datetime64[ns](1), float64(2), object(11)\n",
      "memory usage: 86.2+ MB\n"
     ]
    }
   ],
   "source": [
    "df_cleaned = df.dropna(how='all')\n",
    "df_cleaned.info()"
   ]
  },
  {
   "cell_type": "markdown",
   "metadata": {
    "id": "YnkDU0O-Ma8Q"
   },
   "source": [
    "Right now all we can do is drop values if they're missing. But that's not useful right now because our DataFrame didn't have any.\n",
    "\n",
    "So, what if we wanted to fill the missing values with something else? This is expecially useful so we don't run into errors when dealing with NaN values.\n"
   ]
  },
  {
   "cell_type": "markdown",
   "metadata": {
    "id": "5MXux2SuM5ZF"
   },
   "source": [
    "Fillna\n",
    "\n",
    "Notes\n",
    "\n",
    "- `df.fillna()`: Fill missing values\n",
    "\n",
    "Examples\n",
    "\n",
    "Let's fill in instances where there's no salary info (aka these columns have NaN values `salary_rate`, `salary_year_avg`, `salary_hour_avg`) with 0.\n"
   ]
  },
  {
   "cell_type": "markdown",
   "metadata": {
    "id": "Tziun1gRNAaU"
   },
   "source": [
    "We're going to look at a few rows in these 3 columns right now, so we can compare what we've done before to after.\n",
    "\n",
    "We'll use `iloc` to look at the first 10 rows `:10` and the salary information rows `11:14`.\n"
   ]
  },
  {
   "cell_type": "code",
   "execution_count": 15,
   "metadata": {
    "colab": {
     "base_uri": "https://localhost:8080/",
     "height": 363
    },
    "executionInfo": {
     "elapsed": 18,
     "status": "ok",
     "timestamp": 1758083154681,
     "user": {
      "displayName": "Wende Zhou",
      "userId": "15441026311543276223"
     },
     "user_tz": -480
    },
    "id": "wrxmkr4NLIyq",
    "outputId": "ec281fbc-249d-41eb-8e9c-2402bc1bd958"
   },
   "outputs": [
    {
     "data": {
      "application/vnd.microsoft.datawrangler.viewer.v0+json": {
       "columns": [
        {
         "name": "index",
         "rawType": "int64",
         "type": "integer"
        },
        {
         "name": "salary_rate",
         "rawType": "object",
         "type": "unknown"
        },
        {
         "name": "salary_year_avg",
         "rawType": "float64",
         "type": "float"
        },
        {
         "name": "salary_hour_avg",
         "rawType": "float64",
         "type": "float"
        }
       ],
       "ref": "36408e75-5bcc-4bbf-80aa-d42f70d62085",
       "rows": [
        [
         "0",
         null,
         null,
         null
        ],
        [
         "1",
         null,
         null,
         null
        ],
        [
         "2",
         null,
         null,
         null
        ],
        [
         "3",
         null,
         null,
         null
        ],
        [
         "4",
         null,
         null,
         null
        ],
        [
         "5",
         null,
         null,
         null
        ],
        [
         "6",
         null,
         null,
         null
        ],
        [
         "7",
         null,
         null,
         null
        ],
        [
         "8",
         null,
         null,
         null
        ],
        [
         "9",
         null,
         null,
         null
        ]
       ],
       "shape": {
        "columns": 3,
        "rows": 10
       }
      },
      "text/html": [
       "<div>\n",
       "<style scoped>\n",
       "    .dataframe tbody tr th:only-of-type {\n",
       "        vertical-align: middle;\n",
       "    }\n",
       "\n",
       "    .dataframe tbody tr th {\n",
       "        vertical-align: top;\n",
       "    }\n",
       "\n",
       "    .dataframe thead th {\n",
       "        text-align: right;\n",
       "    }\n",
       "</style>\n",
       "<table border=\"1\" class=\"dataframe\">\n",
       "  <thead>\n",
       "    <tr style=\"text-align: right;\">\n",
       "      <th></th>\n",
       "      <th>salary_rate</th>\n",
       "      <th>salary_year_avg</th>\n",
       "      <th>salary_hour_avg</th>\n",
       "    </tr>\n",
       "  </thead>\n",
       "  <tbody>\n",
       "    <tr>\n",
       "      <th>0</th>\n",
       "      <td>None</td>\n",
       "      <td>NaN</td>\n",
       "      <td>NaN</td>\n",
       "    </tr>\n",
       "    <tr>\n",
       "      <th>1</th>\n",
       "      <td>None</td>\n",
       "      <td>NaN</td>\n",
       "      <td>NaN</td>\n",
       "    </tr>\n",
       "    <tr>\n",
       "      <th>2</th>\n",
       "      <td>None</td>\n",
       "      <td>NaN</td>\n",
       "      <td>NaN</td>\n",
       "    </tr>\n",
       "    <tr>\n",
       "      <th>3</th>\n",
       "      <td>None</td>\n",
       "      <td>NaN</td>\n",
       "      <td>NaN</td>\n",
       "    </tr>\n",
       "    <tr>\n",
       "      <th>4</th>\n",
       "      <td>None</td>\n",
       "      <td>NaN</td>\n",
       "      <td>NaN</td>\n",
       "    </tr>\n",
       "    <tr>\n",
       "      <th>5</th>\n",
       "      <td>None</td>\n",
       "      <td>NaN</td>\n",
       "      <td>NaN</td>\n",
       "    </tr>\n",
       "    <tr>\n",
       "      <th>6</th>\n",
       "      <td>None</td>\n",
       "      <td>NaN</td>\n",
       "      <td>NaN</td>\n",
       "    </tr>\n",
       "    <tr>\n",
       "      <th>7</th>\n",
       "      <td>None</td>\n",
       "      <td>NaN</td>\n",
       "      <td>NaN</td>\n",
       "    </tr>\n",
       "    <tr>\n",
       "      <th>8</th>\n",
       "      <td>None</td>\n",
       "      <td>NaN</td>\n",
       "      <td>NaN</td>\n",
       "    </tr>\n",
       "    <tr>\n",
       "      <th>9</th>\n",
       "      <td>None</td>\n",
       "      <td>NaN</td>\n",
       "      <td>NaN</td>\n",
       "    </tr>\n",
       "  </tbody>\n",
       "</table>\n",
       "</div>"
      ],
      "text/plain": [
       "  salary_rate  salary_year_avg  salary_hour_avg\n",
       "0        None              NaN              NaN\n",
       "1        None              NaN              NaN\n",
       "2        None              NaN              NaN\n",
       "3        None              NaN              NaN\n",
       "4        None              NaN              NaN\n",
       "5        None              NaN              NaN\n",
       "6        None              NaN              NaN\n",
       "7        None              NaN              NaN\n",
       "8        None              NaN              NaN\n",
       "9        None              NaN              NaN"
      ]
     },
     "execution_count": 15,
     "metadata": {},
     "output_type": "execute_result"
    }
   ],
   "source": [
    "df.iloc[:10, 11:14]"
   ]
  },
  {
   "cell_type": "markdown",
   "metadata": {
    "id": "kIUoqUzUNHrd"
   },
   "source": [
    "We fill the values for the 3 columns with 0 using `fillna()`.\n"
   ]
  },
  {
   "cell_type": "code",
   "execution_count": 16,
   "metadata": {
    "colab": {
     "base_uri": "https://localhost:8080/"
    },
    "executionInfo": {
     "elapsed": 1595,
     "status": "ok",
     "timestamp": 1758083156277,
     "user": {
      "displayName": "Wende Zhou",
      "userId": "15441026311543276223"
     },
     "user_tz": -480
    },
    "id": "Y_z8FS18NEwt",
    "outputId": "a63829b1-c836-4b97-f49b-4cc5f3fcc42a"
   },
   "outputs": [
    {
     "name": "stdout",
     "output_type": "stream",
     "text": [
      "<class 'pandas.core.frame.DataFrame'>\n",
      "RangeIndex: 785741 entries, 0 to 785740\n",
      "Data columns (total 17 columns):\n",
      " #   Column                 Non-Null Count   Dtype         \n",
      "---  ------                 --------------   -----         \n",
      " 0   job_title_short        785741 non-null  object        \n",
      " 1   job_title              785741 non-null  object        \n",
      " 2   job_location           785741 non-null  object        \n",
      " 3   job_via                785741 non-null  object        \n",
      " 4   job_schedule_type      785741 non-null  object        \n",
      " 5   job_work_from_home     785741 non-null  bool          \n",
      " 6   search_location        785741 non-null  object        \n",
      " 7   job_posted_date        785741 non-null  datetime64[ns]\n",
      " 8   job_no_degree_mention  785741 non-null  bool          \n",
      " 9   job_health_insurance   785741 non-null  bool          \n",
      " 10  job_country            785741 non-null  object        \n",
      " 11  salary_rate            785741 non-null  object        \n",
      " 12  salary_year_avg        785741 non-null  float64       \n",
      " 13  salary_hour_avg        785741 non-null  float64       \n",
      " 14  company_name           785741 non-null  object        \n",
      " 15  job_skills             785741 non-null  object        \n",
      " 16  job_type_skills        785741 non-null  object        \n",
      "dtypes: bool(3), datetime64[ns](1), float64(2), object(11)\n",
      "memory usage: 86.2+ MB\n"
     ]
    }
   ],
   "source": [
    "fill_values = ['salary_rate', 'salary_year_avg', 'salary_hour_avg']\n",
    "df_filled = df_cleaned.fillna(0)\n",
    "\n",
    "df_filled.info()"
   ]
  },
  {
   "cell_type": "markdown",
   "metadata": {
    "id": "CDq49gkGN20R"
   },
   "source": [
    "Now if we compare the results using `iloc` again on our new DataFrame. We see that the previous NaN values in the columns ( `salary_rate`, `salary_year_avg`, `salary_hour_avg`) have been replaced with 0.\n"
   ]
  },
  {
   "cell_type": "code",
   "execution_count": 17,
   "metadata": {
    "colab": {
     "base_uri": "https://localhost:8080/",
     "height": 363
    },
    "executionInfo": {
     "elapsed": 23,
     "status": "ok",
     "timestamp": 1758083156301,
     "user": {
      "displayName": "Wende Zhou",
      "userId": "15441026311543276223"
     },
     "user_tz": -480
    },
    "id": "Jxgy-Z4ANu36",
    "outputId": "a9549590-13a0-4d75-f35c-0bc71f0d030f"
   },
   "outputs": [
    {
     "data": {
      "application/vnd.microsoft.datawrangler.viewer.v0+json": {
       "columns": [
        {
         "name": "index",
         "rawType": "int64",
         "type": "integer"
        },
        {
         "name": "salary_rate",
         "rawType": "object",
         "type": "unknown"
        },
        {
         "name": "salary_year_avg",
         "rawType": "float64",
         "type": "float"
        },
        {
         "name": "salary_hour_avg",
         "rawType": "float64",
         "type": "float"
        }
       ],
       "ref": "679fe797-1360-4282-acbf-072234e0baf3",
       "rows": [
        [
         "0",
         "0",
         "0.0",
         "0.0"
        ],
        [
         "1",
         "0",
         "0.0",
         "0.0"
        ],
        [
         "2",
         "0",
         "0.0",
         "0.0"
        ],
        [
         "3",
         "0",
         "0.0",
         "0.0"
        ],
        [
         "4",
         "0",
         "0.0",
         "0.0"
        ],
        [
         "5",
         "0",
         "0.0",
         "0.0"
        ],
        [
         "6",
         "0",
         "0.0",
         "0.0"
        ],
        [
         "7",
         "0",
         "0.0",
         "0.0"
        ],
        [
         "8",
         "0",
         "0.0",
         "0.0"
        ],
        [
         "9",
         "0",
         "0.0",
         "0.0"
        ]
       ],
       "shape": {
        "columns": 3,
        "rows": 10
       }
      },
      "text/html": [
       "<div>\n",
       "<style scoped>\n",
       "    .dataframe tbody tr th:only-of-type {\n",
       "        vertical-align: middle;\n",
       "    }\n",
       "\n",
       "    .dataframe tbody tr th {\n",
       "        vertical-align: top;\n",
       "    }\n",
       "\n",
       "    .dataframe thead th {\n",
       "        text-align: right;\n",
       "    }\n",
       "</style>\n",
       "<table border=\"1\" class=\"dataframe\">\n",
       "  <thead>\n",
       "    <tr style=\"text-align: right;\">\n",
       "      <th></th>\n",
       "      <th>salary_rate</th>\n",
       "      <th>salary_year_avg</th>\n",
       "      <th>salary_hour_avg</th>\n",
       "    </tr>\n",
       "  </thead>\n",
       "  <tbody>\n",
       "    <tr>\n",
       "      <th>0</th>\n",
       "      <td>0</td>\n",
       "      <td>0.0</td>\n",
       "      <td>0.0</td>\n",
       "    </tr>\n",
       "    <tr>\n",
       "      <th>1</th>\n",
       "      <td>0</td>\n",
       "      <td>0.0</td>\n",
       "      <td>0.0</td>\n",
       "    </tr>\n",
       "    <tr>\n",
       "      <th>2</th>\n",
       "      <td>0</td>\n",
       "      <td>0.0</td>\n",
       "      <td>0.0</td>\n",
       "    </tr>\n",
       "    <tr>\n",
       "      <th>3</th>\n",
       "      <td>0</td>\n",
       "      <td>0.0</td>\n",
       "      <td>0.0</td>\n",
       "    </tr>\n",
       "    <tr>\n",
       "      <th>4</th>\n",
       "      <td>0</td>\n",
       "      <td>0.0</td>\n",
       "      <td>0.0</td>\n",
       "    </tr>\n",
       "    <tr>\n",
       "      <th>5</th>\n",
       "      <td>0</td>\n",
       "      <td>0.0</td>\n",
       "      <td>0.0</td>\n",
       "    </tr>\n",
       "    <tr>\n",
       "      <th>6</th>\n",
       "      <td>0</td>\n",
       "      <td>0.0</td>\n",
       "      <td>0.0</td>\n",
       "    </tr>\n",
       "    <tr>\n",
       "      <th>7</th>\n",
       "      <td>0</td>\n",
       "      <td>0.0</td>\n",
       "      <td>0.0</td>\n",
       "    </tr>\n",
       "    <tr>\n",
       "      <th>8</th>\n",
       "      <td>0</td>\n",
       "      <td>0.0</td>\n",
       "      <td>0.0</td>\n",
       "    </tr>\n",
       "    <tr>\n",
       "      <th>9</th>\n",
       "      <td>0</td>\n",
       "      <td>0.0</td>\n",
       "      <td>0.0</td>\n",
       "    </tr>\n",
       "  </tbody>\n",
       "</table>\n",
       "</div>"
      ],
      "text/plain": [
       "  salary_rate  salary_year_avg  salary_hour_avg\n",
       "0           0              0.0              0.0\n",
       "1           0              0.0              0.0\n",
       "2           0              0.0              0.0\n",
       "3           0              0.0              0.0\n",
       "4           0              0.0              0.0\n",
       "5           0              0.0              0.0\n",
       "6           0              0.0              0.0\n",
       "7           0              0.0              0.0\n",
       "8           0              0.0              0.0\n",
       "9           0              0.0              0.0"
      ]
     },
     "execution_count": 17,
     "metadata": {},
     "output_type": "execute_result"
    }
   ],
   "source": [
    "df_filled.iloc[:10, 11: 14]"
   ]
  },
  {
   "cell_type": "markdown",
   "metadata": {
    "id": "PQj8OD5GN-ww"
   },
   "source": [
    "Drop Duplicates\n",
    "\n",
    "Notes\n",
    "\n",
    "- `drop_duplicates()`: Remove duplicate rows.\n",
    "- Analysts will often need to clean up data and one of the most common issues we run into is duplicate values.\n",
    "\n",
    "Examples\n",
    "\n",
    "Now that we've dealt with NaN values. Let's continue cleaning the data by removing any duplicate rows.\n"
   ]
  },
  {
   "cell_type": "code",
   "execution_count": 18,
   "metadata": {
    "colab": {
     "base_uri": "https://localhost:8080/"
    },
    "executionInfo": {
     "elapsed": 2052,
     "status": "ok",
     "timestamp": 1758083158353,
     "user": {
      "displayName": "Wende Zhou",
      "userId": "15441026311543276223"
     },
     "user_tz": -480
    },
    "id": "uoDR-l2rN8Lr",
    "outputId": "c42406e6-ea0a-4dd8-d19b-459a97db817f"
   },
   "outputs": [
    {
     "name": "stdout",
     "output_type": "stream",
     "text": [
      "<class 'pandas.core.frame.DataFrame'>\n",
      "Index: 785640 entries, 0 to 785740\n",
      "Data columns (total 17 columns):\n",
      " #   Column                 Non-Null Count   Dtype         \n",
      "---  ------                 --------------   -----         \n",
      " 0   job_title_short        785640 non-null  object        \n",
      " 1   job_title              785640 non-null  object        \n",
      " 2   job_location           785640 non-null  object        \n",
      " 3   job_via                785640 non-null  object        \n",
      " 4   job_schedule_type      785640 non-null  object        \n",
      " 5   job_work_from_home     785640 non-null  bool          \n",
      " 6   search_location        785640 non-null  object        \n",
      " 7   job_posted_date        785640 non-null  datetime64[ns]\n",
      " 8   job_no_degree_mention  785640 non-null  bool          \n",
      " 9   job_health_insurance   785640 non-null  bool          \n",
      " 10  job_country            785640 non-null  object        \n",
      " 11  salary_rate            785640 non-null  object        \n",
      " 12  salary_year_avg        785640 non-null  float64       \n",
      " 13  salary_hour_avg        785640 non-null  float64       \n",
      " 14  company_name           785640 non-null  object        \n",
      " 15  job_skills             785640 non-null  object        \n",
      " 16  job_type_skills        785640 non-null  object        \n",
      "dtypes: bool(3), datetime64[ns](1), float64(2), object(11)\n",
      "memory usage: 92.2+ MB\n"
     ]
    }
   ],
   "source": [
    "df_unique = df_filled.drop_duplicates()\n",
    "\n",
    "df_unique.info()"
   ]
  },
  {
   "cell_type": "markdown",
   "metadata": {
    "id": "fC48FDMhOKeI"
   },
   "source": [
    "If you compare that with the original DataFrame which had 785741 entries. This new DataFrame `df_unique` has 785640 entries. It removed 101 entries.\n",
    "\n",
    "Now let's see what would happen if we tried to remove duplicates from `job_title`.\n"
   ]
  },
  {
   "cell_type": "code",
   "execution_count": 19,
   "metadata": {
    "colab": {
     "base_uri": "https://localhost:8080/"
    },
    "executionInfo": {
     "elapsed": 446,
     "status": "ok",
     "timestamp": 1758083158858,
     "user": {
      "displayName": "Wende Zhou",
      "userId": "15441026311543276223"
     },
     "user_tz": -480
    },
    "id": "3Y8PNU5AOGmw",
    "outputId": "ac349cba-9dff-479f-b76b-b8ac3843b44b"
   },
   "outputs": [
    {
     "name": "stdout",
     "output_type": "stream",
     "text": [
      "<class 'pandas.core.frame.DataFrame'>\n",
      "Index: 234674 entries, 0 to 785740\n",
      "Data columns (total 17 columns):\n",
      " #   Column                 Non-Null Count   Dtype         \n",
      "---  ------                 --------------   -----         \n",
      " 0   job_title_short        234674 non-null  object        \n",
      " 1   job_title              234674 non-null  object        \n",
      " 2   job_location           234674 non-null  object        \n",
      " 3   job_via                234674 non-null  object        \n",
      " 4   job_schedule_type      234674 non-null  object        \n",
      " 5   job_work_from_home     234674 non-null  bool          \n",
      " 6   search_location        234674 non-null  object        \n",
      " 7   job_posted_date        234674 non-null  datetime64[ns]\n",
      " 8   job_no_degree_mention  234674 non-null  bool          \n",
      " 9   job_health_insurance   234674 non-null  bool          \n",
      " 10  job_country            234674 non-null  object        \n",
      " 11  salary_rate            234674 non-null  object        \n",
      " 12  salary_year_avg        234674 non-null  float64       \n",
      " 13  salary_hour_avg        234674 non-null  float64       \n",
      " 14  company_name           234674 non-null  object        \n",
      " 15  job_skills             234674 non-null  object        \n",
      " 16  job_type_skills        234674 non-null  object        \n",
      "dtypes: bool(3), datetime64[ns](1), float64(2), object(11)\n",
      "memory usage: 27.5+ MB\n"
     ]
    }
   ],
   "source": [
    "df_unique = df_filled.drop_duplicates(subset=['job_title'])\n",
    "\n",
    "df_unique.info()"
   ]
  },
  {
   "cell_type": "markdown",
   "metadata": {
    "id": "wh-yPhQiPHQ2"
   },
   "source": [
    "If we look at it now. It looks like we removed quite a few rows. Now all of these rows have unique `job_title`s.\n"
   ]
  },
  {
   "cell_type": "code",
   "execution_count": 20,
   "metadata": {
    "colab": {
     "base_uri": "https://localhost:8080/",
     "height": 938
    },
    "executionInfo": {
     "elapsed": 4,
     "status": "ok",
     "timestamp": 1758083158863,
     "user": {
      "displayName": "Wende Zhou",
      "userId": "15441026311543276223"
     },
     "user_tz": -480
    },
    "id": "SYf8OoUeO9vR",
    "outputId": "bee06530-1546-4d20-ba2c-00ab427cf988"
   },
   "outputs": [
    {
     "data": {
      "application/vnd.microsoft.datawrangler.viewer.v0+json": {
       "columns": [
        {
         "name": "index",
         "rawType": "int64",
         "type": "integer"
        },
        {
         "name": "job_title_short",
         "rawType": "object",
         "type": "string"
        },
        {
         "name": "job_title",
         "rawType": "object",
         "type": "string"
        },
        {
         "name": "job_location",
         "rawType": "object",
         "type": "string"
        },
        {
         "name": "job_via",
         "rawType": "object",
         "type": "string"
        },
        {
         "name": "job_schedule_type",
         "rawType": "object",
         "type": "string"
        },
        {
         "name": "job_work_from_home",
         "rawType": "bool",
         "type": "boolean"
        },
        {
         "name": "search_location",
         "rawType": "object",
         "type": "string"
        },
        {
         "name": "job_posted_date",
         "rawType": "datetime64[ns]",
         "type": "datetime"
        },
        {
         "name": "job_no_degree_mention",
         "rawType": "bool",
         "type": "boolean"
        },
        {
         "name": "job_health_insurance",
         "rawType": "bool",
         "type": "boolean"
        },
        {
         "name": "job_country",
         "rawType": "object",
         "type": "string"
        },
        {
         "name": "salary_rate",
         "rawType": "object",
         "type": "unknown"
        },
        {
         "name": "salary_year_avg",
         "rawType": "float64",
         "type": "float"
        },
        {
         "name": "salary_hour_avg",
         "rawType": "float64",
         "type": "float"
        },
        {
         "name": "company_name",
         "rawType": "object",
         "type": "string"
        },
        {
         "name": "job_skills",
         "rawType": "object",
         "type": "unknown"
        },
        {
         "name": "job_type_skills",
         "rawType": "object",
         "type": "unknown"
        }
       ],
       "ref": "50934761-1014-440f-a310-e78009ce55fb",
       "rows": [
        [
         "0",
         "Senior Data Engineer",
         "Senior Clinical Data Engineer / Principal Clinical Data Engineer ...",
         "Watertown, CT",
         "via Work Nearby",
         "Full-time",
         "False",
         "Texas, United States",
         "2023-06-16 13:44:15",
         "False",
         "False",
         "United States",
         "0",
         "0.0",
         "0.0",
         "Boehringer Ingelheim",
         "0",
         "0"
        ],
        [
         "1",
         "Data Analyst",
         "Data Analyst",
         "Guadalajara, Jalisco, Mexico",
         "via BeBee México",
         "Full-time",
         "False",
         "Mexico",
         "2023-01-14 13:18:07",
         "False",
         "False",
         "Mexico",
         "0",
         "0.0",
         "0.0",
         "Hewlett Packard Enterprise",
         "['r', 'python', 'sql', 'nosql', 'power bi', 'tableau']",
         "{'analyst_tools': ['power bi', 'tableau'], 'programming': ['r', 'python', 'sql', 'nosql']}"
        ],
        [
         "2",
         "Data Engineer",
         "Data Engineer/Scientist/Analyst, Mid or Senior (m/f/x)",
         "Berlin, Germany",
         "via LinkedIn",
         "Full-time",
         "False",
         "Germany",
         "2023-10-10 13:14:55",
         "False",
         "False",
         "Germany",
         "0",
         "0.0",
         "0.0",
         "ALPHA Augmented Services",
         "['python', 'sql', 'c#', 'azure', 'airflow', 'dax', 'docker', 'kubernetes', 'jenkins']",
         "{'analyst_tools': ['dax'], 'cloud': ['azure'], 'libraries': ['airflow'], 'other': ['docker', 'kubernetes', 'jenkins'], 'programming': ['python', 'sql', 'c#']}"
        ],
        [
         "3",
         "Data Engineer",
         "LEAD ENGINEER - PRINCIPAL ANALYST - PRINCIPAL ENGINEER -  DATA...",
         "San Antonio, TX",
         "via Diversity.com",
         "Full-time",
         "False",
         "Texas, United States",
         "2023-07-04 13:01:41",
         "True",
         "False",
         "United States",
         "0",
         "0.0",
         "0.0",
         "Southwest Research Institute",
         "['python', 'c++', 'java', 'matlab', 'aws', 'tensorflow', 'keras', 'pytorch']",
         "{'cloud': ['aws'], 'libraries': ['tensorflow', 'keras', 'pytorch'], 'programming': ['python', 'c++', 'java', 'matlab']}"
        ],
        [
         "4",
         "Data Engineer",
         "Data Engineer- Sr Jobs",
         "Washington, DC",
         "via Clearance Jobs",
         "Full-time",
         "False",
         "Sudan",
         "2023-08-07 14:29:36",
         "False",
         "False",
         "Sudan",
         "0",
         "0.0",
         "0.0",
         "Kristina Daniel",
         "['bash', 'python', 'oracle', 'aws', 'ansible', 'puppet', 'jenkins', 'gitlab', 'git']",
         "{'cloud': ['oracle', 'aws'], 'other': ['ansible', 'puppet', 'jenkins', 'gitlab', 'git'], 'programming': ['bash', 'python']}"
        ],
        [
         "5",
         "Data Engineer",
         "GCP Data Engineer",
         "Anywhere",
         "via ZipRecruiter",
         "Contractor and Temp work",
         "True",
         "Georgia",
         "2023-11-07 14:01:59",
         "False",
         "False",
         "United States",
         "0",
         "0.0",
         "0.0",
         "smart folks inc",
         "['python', 'sql', 'gcp']",
         "{'cloud': ['gcp'], 'programming': ['python', 'sql']}"
        ],
        [
         "6",
         "Senior Data Engineer",
         "Senior Data Engineer  - GCP Cloud",
         "Dearborn, MI",
         "via LinkedIn",
         "Full-time",
         "False",
         "Florida, United States",
         "2023-03-27 13:18:18",
         "False",
         "False",
         "United States",
         "0",
         "0.0",
         "0.0",
         "Miracle Software Systems, Inc",
         "['sql', 'python', 'java', 'sql server', 'gcp', 'bigquery', 'hadoop']",
         "{'cloud': ['gcp', 'bigquery'], 'databases': ['sql server'], 'libraries': ['hadoop'], 'programming': ['sql', 'python', 'java']}"
        ],
        [
         "7",
         "Data Engineer",
         "Data Engineer",
         "Anywhere",
         "via LinkedIn",
         "Full-time",
         "True",
         "Romania",
         "2023-12-07 13:40:49",
         "False",
         "False",
         "Romania",
         "0",
         "0.0",
         "0.0",
         "Zitec",
         "['sql', 'nosql', 'gcp', 'azure', 'aws', 'bigquery', 'databricks', 'redshift', 'airflow', 'kafka', 'spark']",
         "{'cloud': ['gcp', 'azure', 'aws', 'bigquery', 'databricks', 'redshift'], 'libraries': ['airflow', 'kafka', 'spark'], 'programming': ['sql', 'nosql']}"
        ],
        [
         "8",
         "Business Analyst",
         "Technology & Operations Business Analyst",
         "Copenhagen, Denmark",
         "via Trabajo.org",
         "Full-time",
         "False",
         "Denmark",
         "2023-06-05 13:44:34",
         "False",
         "False",
         "Denmark",
         "0",
         "0.0",
         "0.0",
         "Hempel",
         "['excel', 'powerpoint', 'power bi']",
         "{'analyst_tools': ['excel', 'powerpoint', 'power bi']}"
        ],
        [
         "9",
         "Data Scientist",
         "Data Scientist II",
         "Anywhere",
         "via ZipRecruiter",
         "Full-time",
         "True",
         "New York, United States",
         "2023-04-23 13:02:57",
         "False",
         "False",
         "United States",
         "0",
         "0.0",
         "0.0",
         "Radwell International, LLC",
         "['sql', 'python', 'r', 'mongodb', 'mongodb', 'sql server', 'azure', 'pandas', 'spark', 'windows', 'excel']",
         "{'analyst_tools': ['excel'], 'cloud': ['azure'], 'databases': ['mongodb', 'sql server'], 'libraries': ['pandas', 'spark'], 'os': ['windows'], 'programming': ['sql', 'python', 'r', 'mongodb']}"
        ]
       ],
       "shape": {
        "columns": 17,
        "rows": 10
       }
      },
      "text/html": [
       "<div>\n",
       "<style scoped>\n",
       "    .dataframe tbody tr th:only-of-type {\n",
       "        vertical-align: middle;\n",
       "    }\n",
       "\n",
       "    .dataframe tbody tr th {\n",
       "        vertical-align: top;\n",
       "    }\n",
       "\n",
       "    .dataframe thead th {\n",
       "        text-align: right;\n",
       "    }\n",
       "</style>\n",
       "<table border=\"1\" class=\"dataframe\">\n",
       "  <thead>\n",
       "    <tr style=\"text-align: right;\">\n",
       "      <th></th>\n",
       "      <th>job_title_short</th>\n",
       "      <th>job_title</th>\n",
       "      <th>job_location</th>\n",
       "      <th>job_via</th>\n",
       "      <th>job_schedule_type</th>\n",
       "      <th>job_work_from_home</th>\n",
       "      <th>search_location</th>\n",
       "      <th>job_posted_date</th>\n",
       "      <th>job_no_degree_mention</th>\n",
       "      <th>job_health_insurance</th>\n",
       "      <th>job_country</th>\n",
       "      <th>salary_rate</th>\n",
       "      <th>salary_year_avg</th>\n",
       "      <th>salary_hour_avg</th>\n",
       "      <th>company_name</th>\n",
       "      <th>job_skills</th>\n",
       "      <th>job_type_skills</th>\n",
       "    </tr>\n",
       "  </thead>\n",
       "  <tbody>\n",
       "    <tr>\n",
       "      <th>0</th>\n",
       "      <td>Senior Data Engineer</td>\n",
       "      <td>Senior Clinical Data Engineer / Principal Clin...</td>\n",
       "      <td>Watertown, CT</td>\n",
       "      <td>via Work Nearby</td>\n",
       "      <td>Full-time</td>\n",
       "      <td>False</td>\n",
       "      <td>Texas, United States</td>\n",
       "      <td>2023-06-16 13:44:15</td>\n",
       "      <td>False</td>\n",
       "      <td>False</td>\n",
       "      <td>United States</td>\n",
       "      <td>0</td>\n",
       "      <td>0.0</td>\n",
       "      <td>0.0</td>\n",
       "      <td>Boehringer Ingelheim</td>\n",
       "      <td>0</td>\n",
       "      <td>0</td>\n",
       "    </tr>\n",
       "    <tr>\n",
       "      <th>1</th>\n",
       "      <td>Data Analyst</td>\n",
       "      <td>Data Analyst</td>\n",
       "      <td>Guadalajara, Jalisco, Mexico</td>\n",
       "      <td>via BeBee México</td>\n",
       "      <td>Full-time</td>\n",
       "      <td>False</td>\n",
       "      <td>Mexico</td>\n",
       "      <td>2023-01-14 13:18:07</td>\n",
       "      <td>False</td>\n",
       "      <td>False</td>\n",
       "      <td>Mexico</td>\n",
       "      <td>0</td>\n",
       "      <td>0.0</td>\n",
       "      <td>0.0</td>\n",
       "      <td>Hewlett Packard Enterprise</td>\n",
       "      <td>['r', 'python', 'sql', 'nosql', 'power bi', 't...</td>\n",
       "      <td>{'analyst_tools': ['power bi', 'tableau'], 'pr...</td>\n",
       "    </tr>\n",
       "    <tr>\n",
       "      <th>2</th>\n",
       "      <td>Data Engineer</td>\n",
       "      <td>Data Engineer/Scientist/Analyst, Mid or Senior...</td>\n",
       "      <td>Berlin, Germany</td>\n",
       "      <td>via LinkedIn</td>\n",
       "      <td>Full-time</td>\n",
       "      <td>False</td>\n",
       "      <td>Germany</td>\n",
       "      <td>2023-10-10 13:14:55</td>\n",
       "      <td>False</td>\n",
       "      <td>False</td>\n",
       "      <td>Germany</td>\n",
       "      <td>0</td>\n",
       "      <td>0.0</td>\n",
       "      <td>0.0</td>\n",
       "      <td>ALPHA Augmented Services</td>\n",
       "      <td>['python', 'sql', 'c#', 'azure', 'airflow', 'd...</td>\n",
       "      <td>{'analyst_tools': ['dax'], 'cloud': ['azure'],...</td>\n",
       "    </tr>\n",
       "    <tr>\n",
       "      <th>3</th>\n",
       "      <td>Data Engineer</td>\n",
       "      <td>LEAD ENGINEER - PRINCIPAL ANALYST - PRINCIPAL ...</td>\n",
       "      <td>San Antonio, TX</td>\n",
       "      <td>via Diversity.com</td>\n",
       "      <td>Full-time</td>\n",
       "      <td>False</td>\n",
       "      <td>Texas, United States</td>\n",
       "      <td>2023-07-04 13:01:41</td>\n",
       "      <td>True</td>\n",
       "      <td>False</td>\n",
       "      <td>United States</td>\n",
       "      <td>0</td>\n",
       "      <td>0.0</td>\n",
       "      <td>0.0</td>\n",
       "      <td>Southwest Research Institute</td>\n",
       "      <td>['python', 'c++', 'java', 'matlab', 'aws', 'te...</td>\n",
       "      <td>{'cloud': ['aws'], 'libraries': ['tensorflow',...</td>\n",
       "    </tr>\n",
       "    <tr>\n",
       "      <th>4</th>\n",
       "      <td>Data Engineer</td>\n",
       "      <td>Data Engineer- Sr Jobs</td>\n",
       "      <td>Washington, DC</td>\n",
       "      <td>via Clearance Jobs</td>\n",
       "      <td>Full-time</td>\n",
       "      <td>False</td>\n",
       "      <td>Sudan</td>\n",
       "      <td>2023-08-07 14:29:36</td>\n",
       "      <td>False</td>\n",
       "      <td>False</td>\n",
       "      <td>Sudan</td>\n",
       "      <td>0</td>\n",
       "      <td>0.0</td>\n",
       "      <td>0.0</td>\n",
       "      <td>Kristina Daniel</td>\n",
       "      <td>['bash', 'python', 'oracle', 'aws', 'ansible',...</td>\n",
       "      <td>{'cloud': ['oracle', 'aws'], 'other': ['ansibl...</td>\n",
       "    </tr>\n",
       "    <tr>\n",
       "      <th>5</th>\n",
       "      <td>Data Engineer</td>\n",
       "      <td>GCP Data Engineer</td>\n",
       "      <td>Anywhere</td>\n",
       "      <td>via ZipRecruiter</td>\n",
       "      <td>Contractor and Temp work</td>\n",
       "      <td>True</td>\n",
       "      <td>Georgia</td>\n",
       "      <td>2023-11-07 14:01:59</td>\n",
       "      <td>False</td>\n",
       "      <td>False</td>\n",
       "      <td>United States</td>\n",
       "      <td>0</td>\n",
       "      <td>0.0</td>\n",
       "      <td>0.0</td>\n",
       "      <td>smart folks inc</td>\n",
       "      <td>['python', 'sql', 'gcp']</td>\n",
       "      <td>{'cloud': ['gcp'], 'programming': ['python', '...</td>\n",
       "    </tr>\n",
       "    <tr>\n",
       "      <th>6</th>\n",
       "      <td>Senior Data Engineer</td>\n",
       "      <td>Senior Data Engineer  - GCP Cloud</td>\n",
       "      <td>Dearborn, MI</td>\n",
       "      <td>via LinkedIn</td>\n",
       "      <td>Full-time</td>\n",
       "      <td>False</td>\n",
       "      <td>Florida, United States</td>\n",
       "      <td>2023-03-27 13:18:18</td>\n",
       "      <td>False</td>\n",
       "      <td>False</td>\n",
       "      <td>United States</td>\n",
       "      <td>0</td>\n",
       "      <td>0.0</td>\n",
       "      <td>0.0</td>\n",
       "      <td>Miracle Software Systems, Inc</td>\n",
       "      <td>['sql', 'python', 'java', 'sql server', 'gcp',...</td>\n",
       "      <td>{'cloud': ['gcp', 'bigquery'], 'databases': ['...</td>\n",
       "    </tr>\n",
       "    <tr>\n",
       "      <th>7</th>\n",
       "      <td>Data Engineer</td>\n",
       "      <td>Data Engineer</td>\n",
       "      <td>Anywhere</td>\n",
       "      <td>via LinkedIn</td>\n",
       "      <td>Full-time</td>\n",
       "      <td>True</td>\n",
       "      <td>Romania</td>\n",
       "      <td>2023-12-07 13:40:49</td>\n",
       "      <td>False</td>\n",
       "      <td>False</td>\n",
       "      <td>Romania</td>\n",
       "      <td>0</td>\n",
       "      <td>0.0</td>\n",
       "      <td>0.0</td>\n",
       "      <td>Zitec</td>\n",
       "      <td>['sql', 'nosql', 'gcp', 'azure', 'aws', 'bigqu...</td>\n",
       "      <td>{'cloud': ['gcp', 'azure', 'aws', 'bigquery', ...</td>\n",
       "    </tr>\n",
       "    <tr>\n",
       "      <th>8</th>\n",
       "      <td>Business Analyst</td>\n",
       "      <td>Technology &amp; Operations Business Analyst</td>\n",
       "      <td>Copenhagen, Denmark</td>\n",
       "      <td>via Trabajo.org</td>\n",
       "      <td>Full-time</td>\n",
       "      <td>False</td>\n",
       "      <td>Denmark</td>\n",
       "      <td>2023-06-05 13:44:34</td>\n",
       "      <td>False</td>\n",
       "      <td>False</td>\n",
       "      <td>Denmark</td>\n",
       "      <td>0</td>\n",
       "      <td>0.0</td>\n",
       "      <td>0.0</td>\n",
       "      <td>Hempel</td>\n",
       "      <td>['excel', 'powerpoint', 'power bi']</td>\n",
       "      <td>{'analyst_tools': ['excel', 'powerpoint', 'pow...</td>\n",
       "    </tr>\n",
       "    <tr>\n",
       "      <th>9</th>\n",
       "      <td>Data Scientist</td>\n",
       "      <td>Data Scientist II</td>\n",
       "      <td>Anywhere</td>\n",
       "      <td>via ZipRecruiter</td>\n",
       "      <td>Full-time</td>\n",
       "      <td>True</td>\n",
       "      <td>New York, United States</td>\n",
       "      <td>2023-04-23 13:02:57</td>\n",
       "      <td>False</td>\n",
       "      <td>False</td>\n",
       "      <td>United States</td>\n",
       "      <td>0</td>\n",
       "      <td>0.0</td>\n",
       "      <td>0.0</td>\n",
       "      <td>Radwell International, LLC</td>\n",
       "      <td>['sql', 'python', 'r', 'mongodb', 'mongodb', '...</td>\n",
       "      <td>{'analyst_tools': ['excel'], 'cloud': ['azure'...</td>\n",
       "    </tr>\n",
       "  </tbody>\n",
       "</table>\n",
       "</div>"
      ],
      "text/plain": [
       "        job_title_short                                          job_title  \\\n",
       "0  Senior Data Engineer  Senior Clinical Data Engineer / Principal Clin...   \n",
       "1          Data Analyst                                       Data Analyst   \n",
       "2         Data Engineer  Data Engineer/Scientist/Analyst, Mid or Senior...   \n",
       "3         Data Engineer  LEAD ENGINEER - PRINCIPAL ANALYST - PRINCIPAL ...   \n",
       "4         Data Engineer                             Data Engineer- Sr Jobs   \n",
       "5         Data Engineer                                  GCP Data Engineer   \n",
       "6  Senior Data Engineer                  Senior Data Engineer  - GCP Cloud   \n",
       "7         Data Engineer                                      Data Engineer   \n",
       "8      Business Analyst           Technology & Operations Business Analyst   \n",
       "9        Data Scientist                                  Data Scientist II   \n",
       "\n",
       "                   job_location             job_via         job_schedule_type  \\\n",
       "0                 Watertown, CT     via Work Nearby                 Full-time   \n",
       "1  Guadalajara, Jalisco, Mexico    via BeBee México                 Full-time   \n",
       "2               Berlin, Germany        via LinkedIn                 Full-time   \n",
       "3               San Antonio, TX   via Diversity.com                 Full-time   \n",
       "4                Washington, DC  via Clearance Jobs                 Full-time   \n",
       "5                      Anywhere    via ZipRecruiter  Contractor and Temp work   \n",
       "6                  Dearborn, MI        via LinkedIn                 Full-time   \n",
       "7                      Anywhere        via LinkedIn                 Full-time   \n",
       "8           Copenhagen, Denmark     via Trabajo.org                 Full-time   \n",
       "9                      Anywhere    via ZipRecruiter                 Full-time   \n",
       "\n",
       "   job_work_from_home          search_location     job_posted_date  \\\n",
       "0               False     Texas, United States 2023-06-16 13:44:15   \n",
       "1               False                   Mexico 2023-01-14 13:18:07   \n",
       "2               False                  Germany 2023-10-10 13:14:55   \n",
       "3               False     Texas, United States 2023-07-04 13:01:41   \n",
       "4               False                    Sudan 2023-08-07 14:29:36   \n",
       "5                True                  Georgia 2023-11-07 14:01:59   \n",
       "6               False   Florida, United States 2023-03-27 13:18:18   \n",
       "7                True                  Romania 2023-12-07 13:40:49   \n",
       "8               False                  Denmark 2023-06-05 13:44:34   \n",
       "9                True  New York, United States 2023-04-23 13:02:57   \n",
       "\n",
       "   job_no_degree_mention  job_health_insurance    job_country salary_rate  \\\n",
       "0                  False                 False  United States           0   \n",
       "1                  False                 False         Mexico           0   \n",
       "2                  False                 False        Germany           0   \n",
       "3                   True                 False  United States           0   \n",
       "4                  False                 False          Sudan           0   \n",
       "5                  False                 False  United States           0   \n",
       "6                  False                 False  United States           0   \n",
       "7                  False                 False        Romania           0   \n",
       "8                  False                 False        Denmark           0   \n",
       "9                  False                 False  United States           0   \n",
       "\n",
       "   salary_year_avg  salary_hour_avg                   company_name  \\\n",
       "0              0.0              0.0           Boehringer Ingelheim   \n",
       "1              0.0              0.0     Hewlett Packard Enterprise   \n",
       "2              0.0              0.0       ALPHA Augmented Services   \n",
       "3              0.0              0.0   Southwest Research Institute   \n",
       "4              0.0              0.0                Kristina Daniel   \n",
       "5              0.0              0.0                smart folks inc   \n",
       "6              0.0              0.0  Miracle Software Systems, Inc   \n",
       "7              0.0              0.0                          Zitec   \n",
       "8              0.0              0.0                         Hempel   \n",
       "9              0.0              0.0     Radwell International, LLC   \n",
       "\n",
       "                                          job_skills  \\\n",
       "0                                                  0   \n",
       "1  ['r', 'python', 'sql', 'nosql', 'power bi', 't...   \n",
       "2  ['python', 'sql', 'c#', 'azure', 'airflow', 'd...   \n",
       "3  ['python', 'c++', 'java', 'matlab', 'aws', 'te...   \n",
       "4  ['bash', 'python', 'oracle', 'aws', 'ansible',...   \n",
       "5                           ['python', 'sql', 'gcp']   \n",
       "6  ['sql', 'python', 'java', 'sql server', 'gcp',...   \n",
       "7  ['sql', 'nosql', 'gcp', 'azure', 'aws', 'bigqu...   \n",
       "8                ['excel', 'powerpoint', 'power bi']   \n",
       "9  ['sql', 'python', 'r', 'mongodb', 'mongodb', '...   \n",
       "\n",
       "                                     job_type_skills  \n",
       "0                                                  0  \n",
       "1  {'analyst_tools': ['power bi', 'tableau'], 'pr...  \n",
       "2  {'analyst_tools': ['dax'], 'cloud': ['azure'],...  \n",
       "3  {'cloud': ['aws'], 'libraries': ['tensorflow',...  \n",
       "4  {'cloud': ['oracle', 'aws'], 'other': ['ansibl...  \n",
       "5  {'cloud': ['gcp'], 'programming': ['python', '...  \n",
       "6  {'cloud': ['gcp', 'bigquery'], 'databases': ['...  \n",
       "7  {'cloud': ['gcp', 'azure', 'aws', 'bigquery', ...  \n",
       "8  {'analyst_tools': ['excel', 'powerpoint', 'pow...  \n",
       "9  {'analyst_tools': ['excel'], 'cloud': ['azure'...  "
      ]
     },
     "execution_count": 20,
     "metadata": {},
     "output_type": "execute_result"
    }
   ],
   "source": [
    "df_unique.head(10)"
   ]
  },
  {
   "cell_type": "markdown",
   "metadata": {
    "id": "zIVzv_EMRjzQ"
   },
   "source": [
    "For our example we don't really need to remove any duplicates right now, but it's important to understand the concept.\n"
   ]
  },
  {
   "cell_type": "markdown",
   "metadata": {
    "id": "OPJNnR8dxNyq"
   },
   "source": [
    "Pandas Data Management\n"
   ]
  },
  {
   "cell_type": "code",
   "execution_count": 21,
   "metadata": {
    "executionInfo": {
     "elapsed": 640,
     "status": "ok",
     "timestamp": 1758083159504,
     "user": {
      "displayName": "Wende Zhou",
      "userId": "15441026311543276223"
     },
     "user_tz": -480
    },
    "id": "nadMcgmyxQTN"
   },
   "outputs": [],
   "source": [
    "# DataFrame Copy\n",
    "df_original = df.copy()"
   ]
  },
  {
   "cell_type": "markdown",
   "metadata": {
    "id": "tMPYaBVP0Kg6"
   },
   "source": [
    "Copy\n"
   ]
  },
  {
   "cell_type": "markdown",
   "metadata": {
    "id": "rPp_hZtd0Jfh"
   },
   "source": [
    "Recall from the last lesson, when we filled in missing values for median salary.\n",
    "\n",
    "Here let's make a new dataframe `df_altered` and only make changes to it.\n"
   ]
  },
  {
   "cell_type": "code",
   "execution_count": 22,
   "metadata": {
    "colab": {
     "base_uri": "https://localhost:8080/",
     "height": 272
    },
    "executionInfo": {
     "elapsed": 53,
     "status": "ok",
     "timestamp": 1758083159505,
     "user": {
      "displayName": "Wende Zhou",
      "userId": "15441026311543276223"
     },
     "user_tz": -480
    },
    "id": "fVo7DR1hxd6T",
    "outputId": "efccfca9-72ad-4881-887b-7fe1de246ae9"
   },
   "outputs": [
    {
     "data": {
      "application/vnd.microsoft.datawrangler.viewer.v0+json": {
       "columns": [
        {
         "name": "index",
         "rawType": "int64",
         "type": "integer"
        },
        {
         "name": "salary_year_avg",
         "rawType": "float64",
         "type": "float"
        }
       ],
       "ref": "cb1dd25e-70e4-473d-b56e-be755939ea53",
       "rows": [
        [
         "0",
         null
        ],
        [
         "1",
         null
        ],
        [
         "2",
         null
        ],
        [
         "3",
         null
        ],
        [
         "4",
         null
        ],
        [
         "5",
         null
        ]
       ],
       "shape": {
        "columns": 1,
        "rows": 6
       }
      },
      "text/plain": [
       "0   NaN\n",
       "1   NaN\n",
       "2   NaN\n",
       "3   NaN\n",
       "4   NaN\n",
       "5   NaN\n",
       "Name: salary_year_avg, dtype: float64"
      ]
     },
     "execution_count": 22,
     "metadata": {},
     "output_type": "execute_result"
    }
   ],
   "source": [
    "# Create new dataframe\n",
    "df_altered = df_original\n",
    "\n",
    "df_altered.loc[:5, 'salary_year_avg']"
   ]
  },
  {
   "cell_type": "code",
   "execution_count": 23,
   "metadata": {
    "executionInfo": {
     "elapsed": 2,
     "status": "ok",
     "timestamp": 1758083159505,
     "user": {
      "displayName": "Wende Zhou",
      "userId": "15441026311543276223"
     },
     "user_tz": -480
    },
    "id": "fxrddpLZ0V9n"
   },
   "outputs": [],
   "source": [
    "# Calculating the median salary\n",
    "median_salary = df_altered.salary_year_avg.median()\n",
    "\n",
    "# Filling the missing values with the median salary\n",
    "df_altered.salary_year_avg = df_altered.loc[:, 'salary_year_avg'].fillna(median_salary)"
   ]
  },
  {
   "cell_type": "markdown",
   "metadata": {
    "id": "SnFFqQRy1Ya3"
   },
   "source": [
    "Now let's inspect the altered DataFrame.\n"
   ]
  },
  {
   "cell_type": "code",
   "execution_count": 24,
   "metadata": {
    "colab": {
     "base_uri": "https://localhost:8080/",
     "height": 272
    },
    "executionInfo": {
     "elapsed": 50,
     "status": "ok",
     "timestamp": 1758083159554,
     "user": {
      "displayName": "Wende Zhou",
      "userId": "15441026311543276223"
     },
     "user_tz": -480
    },
    "id": "oTD2vL6H1HL0",
    "outputId": "e275caf4-7071-4571-c7a0-c2e7014636f4"
   },
   "outputs": [
    {
     "data": {
      "application/vnd.microsoft.datawrangler.viewer.v0+json": {
       "columns": [
        {
         "name": "index",
         "rawType": "int64",
         "type": "integer"
        },
        {
         "name": "salary_year_avg",
         "rawType": "float64",
         "type": "float"
        }
       ],
       "ref": "694f8b59-cc68-4b6c-a5fb-208a9fde929f",
       "rows": [
        [
         "0",
         "115000.0"
        ],
        [
         "1",
         "115000.0"
        ],
        [
         "2",
         "115000.0"
        ],
        [
         "3",
         "115000.0"
        ],
        [
         "4",
         "115000.0"
        ],
        [
         "5",
         "115000.0"
        ]
       ],
       "shape": {
        "columns": 1,
        "rows": 6
       }
      },
      "text/plain": [
       "0    115000.0\n",
       "1    115000.0\n",
       "2    115000.0\n",
       "3    115000.0\n",
       "4    115000.0\n",
       "5    115000.0\n",
       "Name: salary_year_avg, dtype: float64"
      ]
     },
     "execution_count": 24,
     "metadata": {},
     "output_type": "execute_result"
    }
   ],
   "source": [
    "df_altered.loc[:5, 'salary_year_avg']"
   ]
  },
  {
   "cell_type": "markdown",
   "metadata": {
    "id": "yfeVeXV91xd0"
   },
   "source": [
    "That was good...\n",
    "\n",
    "But what about the original...\n"
   ]
  },
  {
   "cell_type": "code",
   "execution_count": 25,
   "metadata": {
    "colab": {
     "base_uri": "https://localhost:8080/",
     "height": 272
    },
    "executionInfo": {
     "elapsed": 49,
     "status": "ok",
     "timestamp": 1758083159555,
     "user": {
      "displayName": "Wende Zhou",
      "userId": "15441026311543276223"
     },
     "user_tz": -480
    },
    "id": "vNKxVag31Wam",
    "outputId": "7f66c75c-c480-45c6-8f6f-8264cbf923f5"
   },
   "outputs": [
    {
     "data": {
      "application/vnd.microsoft.datawrangler.viewer.v0+json": {
       "columns": [
        {
         "name": "index",
         "rawType": "int64",
         "type": "integer"
        },
        {
         "name": "salary_year_avg",
         "rawType": "float64",
         "type": "float"
        }
       ],
       "ref": "09746700-0752-4316-94f9-5ef11b9d69a1",
       "rows": [
        [
         "0",
         "115000.0"
        ],
        [
         "1",
         "115000.0"
        ],
        [
         "2",
         "115000.0"
        ],
        [
         "3",
         "115000.0"
        ],
        [
         "4",
         "115000.0"
        ],
        [
         "5",
         "115000.0"
        ]
       ],
       "shape": {
        "columns": 1,
        "rows": 6
       }
      },
      "text/plain": [
       "0    115000.0\n",
       "1    115000.0\n",
       "2    115000.0\n",
       "3    115000.0\n",
       "4    115000.0\n",
       "5    115000.0\n",
       "Name: salary_year_avg, dtype: float64"
      ]
     },
     "execution_count": 25,
     "metadata": {},
     "output_type": "execute_result"
    }
   ],
   "source": [
    "df_original.loc[:5,'salary_year_avg']"
   ]
  },
  {
   "cell_type": "markdown",
   "metadata": {
    "id": "TFR1ntC5148d"
   },
   "source": [
    "Holdup!! How the heck did `df_original` get altered!?!\n",
    "\n",
    "Well both the variables of `df_original` and `df_altered` are referencing the same DataFrame.\n"
   ]
  },
  {
   "cell_type": "code",
   "execution_count": 26,
   "metadata": {
    "colab": {
     "base_uri": "https://localhost:8080/"
    },
    "executionInfo": {
     "elapsed": 6,
     "status": "ok",
     "timestamp": 1758083159555,
     "user": {
      "displayName": "Wende Zhou",
      "userId": "15441026311543276223"
     },
     "user_tz": -480
    },
    "id": "8wanGqWu17Wx",
    "outputId": "84190e35-469a-410d-ce05-5314923a8979"
   },
   "outputs": [
    {
     "name": "stdout",
     "output_type": "stream",
     "text": [
      "ID of df_original:                6114796704\n",
      "ID of df_altered:                 6114796704\n",
      "Are the two dataframes the same?  True\n"
     ]
    }
   ],
   "source": [
    "print('ID of df_original:               ', id(df_original))\n",
    "print('ID of df_altered:                ', id(df_altered))\n",
    "print('Are the two dataframes the same? ', id(df_original) == id(df_altered))"
   ]
  },
  {
   "cell_type": "markdown",
   "metadata": {
    "id": "dwjlGGJQ2mxM"
   },
   "source": [
    "Instead we can use the .copy() method\n",
    "\n",
    "- `copy()`: Copy a DataFrame.\n"
   ]
  },
  {
   "cell_type": "code",
   "execution_count": 27,
   "metadata": {
    "colab": {
     "base_uri": "https://localhost:8080/"
    },
    "executionInfo": {
     "elapsed": 973,
     "status": "ok",
     "timestamp": 1758083160526,
     "user": {
      "displayName": "Wende Zhou",
      "userId": "15441026311543276223"
     },
     "user_tz": -480
    },
    "id": "THxuDA5k2fyS",
    "outputId": "698e9e7b-f664-491a-e85a-eea870b32b97"
   },
   "outputs": [
    {
     "name": "stdout",
     "output_type": "stream",
     "text": [
      "ID of df_original:                6114798720\n",
      "ID of df_altered:                 6114798272\n",
      "Are the two dataframes the same?  False\n"
     ]
    }
   ],
   "source": [
    "df_original = df.copy()\n",
    "df_altered = df_original.copy()\n",
    "\n",
    "print('ID of df_original:               ', id(df_original))\n",
    "print('ID of df_altered:                ', id(df_altered))\n",
    "print('Are the two dataframes the same? ', id(df_original) == id(df_altered))"
   ]
  },
  {
   "cell_type": "markdown",
   "metadata": {
    "id": "Mv5ECPfW3shE"
   },
   "source": [
    "Now when we do this same operation:\n"
   ]
  },
  {
   "cell_type": "code",
   "execution_count": 28,
   "metadata": {
    "colab": {
     "base_uri": "https://localhost:8080/",
     "height": 272
    },
    "executionInfo": {
     "elapsed": 19,
     "status": "ok",
     "timestamp": 1758083160546,
     "user": {
      "displayName": "Wende Zhou",
      "userId": "15441026311543276223"
     },
     "user_tz": -480
    },
    "id": "GbWJOlvh3MYv",
    "outputId": "7a24579a-10fa-4230-a089-db68d2625b7b"
   },
   "outputs": [
    {
     "data": {
      "application/vnd.microsoft.datawrangler.viewer.v0+json": {
       "columns": [
        {
         "name": "index",
         "rawType": "int64",
         "type": "integer"
        },
        {
         "name": "salary_year_avg",
         "rawType": "float64",
         "type": "float"
        }
       ],
       "ref": "bbc850d5-24bd-4e05-92e9-b7ce9e896394",
       "rows": [
        [
         "0",
         "115000.0"
        ],
        [
         "1",
         "115000.0"
        ],
        [
         "2",
         "115000.0"
        ],
        [
         "3",
         "115000.0"
        ],
        [
         "4",
         "115000.0"
        ],
        [
         "5",
         "115000.0"
        ]
       ],
       "shape": {
        "columns": 1,
        "rows": 6
       }
      },
      "text/plain": [
       "0    115000.0\n",
       "1    115000.0\n",
       "2    115000.0\n",
       "3    115000.0\n",
       "4    115000.0\n",
       "5    115000.0\n",
       "Name: salary_year_avg, dtype: float64"
      ]
     },
     "execution_count": 28,
     "metadata": {},
     "output_type": "execute_result"
    }
   ],
   "source": [
    "# Calculating the median salary\n",
    "median_salary = df_altered['salary_year_avg'].median()\n",
    "\n",
    "# Filling the missing values with the median salary\n",
    "df_altered['salary_year_avg'] = df_altered['salary_year_avg'].fillna(median_salary)\n",
    "\n",
    "df_altered.loc[:5,'salary_year_avg']"
   ]
  },
  {
   "cell_type": "markdown",
   "metadata": {
    "id": "OJ9MMXbj34IL"
   },
   "source": [
    "The original dataframe doesn't get altered!\n"
   ]
  },
  {
   "cell_type": "code",
   "execution_count": 29,
   "metadata": {
    "colab": {
     "base_uri": "https://localhost:8080/",
     "height": 272
    },
    "executionInfo": {
     "elapsed": 25,
     "status": "ok",
     "timestamp": 1758083160577,
     "user": {
      "displayName": "Wende Zhou",
      "userId": "15441026311543276223"
     },
     "user_tz": -480
    },
    "id": "6JugGfC83us6",
    "outputId": "9eb5b675-58a5-4f29-d216-b08be73f1a29"
   },
   "outputs": [
    {
     "data": {
      "application/vnd.microsoft.datawrangler.viewer.v0+json": {
       "columns": [
        {
         "name": "index",
         "rawType": "int64",
         "type": "integer"
        },
        {
         "name": "salary_year_avg",
         "rawType": "float64",
         "type": "float"
        }
       ],
       "ref": "ef288ce5-09e1-4602-a43b-260902c5fbdf",
       "rows": [
        [
         "0",
         null
        ],
        [
         "1",
         null
        ],
        [
         "2",
         null
        ],
        [
         "3",
         null
        ],
        [
         "4",
         null
        ],
        [
         "5",
         null
        ]
       ],
       "shape": {
        "columns": 1,
        "rows": 6
       }
      },
      "text/plain": [
       "0   NaN\n",
       "1   NaN\n",
       "2   NaN\n",
       "3   NaN\n",
       "4   NaN\n",
       "5   NaN\n",
       "Name: salary_year_avg, dtype: float64"
      ]
     },
     "execution_count": 29,
     "metadata": {},
     "output_type": "execute_result"
    }
   ],
   "source": [
    "df_original.loc[:5,'salary_year_avg']"
   ]
  },
  {
   "cell_type": "markdown",
   "metadata": {
    "id": "DVxJBg8S37ld"
   },
   "source": [
    "Now that we've created a copy of our data, we want to start our analysis. But if we have a large set of data we only want to take a subset of data to make it more manageable. We can use `sample()` to get a random sample of the data.\n"
   ]
  },
  {
   "cell_type": "markdown",
   "metadata": {
    "id": "bezBtSLE39UJ"
   },
   "source": [
    "Sample\n",
    "\n",
    "Notes\n",
    "\n",
    "- `sample()`: Random sample of items.\n",
    "\n",
    "Examples\n",
    "\n",
    "Let's get a random sample of the data. You could get a sample with a fixed row number.\n"
   ]
  },
  {
   "cell_type": "code",
   "execution_count": 30,
   "metadata": {
    "colab": {
     "base_uri": "https://localhost:8080/",
     "height": 469
    },
    "executionInfo": {
     "elapsed": 91,
     "status": "ok",
     "timestamp": 1758083160669,
     "user": {
      "displayName": "Wende Zhou",
      "userId": "15441026311543276223"
     },
     "user_tz": -480
    },
    "id": "lOaROsry35Wf",
    "outputId": "7ba9c05c-fd6e-44a4-9b55-98fff68ac9bb"
   },
   "outputs": [
    {
     "data": {
      "application/vnd.microsoft.datawrangler.viewer.v0+json": {
       "columns": [
        {
         "name": "index",
         "rawType": "int64",
         "type": "integer"
        },
        {
         "name": "job_title_short",
         "rawType": "object",
         "type": "string"
        },
        {
         "name": "job_title",
         "rawType": "object",
         "type": "string"
        },
        {
         "name": "job_location",
         "rawType": "object",
         "type": "string"
        },
        {
         "name": "job_via",
         "rawType": "object",
         "type": "string"
        },
        {
         "name": "job_schedule_type",
         "rawType": "object",
         "type": "string"
        },
        {
         "name": "job_work_from_home",
         "rawType": "bool",
         "type": "boolean"
        },
        {
         "name": "search_location",
         "rawType": "object",
         "type": "string"
        },
        {
         "name": "job_posted_date",
         "rawType": "datetime64[ns]",
         "type": "datetime"
        },
        {
         "name": "job_no_degree_mention",
         "rawType": "bool",
         "type": "boolean"
        },
        {
         "name": "job_health_insurance",
         "rawType": "bool",
         "type": "boolean"
        },
        {
         "name": "job_country",
         "rawType": "object",
         "type": "string"
        },
        {
         "name": "salary_rate",
         "rawType": "object",
         "type": "unknown"
        },
        {
         "name": "salary_year_avg",
         "rawType": "float64",
         "type": "float"
        },
        {
         "name": "salary_hour_avg",
         "rawType": "float64",
         "type": "float"
        },
        {
         "name": "company_name",
         "rawType": "object",
         "type": "string"
        },
        {
         "name": "job_skills",
         "rawType": "object",
         "type": "string"
        },
        {
         "name": "job_type_skills",
         "rawType": "object",
         "type": "string"
        }
       ],
       "ref": "a8919e2c-252f-48d4-b5ff-939889c30ea1",
       "rows": [
        [
         "271509",
         "Data Engineer",
         "Data Engineer (m/w/d)",
         "Stuttgart, Germany",
         "via XING",
         "Full-time",
         "False",
         "Germany",
         "2023-02-20 07:17:14",
         "True",
         "False",
         "Germany",
         null,
         null,
         null,
         "Akkodis",
         "['python', 'c', 'sql', 'aws', 'azure']",
         "{'cloud': ['aws', 'azure'], 'programming': ['python', 'c', 'sql']}"
        ],
        [
         "672176",
         "Data Analyst",
         "Data Analyst",
         "Vienna, Austria",
         "via BeBee",
         "Full-time",
         "False",
         "Austria",
         "2023-05-31 11:01:50",
         "False",
         "False",
         "Austria",
         null,
         null,
         null,
         "Barmherzige Brueder",
         "['sql', 'excel']",
         "{'analyst_tools': ['excel'], 'programming': ['sql']}"
        ],
        [
         "126911",
         "Data Scientist",
         "Data Scientist - Brand",
         "Canada",
         "via AngelList",
         "Full-time",
         "False",
         "Canada",
         "2023-03-01 08:27:55",
         "False",
         "False",
         "Canada",
         null,
         null,
         null,
         "Faire",
         "['python', 'sql']",
         "{'programming': ['python', 'sql']}"
        ],
        [
         "132923",
         "Data Analyst",
         "Data Analyst - Full-time / Part-time",
         "Jacksonville, FL",
         "via Snagajob",
         "Full-time",
         "False",
         "Florida, United States",
         "2023-02-08 08:02:13",
         "False",
         "False",
         "United States",
         null,
         null,
         null,
         "Robert Half",
         "['spreadsheet']",
         "{'analyst_tools': ['spreadsheet']}"
        ],
        [
         "730532",
         "Data Scientist",
         "Data Scientist h/f",
         "Nantes, France",
         "via Emplois Trabajo.org",
         "Full-time",
         "False",
         "France",
         "2023-01-19 21:56:43",
         "False",
         "False",
         "France",
         null,
         null,
         null,
         "AVISIA",
         "['sas', 'sas', 'python', 'hadoop', 'spark']",
         "{'analyst_tools': ['sas'], 'libraries': ['hadoop', 'spark'], 'programming': ['sas', 'python']}"
        ]
       ],
       "shape": {
        "columns": 17,
        "rows": 5
       }
      },
      "text/html": [
       "<div>\n",
       "<style scoped>\n",
       "    .dataframe tbody tr th:only-of-type {\n",
       "        vertical-align: middle;\n",
       "    }\n",
       "\n",
       "    .dataframe tbody tr th {\n",
       "        vertical-align: top;\n",
       "    }\n",
       "\n",
       "    .dataframe thead th {\n",
       "        text-align: right;\n",
       "    }\n",
       "</style>\n",
       "<table border=\"1\" class=\"dataframe\">\n",
       "  <thead>\n",
       "    <tr style=\"text-align: right;\">\n",
       "      <th></th>\n",
       "      <th>job_title_short</th>\n",
       "      <th>job_title</th>\n",
       "      <th>job_location</th>\n",
       "      <th>job_via</th>\n",
       "      <th>job_schedule_type</th>\n",
       "      <th>job_work_from_home</th>\n",
       "      <th>search_location</th>\n",
       "      <th>job_posted_date</th>\n",
       "      <th>job_no_degree_mention</th>\n",
       "      <th>job_health_insurance</th>\n",
       "      <th>job_country</th>\n",
       "      <th>salary_rate</th>\n",
       "      <th>salary_year_avg</th>\n",
       "      <th>salary_hour_avg</th>\n",
       "      <th>company_name</th>\n",
       "      <th>job_skills</th>\n",
       "      <th>job_type_skills</th>\n",
       "    </tr>\n",
       "  </thead>\n",
       "  <tbody>\n",
       "    <tr>\n",
       "      <th>271509</th>\n",
       "      <td>Data Engineer</td>\n",
       "      <td>Data Engineer (m/w/d)</td>\n",
       "      <td>Stuttgart, Germany</td>\n",
       "      <td>via XING</td>\n",
       "      <td>Full-time</td>\n",
       "      <td>False</td>\n",
       "      <td>Germany</td>\n",
       "      <td>2023-02-20 07:17:14</td>\n",
       "      <td>True</td>\n",
       "      <td>False</td>\n",
       "      <td>Germany</td>\n",
       "      <td>None</td>\n",
       "      <td>NaN</td>\n",
       "      <td>NaN</td>\n",
       "      <td>Akkodis</td>\n",
       "      <td>['python', 'c', 'sql', 'aws', 'azure']</td>\n",
       "      <td>{'cloud': ['aws', 'azure'], 'programming': ['p...</td>\n",
       "    </tr>\n",
       "    <tr>\n",
       "      <th>672176</th>\n",
       "      <td>Data Analyst</td>\n",
       "      <td>Data Analyst</td>\n",
       "      <td>Vienna, Austria</td>\n",
       "      <td>via BeBee</td>\n",
       "      <td>Full-time</td>\n",
       "      <td>False</td>\n",
       "      <td>Austria</td>\n",
       "      <td>2023-05-31 11:01:50</td>\n",
       "      <td>False</td>\n",
       "      <td>False</td>\n",
       "      <td>Austria</td>\n",
       "      <td>None</td>\n",
       "      <td>NaN</td>\n",
       "      <td>NaN</td>\n",
       "      <td>Barmherzige Brueder</td>\n",
       "      <td>['sql', 'excel']</td>\n",
       "      <td>{'analyst_tools': ['excel'], 'programming': ['...</td>\n",
       "    </tr>\n",
       "    <tr>\n",
       "      <th>126911</th>\n",
       "      <td>Data Scientist</td>\n",
       "      <td>Data Scientist - Brand</td>\n",
       "      <td>Canada</td>\n",
       "      <td>via AngelList</td>\n",
       "      <td>Full-time</td>\n",
       "      <td>False</td>\n",
       "      <td>Canada</td>\n",
       "      <td>2023-03-01 08:27:55</td>\n",
       "      <td>False</td>\n",
       "      <td>False</td>\n",
       "      <td>Canada</td>\n",
       "      <td>None</td>\n",
       "      <td>NaN</td>\n",
       "      <td>NaN</td>\n",
       "      <td>Faire</td>\n",
       "      <td>['python', 'sql']</td>\n",
       "      <td>{'programming': ['python', 'sql']}</td>\n",
       "    </tr>\n",
       "    <tr>\n",
       "      <th>132923</th>\n",
       "      <td>Data Analyst</td>\n",
       "      <td>Data Analyst - Full-time / Part-time</td>\n",
       "      <td>Jacksonville, FL</td>\n",
       "      <td>via Snagajob</td>\n",
       "      <td>Full-time</td>\n",
       "      <td>False</td>\n",
       "      <td>Florida, United States</td>\n",
       "      <td>2023-02-08 08:02:13</td>\n",
       "      <td>False</td>\n",
       "      <td>False</td>\n",
       "      <td>United States</td>\n",
       "      <td>None</td>\n",
       "      <td>NaN</td>\n",
       "      <td>NaN</td>\n",
       "      <td>Robert Half</td>\n",
       "      <td>['spreadsheet']</td>\n",
       "      <td>{'analyst_tools': ['spreadsheet']}</td>\n",
       "    </tr>\n",
       "    <tr>\n",
       "      <th>730532</th>\n",
       "      <td>Data Scientist</td>\n",
       "      <td>Data Scientist h/f</td>\n",
       "      <td>Nantes, France</td>\n",
       "      <td>via Emplois Trabajo.org</td>\n",
       "      <td>Full-time</td>\n",
       "      <td>False</td>\n",
       "      <td>France</td>\n",
       "      <td>2023-01-19 21:56:43</td>\n",
       "      <td>False</td>\n",
       "      <td>False</td>\n",
       "      <td>France</td>\n",
       "      <td>None</td>\n",
       "      <td>NaN</td>\n",
       "      <td>NaN</td>\n",
       "      <td>AVISIA</td>\n",
       "      <td>['sas', 'sas', 'python', 'hadoop', 'spark']</td>\n",
       "      <td>{'analyst_tools': ['sas'], 'libraries': ['hado...</td>\n",
       "    </tr>\n",
       "  </tbody>\n",
       "</table>\n",
       "</div>"
      ],
      "text/plain": [
       "       job_title_short                             job_title  \\\n",
       "271509   Data Engineer                 Data Engineer (m/w/d)   \n",
       "672176    Data Analyst                          Data Analyst   \n",
       "126911  Data Scientist                Data Scientist - Brand   \n",
       "132923    Data Analyst  Data Analyst - Full-time / Part-time   \n",
       "730532  Data Scientist                    Data Scientist h/f   \n",
       "\n",
       "              job_location                  job_via job_schedule_type  \\\n",
       "271509  Stuttgart, Germany                 via XING         Full-time   \n",
       "672176     Vienna, Austria                via BeBee         Full-time   \n",
       "126911              Canada            via AngelList         Full-time   \n",
       "132923    Jacksonville, FL             via Snagajob         Full-time   \n",
       "730532      Nantes, France  via Emplois Trabajo.org         Full-time   \n",
       "\n",
       "        job_work_from_home         search_location     job_posted_date  \\\n",
       "271509               False                 Germany 2023-02-20 07:17:14   \n",
       "672176               False                 Austria 2023-05-31 11:01:50   \n",
       "126911               False                  Canada 2023-03-01 08:27:55   \n",
       "132923               False  Florida, United States 2023-02-08 08:02:13   \n",
       "730532               False                  France 2023-01-19 21:56:43   \n",
       "\n",
       "        job_no_degree_mention  job_health_insurance    job_country  \\\n",
       "271509                   True                 False        Germany   \n",
       "672176                  False                 False        Austria   \n",
       "126911                  False                 False         Canada   \n",
       "132923                  False                 False  United States   \n",
       "730532                  False                 False         France   \n",
       "\n",
       "       salary_rate  salary_year_avg  salary_hour_avg         company_name  \\\n",
       "271509        None              NaN              NaN              Akkodis   \n",
       "672176        None              NaN              NaN  Barmherzige Brueder   \n",
       "126911        None              NaN              NaN                Faire   \n",
       "132923        None              NaN              NaN          Robert Half   \n",
       "730532        None              NaN              NaN               AVISIA   \n",
       "\n",
       "                                         job_skills  \\\n",
       "271509       ['python', 'c', 'sql', 'aws', 'azure']   \n",
       "672176                             ['sql', 'excel']   \n",
       "126911                            ['python', 'sql']   \n",
       "132923                              ['spreadsheet']   \n",
       "730532  ['sas', 'sas', 'python', 'hadoop', 'spark']   \n",
       "\n",
       "                                          job_type_skills  \n",
       "271509  {'cloud': ['aws', 'azure'], 'programming': ['p...  \n",
       "672176  {'analyst_tools': ['excel'], 'programming': ['...  \n",
       "126911                 {'programming': ['python', 'sql']}  \n",
       "132923                 {'analyst_tools': ['spreadsheet']}  \n",
       "730532  {'analyst_tools': ['sas'], 'libraries': ['hado...  "
      ]
     },
     "execution_count": 30,
     "metadata": {},
     "output_type": "execute_result"
    }
   ],
   "source": [
    "df.sample(n = 5)"
   ]
  },
  {
   "cell_type": "markdown",
   "metadata": {
    "id": "99RichXM6taQ"
   },
   "source": [
    "Or you can randomly select a fraction of the data (e.g., 10% of the rows), with or without replacement.\n"
   ]
  },
  {
   "cell_type": "code",
   "execution_count": 31,
   "metadata": {
    "colab": {
     "base_uri": "https://localhost:8080/",
     "height": 912
    },
    "executionInfo": {
     "elapsed": 856,
     "status": "ok",
     "timestamp": 1758083161526,
     "user": {
      "displayName": "Wende Zhou",
      "userId": "15441026311543276223"
     },
     "user_tz": -480
    },
    "id": "-_c7-LRI4kTb",
    "outputId": "615d9aab-b96d-427f-a618-232a1562184f"
   },
   "outputs": [
    {
     "data": {
      "application/vnd.microsoft.datawrangler.viewer.v0+json": {
       "columns": [
        {
         "name": "index",
         "rawType": "int64",
         "type": "integer"
        },
        {
         "name": "job_title_short",
         "rawType": "object",
         "type": "string"
        },
        {
         "name": "job_title",
         "rawType": "object",
         "type": "string"
        },
        {
         "name": "job_location",
         "rawType": "object",
         "type": "unknown"
        },
        {
         "name": "job_via",
         "rawType": "object",
         "type": "string"
        },
        {
         "name": "job_schedule_type",
         "rawType": "object",
         "type": "unknown"
        },
        {
         "name": "job_work_from_home",
         "rawType": "bool",
         "type": "boolean"
        },
        {
         "name": "search_location",
         "rawType": "object",
         "type": "string"
        },
        {
         "name": "job_posted_date",
         "rawType": "datetime64[ns]",
         "type": "datetime"
        },
        {
         "name": "job_no_degree_mention",
         "rawType": "bool",
         "type": "boolean"
        },
        {
         "name": "job_health_insurance",
         "rawType": "bool",
         "type": "boolean"
        },
        {
         "name": "job_country",
         "rawType": "object",
         "type": "unknown"
        },
        {
         "name": "salary_rate",
         "rawType": "object",
         "type": "unknown"
        },
        {
         "name": "salary_year_avg",
         "rawType": "float64",
         "type": "float"
        },
        {
         "name": "salary_hour_avg",
         "rawType": "float64",
         "type": "float"
        },
        {
         "name": "company_name",
         "rawType": "object",
         "type": "unknown"
        },
        {
         "name": "job_skills",
         "rawType": "object",
         "type": "unknown"
        },
        {
         "name": "job_type_skills",
         "rawType": "object",
         "type": "unknown"
        }
       ],
       "ref": "5afee24c-492e-4fbd-b49c-1187165196c6",
       "rows": [
        [
         "664784",
         "Data Scientist",
         "Analytics Education and Implementation Specialist",
         "Tampa, FL",
         "via ZipRecruiter",
         "Full-time",
         "False",
         "Florida, United States",
         "2023-12-13 10:02:59",
         "False",
         "False",
         "United States",
         null,
         null,
         null,
         "Tampa General Hospital",
         "['qlik', 'power bi', 'tableau']",
         "{'analyst_tools': ['qlik', 'power bi', 'tableau']}"
        ],
        [
         "188803",
         "Data Engineer",
         "Big Data Engineer",
         "Toulouse, France",
         "via Emplois Trabajo.org",
         "Full-time",
         "False",
         "France",
         "2023-03-30 15:34:46",
         "False",
         "False",
         "France",
         null,
         null,
         null,
         "CELAD",
         "['java', 'scala', 'sql', 'redis', 'spark', 'kafka', 'docker', 'kubernetes', 'git']",
         "{'databases': ['redis'], 'libraries': ['spark', 'kafka'], 'other': ['docker', 'kubernetes', 'git'], 'programming': ['java', 'scala', 'sql']}"
        ],
        [
         "89599",
         "Data Analyst",
         "Data Analyst Consultant",
         "Porto, Portugal",
         "via EMPREGO",
         "Full-time",
         "False",
         "Portugal",
         "2023-03-24 00:29:04",
         "False",
         "False",
         "Portugal",
         null,
         null,
         null,
         "Hitachi Solutions",
         "['sql', 'c#', 'python', 'r']",
         "{'programming': ['sql', 'c#', 'python', 'r']}"
        ],
        [
         "128887",
         "Data Engineer",
         "Data Visualization Engineer",
         "Panama City, Panama",
         "via BeBee Panamá",
         "Full-time",
         "False",
         "Panama",
         "2023-09-28 08:48:23",
         "True",
         "False",
         "Panama",
         null,
         null,
         null,
         "The Estée Lauder Companies",
         "['python', 'sql', 'spark', 'hadoop', 'power bi', 'dax', 'tableau', 'alteryx']",
         "{'analyst_tools': ['power bi', 'dax', 'tableau', 'alteryx'], 'libraries': ['spark', 'hadoop'], 'programming': ['python', 'sql']}"
        ],
        [
         "340863",
         "Business Analyst",
         "Analyst",
         "Australia",
         "via Jobrapido.com",
         "Full-time",
         "False",
         "Australia",
         "2023-01-02 23:31:25",
         "False",
         "False",
         "Australia",
         null,
         null,
         null,
         "Iri",
         "['excel', 'word', 'powerpoint']",
         "{'analyst_tools': ['excel', 'word', 'powerpoint']}"
        ],
        [
         "630813",
         "Software Engineer",
         "Application Analyst",
         "United Kingdom",
         "via LinkedIn",
         "Full-time",
         "False",
         "United Kingdom",
         "2023-04-11 13:17:20",
         "True",
         "False",
         "United Kingdom",
         null,
         null,
         null,
         "Insight Global",
         "['sql', 'sql server', 'ssrs']",
         "{'analyst_tools': ['ssrs'], 'databases': ['sql server'], 'programming': ['sql']}"
        ],
        [
         "173871",
         "Data Engineer",
         "Data Engineer",
         "Horsham, PA",
         "via Indeed",
         "Full-time",
         "False",
         "Sudan",
         "2023-06-27 16:47:18",
         "True",
         "True",
         "Sudan",
         "year",
         "75000.0",
         null,
         "Kane Partners LLC",
         "['python', 'sql', 'azure']",
         "{'cloud': ['azure'], 'programming': ['python', 'sql']}"
        ],
        [
         "50388",
         "Software Engineer",
         "Salesforce Developer",
         "Abu Dhabi - United Arab Emirates",
         "via BeBee",
         "Full-time",
         "False",
         "United Arab Emirates",
         "2023-07-15 06:12:07",
         "True",
         "False",
         "United Arab Emirates",
         null,
         null,
         null,
         "World Star Manpower Supply Services",
         null,
         null
        ],
        [
         "435734",
         "Cloud Engineer",
         "IT Infrastructure Engineer",
         "Klosterneuburg, Austria",
         "via BeBee",
         "Full-time",
         "False",
         "Austria",
         "2023-07-12 16:24:42",
         "True",
         "False",
         "Austria",
         null,
         null,
         null,
         "LVA GmbH",
         "['windows', 'linux']",
         "{'os': ['windows', 'linux']}"
        ],
        [
         "504808",
         "Data Analyst",
         "Business Data Analyst",
         "Hong Kong",
         "via Indeed HK",
         "Full-time",
         "False",
         "Hong Kong",
         "2023-04-17 11:34:24",
         "False",
         "False",
         "Hong Kong",
         null,
         null,
         null,
         "Match Talent",
         "['sql', 'python', 'excel']",
         "{'analyst_tools': ['excel'], 'programming': ['sql', 'python']}"
        ],
        [
         "62835",
         "Senior Data Engineer",
         "Senior Data Engineer",
         "Anywhere",
         "via LinkedIn",
         "Part-time",
         "True",
         "India",
         "2023-07-14 06:13:42",
         "False",
         "False",
         "India",
         null,
         null,
         null,
         "Staffbee Solutions INC",
         "['sql', 'nosql', 'python', 'java', 'scala', 'aws', 'gcp', 'azure']",
         "{'cloud': ['aws', 'gcp', 'azure'], 'programming': ['sql', 'nosql', 'python', 'java', 'scala']}"
        ],
        [
         "518810",
         "Data Analyst",
         "Business Data Analyst - III",
         "Anywhere",
         "via LinkedIn",
         "Full-time",
         "True",
         "New York, United States",
         "2023-10-07 11:00:19",
         "False",
         "False",
         "United States",
         null,
         null,
         null,
         "Dice",
         "['sql', 'python', 'sheets', 'slack']",
         "{'analyst_tools': ['sheets'], 'programming': ['sql', 'python'], 'sync': ['slack']}"
        ],
        [
         "743880",
         "Senior Data Engineer",
         "Senior Data Engineer",
         "Vélizy-Villacoublay, France",
         "via BeBee",
         "Full-time",
         "False",
         "France",
         "2023-04-08 20:35:32",
         "False",
         "False",
         "France",
         null,
         null,
         null,
         "Dassault Systèmes",
         "['sql', 'snowflake']",
         "{'cloud': ['snowflake'], 'programming': ['sql']}"
        ],
        [
         "657057",
         "Data Engineer",
         "Lead Data Engineer - Hybrid",
         "Anywhere",
         "via LinkedIn",
         "Contractor",
         "True",
         "Sudan",
         "2023-09-30 10:40:19",
         "False",
         "False",
         "Sudan",
         null,
         null,
         null,
         "Dice",
         "['python', 'sql', 'aws', 'snowflake', 'spark', 'kafka']",
         "{'cloud': ['aws', 'snowflake'], 'libraries': ['spark', 'kafka'], 'programming': ['python', 'sql']}"
        ],
        [
         "422150",
         "Software Engineer",
         "Software Engineer Technical Lead, Video Search Frontend Infrastructure",
         "Belo Horizonte, State of Minas Gerais, Brazil",
         "via LinkedIn",
         "Full-time",
         "False",
         "Brazil",
         "2023-10-13 17:06:03",
         "False",
         "False",
         "Brazil",
         null,
         null,
         null,
         "Google",
         null,
         null
        ],
        [
         "279482",
         "Software Engineer",
         "System and Software Optimization Engineer",
         "San José Province, San José, Costa Rica",
         "via BeBee Costa Rica",
         "Full-time",
         "False",
         "Costa Rica",
         "2023-06-17 07:36:54",
         "False",
         "False",
         "Costa Rica",
         null,
         null,
         null,
         "Intel",
         "['bash', 'python', 'linux', 'arch']",
         "{'os': ['linux', 'arch'], 'programming': ['bash', 'python']}"
        ],
        [
         "570344",
         "Data Engineer",
         "Data Engineer - REMOTE",
         "Anywhere",
         "via ZipRecruiter",
         "Full-time",
         "True",
         "Sudan",
         "2023-10-12 10:16:19",
         "False",
         "False",
         "Sudan",
         null,
         null,
         null,
         "Flexion",
         "['sql', 'ruby', 'ruby', 'python', 'aws', 'redshift']",
         "{'cloud': ['aws', 'redshift'], 'programming': ['sql', 'ruby', 'python'], 'webframeworks': ['ruby']}"
        ],
        [
         "673228",
         "Business Analyst",
         "Analyst II Production",
         "Midland, TX",
         "via LinkedIn",
         "Full-time",
         "False",
         "Sudan",
         "2023-12-08 10:47:22",
         "False",
         "False",
         "Sudan",
         null,
         null,
         null,
         "Diamondback Energy",
         "['excel', 'sap']",
         "{'analyst_tools': ['excel', 'sap']}"
        ],
        [
         "592648",
         "Business Analyst",
         "Business Analyst - up to 32K",
         "Central, Hong Kong  (+1 other)",
         "via Robert Half Hong Kong",
         "Full-time",
         "False",
         "Hong Kong",
         "2023-11-29 09:22:03",
         "False",
         "False",
         "Hong Kong",
         null,
         null,
         null,
         "Robert Half",
         "['express', 'word']",
         "{'analyst_tools': ['word'], 'webframeworks': ['express']}"
        ],
        [
         "171059",
         "Senior Data Engineer",
         "Senior Data Engineer",
         "Netanya, Israel",
         "via LinkedIn",
         "Full-time",
         "False",
         "Israel",
         "2023-03-10 15:58:35",
         "False",
         "False",
         "Israel",
         null,
         null,
         null,
         "Revuze",
         "['python', 'sql', 'aws', 'pyspark']",
         "{'cloud': ['aws'], 'libraries': ['pyspark'], 'programming': ['python', 'sql']}"
        ],
        [
         "582690",
         "Data Analyst",
         "Data Analyst Intern - Now Hiring",
         "Lake Worth, FL",
         "via Snagajob",
         "Full-time, Part-time, and Internship",
         "False",
         "Florida, United States",
         "2023-09-06 09:01:04",
         "False",
         "True",
         "United States",
         "hour",
         null,
         "19.579999923706055",
         "Experian",
         "['sql', 'python', 'sql server', 'mysql', 'aurora', 'spark', 'express', 'alteryx', 'excel']",
         "{'analyst_tools': ['alteryx', 'excel'], 'cloud': ['aurora'], 'databases': ['sql server', 'mysql'], 'libraries': ['spark'], 'programming': ['sql', 'python'], 'webframeworks': ['express']}"
        ],
        [
         "611667",
         "Data Analyst",
         "Data Analyst II",
         "Boston, MA",
         "via Trabajo.org",
         "Full-time",
         "False",
         "New York, United States",
         "2023-06-25 12:00:44",
         "False",
         "False",
         "United States",
         null,
         null,
         null,
         "State of Massachusetts",
         "['sql', 'windows', 'excel', 'power bi', 'tableau', 'jira']",
         "{'analyst_tools': ['excel', 'power bi', 'tableau'], 'async': ['jira'], 'os': ['windows'], 'programming': ['sql']}"
        ],
        [
         "664145",
         "Data Scientist",
         "Data Scientist",
         "Anywhere",
         "via LinkedIn",
         "Full-time",
         "True",
         "New York, United States",
         "2023-01-07 10:02:00",
         "False",
         "False",
         "United States",
         null,
         null,
         null,
         "Unilever",
         "['python', 'r', 'julia', 'sql', 'nosql', 'mongodb', 'mongodb', 'neo4j', 'azure', 'aws', 'gcp', 'django', 'word']",
         "{'analyst_tools': ['word'], 'cloud': ['azure', 'aws', 'gcp'], 'databases': ['mongodb', 'neo4j'], 'programming': ['python', 'r', 'julia', 'sql', 'nosql', 'mongodb'], 'webframeworks': ['django']}"
        ],
        [
         "701104",
         "Senior Data Scientist",
         "Sr Clinical Data Scientist",
         "Italy",
         "via Lavoro Trabajo.org",
         "Full-time",
         "False",
         "Italy",
         "2023-01-30 03:24:37",
         "False",
         "False",
         "Italy",
         null,
         null,
         null,
         "Syneos Health",
         "['python', 'r', 'sas', 'sas', 'windows', 'word', 'excel', 'powerpoint', 'flow']",
         "{'analyst_tools': ['sas', 'word', 'excel', 'powerpoint'], 'os': ['windows'], 'other': ['flow'], 'programming': ['python', 'r', 'sas']}"
        ],
        [
         "680339",
         "Data Engineer",
         "Data Engineer",
         "Netanya, Israel",
         "via Comeet",
         "Full-time",
         "False",
         "Israel",
         "2023-10-02 10:51:28",
         "False",
         "False",
         "Israel",
         null,
         null,
         null,
         "Passportcard",
         "['python', 'airflow']",
         "{'libraries': ['airflow'], 'programming': ['python']}"
        ],
        [
         "175405",
         "Data Engineer",
         "Staff Data Engineer, Security",
         "Delaware, OH",
         "via BeBee",
         "Full-time",
         "False",
         "New York, United States",
         "2023-12-17 15:05:28",
         "False",
         "True",
         "United States",
         null,
         null,
         null,
         "Intel",
         "['sql', 'postgresql', 'oracle', 'kafka', 'sap']",
         "{'analyst_tools': ['sap'], 'cloud': ['oracle'], 'databases': ['postgresql'], 'libraries': ['kafka'], 'programming': ['sql']}"
        ],
        [
         "312106",
         "Data Engineer",
         "Data Engineer with Snowflake",
         "Málaga, Spain",
         "via BeBee",
         "Full-time",
         "False",
         "Spain",
         "2023-01-22 17:19:50",
         "True",
         "False",
         "Spain",
         null,
         null,
         null,
         "Ernst & Young",
         "['sql', 'nosql', 'snowflake', 'aws', 'kafka']",
         "{'cloud': ['snowflake', 'aws'], 'libraries': ['kafka'], 'programming': ['sql', 'nosql']}"
        ],
        [
         "51541",
         "Data Analyst",
         "Data Architect Consultant",
         "Buenos Aires, Argentina",
         "via Trabajo.org - Vacantes De Empleo, Trabajo",
         "Full-time",
         "False",
         "Argentina",
         "2023-07-30 06:34:39",
         "True",
         "False",
         "Argentina",
         null,
         null,
         null,
         "Emprego",
         "['python', 'sql', 'java', 'aws', 'gcp', 'azure', 'hadoop', 'spark', 'pyspark', 'power bi', 'qlik', 'tableau']",
         "{'analyst_tools': ['power bi', 'qlik', 'tableau'], 'cloud': ['aws', 'gcp', 'azure'], 'libraries': ['hadoop', 'spark', 'pyspark'], 'programming': ['python', 'sql', 'java']}"
        ],
        [
         "371078",
         "Senior Data Scientist",
         "Senior Data Scientist",
         "Dubai - United Arab Emirates",
         "via Trabajo.org",
         "Full-time",
         "False",
         "United Arab Emirates",
         "2023-07-22 23:19:37",
         "False",
         "False",
         "United Arab Emirates",
         null,
         null,
         null,
         "Zynga",
         "['python', 'scala', 'aws', 'pyspark', 'tensorflow', 'pytorch']",
         "{'cloud': ['aws'], 'libraries': ['pyspark', 'tensorflow', 'pytorch'], 'programming': ['python', 'scala']}"
        ],
        [
         "779431",
         "Data Analyst",
         "Risk Data Analyst",
         "Kuala Lumpur, Federal Territory of Kuala Lumpur, Malaysia",
         "via BeBee Malaysia",
         "Full-time",
         "False",
         "Malaysia",
         "2023-12-26 05:23:16",
         "False",
         "False",
         "Malaysia",
         null,
         null,
         null,
         "TalentTag Recruitment and PEO Company",
         "['sql', 'sas', 'sas', 'python', 'r', 'spreadsheet']",
         "{'analyst_tools': ['sas', 'spreadsheet'], 'programming': ['sql', 'sas', 'python', 'r']}"
        ],
        [
         "48529",
         "Data Scientist",
         "Data Scientist, gt.school (Remote) - $60,000/year USD",
         "Anywhere",
         "via LinkedIn",
         "Full-time and Contractor",
         "True",
         "Illinois, United States",
         "2023-10-09 06:27:21",
         "False",
         "False",
         "United States",
         null,
         null,
         null,
         "Crossover",
         "['python', 'r', 'javascript']",
         "{'programming': ['python', 'r', 'javascript']}"
        ],
        [
         "560077",
         "Cloud Engineer",
         "Service Engineer",
         "Tunis, Tunisia",
         "via Emplois Trabajo.org",
         "Full-time",
         "False",
         "Tunisia",
         "2023-05-05 04:33:47",
         "False",
         "False",
         "Tunisia",
         null,
         null,
         null,
         "Kone Ag",
         null,
         null
        ],
        [
         "93104",
         "Data Analyst",
         "Escrow Data Analyst",
         "Ocala, FL",
         "via WayUp",
         "Full-time",
         "False",
         "Georgia",
         "2023-07-12 01:01:31",
         "True",
         "False",
         "United States",
         null,
         null,
         null,
         "Essex Mortgage",
         "['word', 'excel', 'powerpoint']",
         "{'analyst_tools': ['word', 'excel', 'powerpoint']}"
        ],
        [
         "303953",
         "Data Engineer",
         "Trainee Data Engineering",
         "Austria",
         "via BeBee",
         "Full-time",
         "False",
         "Austria",
         "2023-11-10 17:35:43",
         "False",
         "False",
         "Austria",
         null,
         null,
         null,
         "Accenture Gmbh",
         null,
         null
        ],
        [
         "579065",
         "Data Scientist",
         "Data Scientist",
         "Paris, France",
         "via LinkedIn",
         "Full-time",
         "False",
         "France",
         "2023-01-05 09:40:36",
         "False",
         "False",
         "France",
         null,
         null,
         null,
         "Harnham",
         "['python', 'sql']",
         "{'programming': ['python', 'sql']}"
        ],
        [
         "629580",
         "Business Analyst",
         "Training and Quality Analyst",
         "San José Province, Escazu, Costa Rica",
         "via BeBee Costa Rica",
         "Full-time",
         "False",
         "Costa Rica",
         "2023-02-02 12:53:54",
         "False",
         "False",
         "Costa Rica",
         null,
         null,
         null,
         "emerson",
         "['oracle', 'windows']",
         "{'cloud': ['oracle'], 'os': ['windows']}"
        ],
        [
         "405812",
         "Data Engineer",
         "Staff Data Engineer - Streaming",
         "Nashville, TN",
         "via Indeed",
         "Full-time",
         "False",
         "Texas, United States",
         "2023-06-19 16:09:30",
         "False",
         "True",
         "United States",
         null,
         null,
         null,
         "HCA Healthcare",
         "['react', 'kafka', 'terraform']",
         "{'libraries': ['react', 'kafka'], 'other': ['terraform']}"
        ],
        [
         "672006",
         "Data Engineer",
         "Data Engineer",
         "Amsterdam, Netherlands",
         "via BeBee Nederland",
         "Full-time",
         "False",
         "Netherlands",
         "2023-03-20 10:19:52",
         "True",
         "False",
         "Netherlands",
         null,
         null,
         null,
         "Synechron",
         "['sql', 'scala', 'python', 'pandas', 'spark', 'hadoop', 'kafka']",
         "{'libraries': ['pandas', 'spark', 'hadoop', 'kafka'], 'programming': ['sql', 'scala', 'python']}"
        ],
        [
         "114135",
         "Senior Data Engineer",
         "Senior Data Engineer",
         "Prague, Czechia",
         "via LinkedIn",
         "Full-time",
         "False",
         "Czechia",
         "2023-05-11 08:46:19",
         "True",
         "False",
         "Czechia",
         null,
         null,
         null,
         "Monstarlab Europe",
         "['python', 'rust', 'c#', 'r', 'java', 'sql', 'mongodb', 'mongodb', 'mysql', 'postgresql', 'cassandra', 'aws', 'gcp', 'azure', 'oracle', 'spark', 'hadoop', 'tensorflow', 'pytorch', 'scikit-learn', 'tableau', 'power bi', 'docker', 'kubernetes', 'ansible', 'terraform', 'git']",
         "{'analyst_tools': ['tableau', 'power bi'], 'cloud': ['aws', 'gcp', 'azure', 'oracle'], 'databases': ['mongodb', 'mysql', 'postgresql', 'cassandra'], 'libraries': ['spark', 'hadoop', 'tensorflow', 'pytorch', 'scikit-learn'], 'other': ['docker', 'kubernetes', 'ansible', 'terraform', 'git'], 'programming': ['python', 'rust', 'c#', 'r', 'java', 'sql', 'mongodb']}"
        ],
        [
         "110652",
         "Machine Learning Engineer",
         "NLP Research Engineer",
         "Singapore",
         "via Recruit.net",
         "Full-time",
         "False",
         "Singapore",
         "2023-05-02 00:25:56",
         "False",
         "False",
         "Singapore",
         null,
         null,
         null,
         "Hays Specialist Recruitment Pte. Ltd.",
         "['mongodb', 'mongodb', 'python', 'neo4j', 'oracle', 'tensorflow', 'pytorch']",
         "{'cloud': ['oracle'], 'databases': ['mongodb', 'neo4j'], 'libraries': ['tensorflow', 'pytorch'], 'programming': ['mongodb', 'python']}"
        ],
        [
         "50057",
         "Data Analyst",
         "Pharmacovigilance Data Analyst",
         "Princeton, NJ",
         "via Ai-Jobs.net",
         "Full-time",
         "False",
         "New York, United States",
         "2023-04-24 06:00:06",
         "False",
         "False",
         "United States",
         "year",
         "111175.0",
         null,
         "Kyowa Kirin",
         "['r', 'gcp', 'gdpr', 'word', 'excel', 'powerpoint']",
         "{'analyst_tools': ['word', 'excel', 'powerpoint'], 'cloud': ['gcp'], 'libraries': ['gdpr'], 'programming': ['r']}"
        ],
        [
         "6698",
         "Data Analyst",
         "Junior Data Analyst Apprenticeship",
         "Leeds, UK",
         "via WCIA Jobs",
         "Full-time",
         "False",
         "United Kingdom",
         "2023-06-17 13:27:23",
         "False",
         "False",
         "United Kingdom",
         null,
         null,
         null,
         "Baltic Training Services",
         "['excel']",
         "{'analyst_tools': ['excel']}"
        ],
        [
         "382005",
         "Data Analyst",
         "Data Analyst",
         "Edison, NJ",
         "via BeBee",
         "Contractor",
         "False",
         "New York, United States",
         "2023-12-14 18:00:09",
         "False",
         "False",
         "United States",
         null,
         null,
         null,
         "Ilamvets",
         "['sap']",
         "{'analyst_tools': ['sap']}"
        ],
        [
         "158194",
         "Business Analyst",
         "IT Business Analyst",
         "Vietnam",
         "via Trabajo.org",
         "Full-time",
         "False",
         "Vietnam",
         "2023-08-05 08:48:13",
         "False",
         "False",
         "Vietnam",
         null,
         null,
         null,
         "Modis",
         "['azure', 'excel']",
         "{'analyst_tools': ['excel'], 'cloud': ['azure']}"
        ],
        [
         "696471",
         "Data Scientist",
         "Data Scientist",
         "Bentonville, AR",
         "via WJHL Jobs",
         "Full-time",
         "False",
         "Illinois, United States",
         "2023-02-04 03:07:23",
         "False",
         "True",
         "United States",
         null,
         null,
         null,
         "Insite AI",
         "['python', 'sql', 'pandas', 'pytorch', 'tensorflow', 'jupyter', 'scikit-learn', 'numpy', 'spark', 'plotly', 'flask']",
         "{'libraries': ['pandas', 'pytorch', 'tensorflow', 'jupyter', 'scikit-learn', 'numpy', 'spark', 'plotly'], 'programming': ['python', 'sql'], 'webframeworks': ['flask']}"
        ],
        [
         "777625",
         "Data Engineer",
         "Database engineer/administrator",
         "Colombo, Sri Lanka",
         "via LinkedIn",
         "Full-time",
         "False",
         "Sri Lanka",
         "2023-12-18 05:13:44",
         "False",
         "False",
         "Sri Lanka",
         null,
         null,
         null,
         "LAUGFS Holdings Limited",
         "['sql', 'mysql', 'windows']",
         "{'databases': ['mysql'], 'os': ['windows'], 'programming': ['sql']}"
        ],
        [
         "639390",
         "Data Engineer",
         "Data Engineer Consultant - Risk and Regulatory Reporting",
         "Anywhere",
         "via Indeed",
         "Full-time",
         "True",
         "Belgium",
         "2023-10-17 12:33:16",
         "False",
         "False",
         "Belgium",
         null,
         null,
         null,
         "Finalyse",
         "['sql', 'sas', 'sas', 'python', 'visio']",
         "{'analyst_tools': ['sas', 'visio'], 'programming': ['sql', 'sas', 'python']}"
        ],
        [
         "490287",
         "Data Engineer",
         "Data Engineer - 15602",
         "Anywhere",
         "via LinkedIn",
         "Full-time",
         "True",
         "New York, United States",
         "2023-10-28 11:03:53",
         "False",
         "True",
         "United States",
         null,
         null,
         null,
         "Enlighten",
         "['python', 'java', 'nosql', 'elasticsearch', 'aws', 'kafka', 'excel', 'flow']",
         "{'analyst_tools': ['excel'], 'cloud': ['aws'], 'databases': ['elasticsearch'], 'libraries': ['kafka'], 'other': ['flow'], 'programming': ['python', 'java', 'nosql']}"
        ],
        [
         "452166",
         "Data Analyst",
         "Data-Analyst Produkte",
         "Dübendorf, Switzerland",
         "via BeBee Schweiz",
         "Full-time",
         "False",
         "Switzerland",
         "2023-07-30 14:49:36",
         "True",
         "False",
         "Switzerland",
         null,
         null,
         null,
         "Helsana AG",
         "['sql', 'r', 'microstrategy']",
         "{'analyst_tools': ['microstrategy'], 'programming': ['sql', 'r']}"
        ],
        [
         "645671",
         "Data Analyst",
         "Data Analyst (apprentice)",
         "Nantes, France",
         "via LinkedIn",
         "Full-time",
         "False",
         "France",
         "2023-07-17 13:04:42",
         "True",
         "False",
         "France",
         null,
         null,
         null,
         "Equativ",
         "['go', 'sql', 'snowflake', 'airflow', 'gitlab']",
         "{'cloud': ['snowflake'], 'libraries': ['airflow'], 'other': ['gitlab'], 'programming': ['go', 'sql']}"
        ]
       ],
       "shape": {
        "columns": 17,
        "rows": 78574
       }
      },
      "text/html": [
       "<div>\n",
       "<style scoped>\n",
       "    .dataframe tbody tr th:only-of-type {\n",
       "        vertical-align: middle;\n",
       "    }\n",
       "\n",
       "    .dataframe tbody tr th {\n",
       "        vertical-align: top;\n",
       "    }\n",
       "\n",
       "    .dataframe thead th {\n",
       "        text-align: right;\n",
       "    }\n",
       "</style>\n",
       "<table border=\"1\" class=\"dataframe\">\n",
       "  <thead>\n",
       "    <tr style=\"text-align: right;\">\n",
       "      <th></th>\n",
       "      <th>job_title_short</th>\n",
       "      <th>job_title</th>\n",
       "      <th>job_location</th>\n",
       "      <th>job_via</th>\n",
       "      <th>job_schedule_type</th>\n",
       "      <th>job_work_from_home</th>\n",
       "      <th>search_location</th>\n",
       "      <th>job_posted_date</th>\n",
       "      <th>job_no_degree_mention</th>\n",
       "      <th>job_health_insurance</th>\n",
       "      <th>job_country</th>\n",
       "      <th>salary_rate</th>\n",
       "      <th>salary_year_avg</th>\n",
       "      <th>salary_hour_avg</th>\n",
       "      <th>company_name</th>\n",
       "      <th>job_skills</th>\n",
       "      <th>job_type_skills</th>\n",
       "    </tr>\n",
       "  </thead>\n",
       "  <tbody>\n",
       "    <tr>\n",
       "      <th>664784</th>\n",
       "      <td>Data Scientist</td>\n",
       "      <td>Analytics Education and Implementation Specialist</td>\n",
       "      <td>Tampa, FL</td>\n",
       "      <td>via ZipRecruiter</td>\n",
       "      <td>Full-time</td>\n",
       "      <td>False</td>\n",
       "      <td>Florida, United States</td>\n",
       "      <td>2023-12-13 10:02:59</td>\n",
       "      <td>False</td>\n",
       "      <td>False</td>\n",
       "      <td>United States</td>\n",
       "      <td>None</td>\n",
       "      <td>NaN</td>\n",
       "      <td>NaN</td>\n",
       "      <td>Tampa General Hospital</td>\n",
       "      <td>['qlik', 'power bi', 'tableau']</td>\n",
       "      <td>{'analyst_tools': ['qlik', 'power bi', 'tablea...</td>\n",
       "    </tr>\n",
       "    <tr>\n",
       "      <th>188803</th>\n",
       "      <td>Data Engineer</td>\n",
       "      <td>Big Data Engineer</td>\n",
       "      <td>Toulouse, France</td>\n",
       "      <td>via Emplois Trabajo.org</td>\n",
       "      <td>Full-time</td>\n",
       "      <td>False</td>\n",
       "      <td>France</td>\n",
       "      <td>2023-03-30 15:34:46</td>\n",
       "      <td>False</td>\n",
       "      <td>False</td>\n",
       "      <td>France</td>\n",
       "      <td>None</td>\n",
       "      <td>NaN</td>\n",
       "      <td>NaN</td>\n",
       "      <td>CELAD</td>\n",
       "      <td>['java', 'scala', 'sql', 'redis', 'spark', 'ka...</td>\n",
       "      <td>{'databases': ['redis'], 'libraries': ['spark'...</td>\n",
       "    </tr>\n",
       "    <tr>\n",
       "      <th>89599</th>\n",
       "      <td>Data Analyst</td>\n",
       "      <td>Data Analyst Consultant</td>\n",
       "      <td>Porto, Portugal</td>\n",
       "      <td>via EMPREGO</td>\n",
       "      <td>Full-time</td>\n",
       "      <td>False</td>\n",
       "      <td>Portugal</td>\n",
       "      <td>2023-03-24 00:29:04</td>\n",
       "      <td>False</td>\n",
       "      <td>False</td>\n",
       "      <td>Portugal</td>\n",
       "      <td>None</td>\n",
       "      <td>NaN</td>\n",
       "      <td>NaN</td>\n",
       "      <td>Hitachi Solutions</td>\n",
       "      <td>['sql', 'c#', 'python', 'r']</td>\n",
       "      <td>{'programming': ['sql', 'c#', 'python', 'r']}</td>\n",
       "    </tr>\n",
       "    <tr>\n",
       "      <th>128887</th>\n",
       "      <td>Data Engineer</td>\n",
       "      <td>Data Visualization Engineer</td>\n",
       "      <td>Panama City, Panama</td>\n",
       "      <td>via BeBee Panamá</td>\n",
       "      <td>Full-time</td>\n",
       "      <td>False</td>\n",
       "      <td>Panama</td>\n",
       "      <td>2023-09-28 08:48:23</td>\n",
       "      <td>True</td>\n",
       "      <td>False</td>\n",
       "      <td>Panama</td>\n",
       "      <td>None</td>\n",
       "      <td>NaN</td>\n",
       "      <td>NaN</td>\n",
       "      <td>The Estée Lauder Companies</td>\n",
       "      <td>['python', 'sql', 'spark', 'hadoop', 'power bi...</td>\n",
       "      <td>{'analyst_tools': ['power bi', 'dax', 'tableau...</td>\n",
       "    </tr>\n",
       "    <tr>\n",
       "      <th>340863</th>\n",
       "      <td>Business Analyst</td>\n",
       "      <td>Analyst</td>\n",
       "      <td>Australia</td>\n",
       "      <td>via Jobrapido.com</td>\n",
       "      <td>Full-time</td>\n",
       "      <td>False</td>\n",
       "      <td>Australia</td>\n",
       "      <td>2023-01-02 23:31:25</td>\n",
       "      <td>False</td>\n",
       "      <td>False</td>\n",
       "      <td>Australia</td>\n",
       "      <td>None</td>\n",
       "      <td>NaN</td>\n",
       "      <td>NaN</td>\n",
       "      <td>Iri</td>\n",
       "      <td>['excel', 'word', 'powerpoint']</td>\n",
       "      <td>{'analyst_tools': ['excel', 'word', 'powerpoin...</td>\n",
       "    </tr>\n",
       "    <tr>\n",
       "      <th>...</th>\n",
       "      <td>...</td>\n",
       "      <td>...</td>\n",
       "      <td>...</td>\n",
       "      <td>...</td>\n",
       "      <td>...</td>\n",
       "      <td>...</td>\n",
       "      <td>...</td>\n",
       "      <td>...</td>\n",
       "      <td>...</td>\n",
       "      <td>...</td>\n",
       "      <td>...</td>\n",
       "      <td>...</td>\n",
       "      <td>...</td>\n",
       "      <td>...</td>\n",
       "      <td>...</td>\n",
       "      <td>...</td>\n",
       "      <td>...</td>\n",
       "    </tr>\n",
       "    <tr>\n",
       "      <th>579273</th>\n",
       "      <td>Data Engineer</td>\n",
       "      <td>Data Engineer (Contract)</td>\n",
       "      <td>Yerevan, Armenia</td>\n",
       "      <td>via LinkedIn Armenia</td>\n",
       "      <td>Full-time and Contractor</td>\n",
       "      <td>False</td>\n",
       "      <td>Armenia</td>\n",
       "      <td>2023-12-28 10:52:03</td>\n",
       "      <td>False</td>\n",
       "      <td>False</td>\n",
       "      <td>Armenia</td>\n",
       "      <td>None</td>\n",
       "      <td>NaN</td>\n",
       "      <td>NaN</td>\n",
       "      <td>ServiceTitan Armenia</td>\n",
       "      <td>['python', 'java', 'sql', 'snowflake', 'spark'...</td>\n",
       "      <td>{'cloud': ['snowflake'], 'libraries': ['spark'...</td>\n",
       "    </tr>\n",
       "    <tr>\n",
       "      <th>210368</th>\n",
       "      <td>Data Engineer</td>\n",
       "      <td>Data Engineer (Snowflake)</td>\n",
       "      <td>Anywhere</td>\n",
       "      <td>via LinkedIn</td>\n",
       "      <td>Contractor</td>\n",
       "      <td>True</td>\n",
       "      <td>Georgia</td>\n",
       "      <td>2023-09-19 22:35:43</td>\n",
       "      <td>False</td>\n",
       "      <td>False</td>\n",
       "      <td>United States</td>\n",
       "      <td>None</td>\n",
       "      <td>NaN</td>\n",
       "      <td>NaN</td>\n",
       "      <td>Oreva Technologies, Inc.</td>\n",
       "      <td>['sql', 'python', 'snowflake']</td>\n",
       "      <td>{'cloud': ['snowflake'], 'programming': ['sql'...</td>\n",
       "    </tr>\n",
       "    <tr>\n",
       "      <th>648333</th>\n",
       "      <td>Business Analyst</td>\n",
       "      <td>Verification Business Analyst</td>\n",
       "      <td>The Hague, Netherlands</td>\n",
       "      <td>via BeBee</td>\n",
       "      <td>Temp work</td>\n",
       "      <td>False</td>\n",
       "      <td>Netherlands</td>\n",
       "      <td>2023-10-06 12:17:12</td>\n",
       "      <td>False</td>\n",
       "      <td>False</td>\n",
       "      <td>Netherlands</td>\n",
       "      <td>None</td>\n",
       "      <td>NaN</td>\n",
       "      <td>NaN</td>\n",
       "      <td>Organisation for the Prohibition of Chemical W...</td>\n",
       "      <td>['azure', 'react', 'qlik', 'power bi', 'tableau']</td>\n",
       "      <td>{'analyst_tools': ['qlik', 'power bi', 'tablea...</td>\n",
       "    </tr>\n",
       "    <tr>\n",
       "      <th>125746</th>\n",
       "      <td>Data Engineer</td>\n",
       "      <td>Data Engineer</td>\n",
       "      <td>Florham Park, NJ</td>\n",
       "      <td>via CAIA Career Center</td>\n",
       "      <td>Full-time</td>\n",
       "      <td>False</td>\n",
       "      <td>Georgia</td>\n",
       "      <td>2023-05-10 08:38:07</td>\n",
       "      <td>False</td>\n",
       "      <td>False</td>\n",
       "      <td>United States</td>\n",
       "      <td>None</td>\n",
       "      <td>NaN</td>\n",
       "      <td>NaN</td>\n",
       "      <td>Barclays</td>\n",
       "      <td>['python', 'sql', 'aws', 'kubernetes', 'docker']</td>\n",
       "      <td>{'cloud': ['aws'], 'other': ['kubernetes', 'do...</td>\n",
       "    </tr>\n",
       "    <tr>\n",
       "      <th>212807</th>\n",
       "      <td>Data Analyst</td>\n",
       "      <td>Data Analytics Training &amp; Internship</td>\n",
       "      <td>Anywhere</td>\n",
       "      <td>via LinkedIn</td>\n",
       "      <td>None</td>\n",
       "      <td>True</td>\n",
       "      <td>Australia</td>\n",
       "      <td>2023-03-20 22:20:24</td>\n",
       "      <td>False</td>\n",
       "      <td>False</td>\n",
       "      <td>Australia</td>\n",
       "      <td>None</td>\n",
       "      <td>NaN</td>\n",
       "      <td>NaN</td>\n",
       "      <td>OESON</td>\n",
       "      <td>['python', 'r', 'sql', 'excel', 'tableau']</td>\n",
       "      <td>{'analyst_tools': ['excel', 'tableau'], 'progr...</td>\n",
       "    </tr>\n",
       "  </tbody>\n",
       "</table>\n",
       "<p>78574 rows × 17 columns</p>\n",
       "</div>"
      ],
      "text/plain": [
       "         job_title_short                                          job_title  \\\n",
       "664784    Data Scientist  Analytics Education and Implementation Specialist   \n",
       "188803     Data Engineer                                  Big Data Engineer   \n",
       "89599       Data Analyst                            Data Analyst Consultant   \n",
       "128887     Data Engineer                        Data Visualization Engineer   \n",
       "340863  Business Analyst                                            Analyst   \n",
       "...                  ...                                                ...   \n",
       "579273     Data Engineer                           Data Engineer (Contract)   \n",
       "210368     Data Engineer                          Data Engineer (Snowflake)   \n",
       "648333  Business Analyst                      Verification Business Analyst   \n",
       "125746     Data Engineer                                      Data Engineer   \n",
       "212807      Data Analyst               Data Analytics Training & Internship   \n",
       "\n",
       "                  job_location                  job_via  \\\n",
       "664784               Tampa, FL         via ZipRecruiter   \n",
       "188803        Toulouse, France  via Emplois Trabajo.org   \n",
       "89599          Porto, Portugal              via EMPREGO   \n",
       "128887     Panama City, Panama         via BeBee Panamá   \n",
       "340863               Australia        via Jobrapido.com   \n",
       "...                        ...                      ...   \n",
       "579273        Yerevan, Armenia     via LinkedIn Armenia   \n",
       "210368                Anywhere             via LinkedIn   \n",
       "648333  The Hague, Netherlands                via BeBee   \n",
       "125746        Florham Park, NJ   via CAIA Career Center   \n",
       "212807                Anywhere             via LinkedIn   \n",
       "\n",
       "               job_schedule_type  job_work_from_home         search_location  \\\n",
       "664784                 Full-time               False  Florida, United States   \n",
       "188803                 Full-time               False                  France   \n",
       "89599                  Full-time               False                Portugal   \n",
       "128887                 Full-time               False                  Panama   \n",
       "340863                 Full-time               False               Australia   \n",
       "...                          ...                 ...                     ...   \n",
       "579273  Full-time and Contractor               False                 Armenia   \n",
       "210368                Contractor                True                 Georgia   \n",
       "648333                 Temp work               False             Netherlands   \n",
       "125746                 Full-time               False                 Georgia   \n",
       "212807                      None                True               Australia   \n",
       "\n",
       "           job_posted_date  job_no_degree_mention  job_health_insurance  \\\n",
       "664784 2023-12-13 10:02:59                  False                 False   \n",
       "188803 2023-03-30 15:34:46                  False                 False   \n",
       "89599  2023-03-24 00:29:04                  False                 False   \n",
       "128887 2023-09-28 08:48:23                   True                 False   \n",
       "340863 2023-01-02 23:31:25                  False                 False   \n",
       "...                    ...                    ...                   ...   \n",
       "579273 2023-12-28 10:52:03                  False                 False   \n",
       "210368 2023-09-19 22:35:43                  False                 False   \n",
       "648333 2023-10-06 12:17:12                  False                 False   \n",
       "125746 2023-05-10 08:38:07                  False                 False   \n",
       "212807 2023-03-20 22:20:24                  False                 False   \n",
       "\n",
       "          job_country salary_rate  salary_year_avg  salary_hour_avg  \\\n",
       "664784  United States        None              NaN              NaN   \n",
       "188803         France        None              NaN              NaN   \n",
       "89599        Portugal        None              NaN              NaN   \n",
       "128887         Panama        None              NaN              NaN   \n",
       "340863      Australia        None              NaN              NaN   \n",
       "...               ...         ...              ...              ...   \n",
       "579273        Armenia        None              NaN              NaN   \n",
       "210368  United States        None              NaN              NaN   \n",
       "648333    Netherlands        None              NaN              NaN   \n",
       "125746  United States        None              NaN              NaN   \n",
       "212807      Australia        None              NaN              NaN   \n",
       "\n",
       "                                             company_name  \\\n",
       "664784                             Tampa General Hospital   \n",
       "188803                                              CELAD   \n",
       "89599                                   Hitachi Solutions   \n",
       "128887                         The Estée Lauder Companies   \n",
       "340863                                                Iri   \n",
       "...                                                   ...   \n",
       "579273                               ServiceTitan Armenia   \n",
       "210368                           Oreva Technologies, Inc.   \n",
       "648333  Organisation for the Prohibition of Chemical W...   \n",
       "125746                                           Barclays   \n",
       "212807                                              OESON   \n",
       "\n",
       "                                               job_skills  \\\n",
       "664784                    ['qlik', 'power bi', 'tableau']   \n",
       "188803  ['java', 'scala', 'sql', 'redis', 'spark', 'ka...   \n",
       "89599                        ['sql', 'c#', 'python', 'r']   \n",
       "128887  ['python', 'sql', 'spark', 'hadoop', 'power bi...   \n",
       "340863                    ['excel', 'word', 'powerpoint']   \n",
       "...                                                   ...   \n",
       "579273  ['python', 'java', 'sql', 'snowflake', 'spark'...   \n",
       "210368                     ['sql', 'python', 'snowflake']   \n",
       "648333  ['azure', 'react', 'qlik', 'power bi', 'tableau']   \n",
       "125746   ['python', 'sql', 'aws', 'kubernetes', 'docker']   \n",
       "212807         ['python', 'r', 'sql', 'excel', 'tableau']   \n",
       "\n",
       "                                          job_type_skills  \n",
       "664784  {'analyst_tools': ['qlik', 'power bi', 'tablea...  \n",
       "188803  {'databases': ['redis'], 'libraries': ['spark'...  \n",
       "89599       {'programming': ['sql', 'c#', 'python', 'r']}  \n",
       "128887  {'analyst_tools': ['power bi', 'dax', 'tableau...  \n",
       "340863  {'analyst_tools': ['excel', 'word', 'powerpoin...  \n",
       "...                                                   ...  \n",
       "579273  {'cloud': ['snowflake'], 'libraries': ['spark'...  \n",
       "210368  {'cloud': ['snowflake'], 'programming': ['sql'...  \n",
       "648333  {'analyst_tools': ['qlik', 'power bi', 'tablea...  \n",
       "125746  {'cloud': ['aws'], 'other': ['kubernetes', 'do...  \n",
       "212807  {'analyst_tools': ['excel', 'tableau'], 'progr...  \n",
       "\n",
       "[78574 rows x 17 columns]"
      ]
     },
     "execution_count": 31,
     "metadata": {},
     "output_type": "execute_result"
    }
   ],
   "source": [
    "df.sample(frac = 0.1, replace = False)"
   ]
  },
  {
   "cell_type": "markdown",
   "metadata": {
    "id": "SaswZVCV607G"
   },
   "source": [
    "Now you can analyze these subsets of data.\n"
   ]
  }
 ],
 "metadata": {
  "colab": {
   "authorship_tag": "ABX9TyMObIonlGeNln8bZdiSLSYM",
   "provenance": []
  },
  "kernelspec": {
   "display_name": "Python 3",
   "name": "python3"
  },
  "language_info": {
   "codemirror_mode": {
    "name": "ipython",
    "version": 3
   },
   "file_extension": ".py",
   "mimetype": "text/x-python",
   "name": "python",
   "nbconvert_exporter": "python",
   "pygments_lexer": "ipython3",
   "version": "3.13.7"
  }
 },
 "nbformat": 4,
 "nbformat_minor": 0
}
