{
 "cells": [
  {
   "cell_type": "markdown",
   "id": "9f1f818e",
   "metadata": {},
   "source": [
    "Matplotlib Box Plots\n"
   ]
  },
  {
   "cell_type": "markdown",
   "id": "12483335",
   "metadata": {},
   "source": [
    "Load data.\n"
   ]
  },
  {
   "cell_type": "code",
   "execution_count": 1,
   "id": "1d01c408",
   "metadata": {},
   "outputs": [],
   "source": [
    "# Importing Libraries\n",
    "import ast\n",
    "import pandas as pd\n",
    "from datasets import load_dataset\n",
    "import matplotlib.pyplot as plt  \n",
    "\n",
    "# Loading Data\n",
    "dataset = load_dataset('lukebarousse/data_jobs')\n",
    "df = dataset['train'].to_pandas()\n",
    "\n",
    "# Data Cleanup\n",
    "df['job_posted_date'] = pd.to_datetime(df['job_posted_date'])\n",
    "df['job_skills'] = df['job_skills'].apply(lambda x: ast.literal_eval(x) if pd.notna(x) else x)"
   ]
  },
  {
   "cell_type": "markdown",
   "id": "76f2a18c",
   "metadata": {},
   "source": [
    "Notes\n",
    "\n",
    "General\n",
    "\n",
    "- `boxplot()`: plot a box plot\n",
    "- Common Parameters:\n",
    "  - `column` - column(s) to plot\n",
    "  - `by` - if specified, data will be grouped and a box plot for each group will be plotted\n",
    "  - `vert` - if False, plots horizontal boxplots\n",
    "- - Syntax: `boxplot(column=['column1', 'column2', ...], by=None, vert=False)`\n",
    "\n",
    "General Info\n",
    "\n",
    "- Purpose:\n",
    "  - Visualize the distribution of a dataset by displaying the summary statistics (minimum, first quartile, median, third quartile, and maximum).\n",
    "  - Identify outliers and skewness in the data.\n",
    "  - Compare distributions across multiple groups.\n",
    "\n",
    "![Boxplot](https://miro.medium.com/max/9000/1*2c21SkzJMf3frPXPAR_gZA.png)\n",
    "_Source: https://www.kdnuggets.com/2019/11/understanding-boxplots.html_\n",
    "\n",
    "- Description: A box plot consists of a box representing the interquartile range (IQR), a line inside the box representing the median, and whiskers extending from the box to the minimum and maximum values within 1.5 times the IQR. Outliers beyond this range are plotted as individual points.\n",
    "- Interpretation:\n",
    "  - Box height represents the IQR (middle 50% of data).\n",
    "  - Median line divides the box into the 25th and 75th percentiles.\n",
    "  - Whiskers show the range of non-outlier data points.\n",
    "  - Outliers are plotted as individual points beyond the whiskers.\n",
    "\n",
    "Advantages\n",
    "\n",
    "- Compact visualization of key summary statistics.\n",
    "- Easy to compare distributions across multiple groups.\n",
    "- Identifies skewness and outliers in the data.\n"
   ]
  },
  {
   "cell_type": "markdown",
   "id": "aa412667",
   "metadata": {},
   "source": [
    "Example 1\n",
    "\n",
    "Create a box plot to see the distribution of `salary_year_avg` for the DataFrame.\n"
   ]
  },
  {
   "cell_type": "code",
   "execution_count": 8,
   "id": "5e898083",
   "metadata": {},
   "outputs": [],
   "source": [
    "# Only get data analyst jobs\n",
    "df_DA_US = df[(df['job_title_short'] == 'Data Analyst') & (df['job_country'] == 'United States')].copy()\n",
    "\n",
    "# Drop NaN values from the column for plotting\n",
    "df_DA_US = df_DA_US.dropna(subset=['salary_year_avg'])"
   ]
  },
  {
   "cell_type": "code",
   "execution_count": 9,
   "id": "4bbbbb74",
   "metadata": {},
   "outputs": [
    {
     "data": {
      "image/png": "[encoded data removed]",
      "text/plain": [
       "<Figure size 640x480 with 1 Axes>"
      ]
     },
     "metadata": {},
     "output_type": "display_data"
    }
   ],
   "source": [
    "df_DA_US['salary_year_avg'].plot(kind='box', vert=False)\n",
    "# Alternatively, you can use matplotlib\n",
    "# plt.boxplot(df_DA_US['salary_year_avg'])\n",
    "\n",
    "plt.title('Salary Distributions for Data Analyst in the US')\n",
    "plt.ylabel('Median Salary ($USD)')\n",
    "plt.show()"
   ]
  },
  {
   "cell_type": "markdown",
   "id": "32bd357b",
   "metadata": {},
   "source": [
    "Interpretation\n",
    "\n",
    "- Median Salary: The green line in the box indicates the median salary, which appears to be around $100,000.\n",
    "- Interquartile Range (IQR): The box itself spans from approximately $65,000 (lower quartile) to $125,000 (upper quartile). This range represents the middle 50% of the salary data.\n",
    "- Whiskers: The lines extending from the box (whiskers) suggest the range of typical salaries beyond the IQR. The lower whisker extends to about $50,000, indicating the minimum typical salary. The upper whisker goes up to about $175,000, suggesting the maximum typical salary before considering outliers.\n",
    "- Outliers: Salaries represented by dots above the upper whisker are considered outliers. There are several outliers ranging up to approximately $350,000, indicating salaries that are unusually high compared to the general distribution.\n"
   ]
  },
  {
   "cell_type": "code",
   "execution_count": null,
   "id": "8a9cd38b",
   "metadata": {},
   "outputs": [],
   "source": [
    "# plot histogram and boxplot for df_DA_US['salary_year_avg'] on same figure\n",
    "\n",
    "fig, ax = plt.subplots(2, 1)\n",
    "fig.tight_layout(h_pad=1)\n",
    "\n",
    "df_DA_US['salary_year_avg'].plot(kind='hist', ax=ax[0], bins=30, edgecolor='white')\n",
    "ax[0].set_title('Salary Distributions for Data Analyst in the US')\n",
    "ax[0].set_xlabel('')\n",
    "ax[0].set_ylabel('Frequency')\n",
    "ax[0].xaxis.set_major_formatter(plt.FuncFormatter(lambda x, val: '${0:g}k'.format(x/1000)))\n",
    "\n",
    "# Add vertical lines\n",
    "ax[0].axvlines(df_DA_US['salary_year_avg'].median(), color='r', linestyle='--')\n",
    "ax[0].axvlines(df_DA_US['salary_year_avg'].quantile(0.25), color='y', linestyle='--')\n",
    "ax[0].axvlines(df_DA_US['salary_year_avg'].quantile(0.75), color='y', linestyle='--')\n",
    "ax[0].legend(['', 'Median', 'Q1 & Q3'])\n",
    "\n",
    "\n"
   ]
  }
 ],
 "metadata": {
  "kernelspec": {
   "display_name": "Python 3",
   "language": "python",
   "name": "python3"
  },
  "language_info": {
   "codemirror_mode": {
    "name": "ipython",
    "version": 3
   },
   "file_extension": ".py",
   "mimetype": "text/x-python",
   "name": "python",
   "nbconvert_exporter": "python",
   "pygments_lexer": "ipython3",
   "version": "3.13.7"
  }
 },
 "nbformat": 4,
 "nbformat_minor": 5
}
